{
 "cells": [
  {
   "cell_type": "code",
   "execution_count": 1,
   "id": "647c81bf",
   "metadata": {},
   "outputs": [],
   "source": [
    "import numpy as np\n",
    "import pandas as pd\n",
    "import matplotlib.pyplot as plt\n",
    "import itertools\n",
    "import imageio"
   ]
  },
  {
   "cell_type": "markdown",
   "id": "4c2a866b",
   "metadata": {},
   "source": [
    "# Gen some data"
   ]
  },
  {
   "cell_type": "code",
   "execution_count": 2,
   "id": "417bcb2c",
   "metadata": {},
   "outputs": [
    {
     "data": {
      "image/png": "[encoded data removed]",
      "text/plain": [
       "<Figure size 576x576 with 1 Axes>"
      ]
     },
     "metadata": {
      "needs_background": "light"
     },
     "output_type": "display_data"
    }
   ],
   "source": [
    "data_dim = 2\n",
    "data_count = 8\n",
    "data = np.random.randint(data_count, size=(data_count, data_dim))\n",
    "data = np.unique(data, axis=0)\n",
    "sample = 'randint'\n",
    "\n",
    "data = np.random.normal(size=(data_count, data_dim))\n",
    "sample = 'normal'\n",
    "\n",
    "plt.figure(figsize=(8, 8))\n",
    "plt.scatter(data[:, 0], data[:, 1], color='indigo', linewidth=8)\n",
    "plt.grid(True)\n",
    "plt.show()"
   ]
  },
  {
   "cell_type": "markdown",
   "id": "304a592e",
   "metadata": {},
   "source": [
    "# Search 2-dim simplex info"
   ]
  },
  {
   "cell_type": "code",
   "execution_count": 3,
   "id": "5c793c92",
   "metadata": {},
   "outputs": [],
   "source": [
    "def get_edges_radiuses(data, norm=np.linalg.norm):\n",
    "    \"\"\"\n",
    "    Returns radiuses, which are half of distance between verticies\n",
    "    \n",
    "    Parameters:\n",
    "    -------\n",
    "    data : np.2darray\n",
    "        Income data, array of verticies.\n",
    "    \n",
    "    norm : function\n",
    "        Matrix or vector norm.\n",
    "    \n",
    "    Returns:\n",
    "    --------\n",
    "    res : Dictionary\n",
    "        Keys are radiuses, values are lists of vertex pairs.\n",
    "    \"\"\"\n",
    "    distance = data*np.ones([data.shape[0], data.shape[0], data.shape[1]])\n",
    "    distance = distance - np.transpose(distance, axes=(1, 0, 2))\n",
    "    distance = norm(distance, axis=2)\n",
    "    diameters = np.unique(distance[distance!= 0])\n",
    "    \n",
    "    res = {}\n",
    "    for d in diameters:\n",
    "        r = 0.5*d\n",
    "        res.update({r : np.where(np.triu(distance) == d)})\n",
    "        res[r] = list(np.array(res[r]).transpose())\n",
    "        res[r] = [tuple(i) for i in res[r]]\n",
    "    return res"
   ]
  },
  {
   "cell_type": "code",
   "execution_count": 4,
   "id": "515be812",
   "metadata": {},
   "outputs": [],
   "source": [
    "def get_edges(data, norm=np.linalg.norm):\n",
    "    \"\"\"\n",
    "    Returns dict: keys are vertex pairs? values are halfs of lengths.\n",
    "    \n",
    "    Parameters:\n",
    "    -------\n",
    "    data : np.2darray\n",
    "        Income data, array of verticies.\n",
    "    \n",
    "    norm : function\n",
    "        Matrix or vector norm.\n",
    "    \n",
    "    Returns:\n",
    "    --------\n",
    "        res : Dictionary\n",
    "    \"\"\"\n",
    "    res = {}\n",
    "    for i in itertools.combinations(np.arange(len(data)), 2):\n",
    "        a, b = data[[i]]\n",
    "        res.update({tuple(i) : {'radius' : 0.5*norm(a - b)}})\n",
    "    return res"
   ]
  },
  {
   "cell_type": "markdown",
   "id": "3e9cc282",
   "metadata": {},
   "source": [
    "# Search 3-dim simplex info"
   ]
  },
  {
   "cell_type": "code",
   "execution_count": 5,
   "id": "d874088d",
   "metadata": {},
   "outputs": [],
   "source": [
    "def get_triangle_radius(a, b, c, norm=np.linalg.norm):\n",
    "    \"\"\"\n",
    "    Returns radius of circumscribed circle of triangle.\n",
    "    \n",
    "    Parameters:\n",
    "    -------\n",
    "    a : np.ndarray\n",
    "        Vertex\n",
    "        \n",
    "    b : np.ndarray\n",
    "        Vertex\n",
    "        \n",
    "    c : np.ndarray\n",
    "        Vertex\n",
    "    \n",
    "    scalar : function\n",
    "        Dot product of two arrays.\n",
    "    \n",
    "    norm : function\n",
    "        Matrix or vector norm.\n",
    "    \n",
    "    Returns:\n",
    "    --------\n",
    "    r : float\n",
    "        Radius.\n",
    "    \"\"\"\n",
    "    al = norm(a-b)\n",
    "    bl = norm(b-c)\n",
    "    cl = norm(c-a)\n",
    "    p = 0.5*(al+bl+cl)\n",
    "    top = al*bl*cl\n",
    "    bot = 4 * np.sqrt(p*(p-al)*(p-bl)*(p-cl))\n",
    "    r = top/bot\n",
    "    return r"
   ]
  },
  {
   "cell_type": "code",
   "execution_count": 6,
   "id": "1bd967df",
   "metadata": {},
   "outputs": [],
   "source": [
    "def get_triangle_center(a, b, c):\n",
    "    \"\"\"\n",
    "    Returns center of circumscribed circle of triangle.\n",
    "    \n",
    "    Parameters:\n",
    "    -------\n",
    "    a : np.ndarray\n",
    "        Vertex\n",
    "        \n",
    "    b : np.ndarray\n",
    "        Vertex\n",
    "        \n",
    "    c : np.ndarray\n",
    "        Vertex\n",
    "    \n",
    "    Returns:\n",
    "    --------\n",
    "    v : np.ndarray\n",
    "        Center.\n",
    "    \"\"\"\n",
    "    # Будем исходить из того, что точки - двумерные\n",
    "    # Центром описанной около треугольника окружности является точка, в которой \n",
    "    # пересекаются все серединные перпендикуляры, проведённые к сторонам треугольника.\n",
    "    m = []\n",
    "    l = []\n",
    "    for i in itertools.combinations([a, b, c], 2):\n",
    "        va = i[0]\n",
    "        vb = i[1]\n",
    "        m.append(va - vb)\n",
    "        l.append(0.5*((va+vb)*(va-vb)).sum())\n",
    "    m = np.array(m)\n",
    "    l = np.array(l)\n",
    "    v = np.linalg.solve(m[:-1], l[:-1])\n",
    "    return v"
   ]
  },
  {
   "cell_type": "code",
   "execution_count": 7,
   "id": "0d4203a6",
   "metadata": {},
   "outputs": [],
   "source": [
    "def point_in_triangle(a, b, c, p):\n",
    "    \"\"\"\n",
    "    Returns True if point p is in triangle abc.\n",
    "    \n",
    "    Parameters:\n",
    "    -----------\n",
    "    a : np.ndarray\n",
    "        Vertex\n",
    "        \n",
    "    b : np.ndarray\n",
    "        Vertex\n",
    "        \n",
    "    c : np.ndarray\n",
    "        Vertex\n",
    "    \n",
    "    o : np.ndarray\n",
    "        Vertex\n",
    "        \n",
    "    Returns:\n",
    "    --------\n",
    "        g : bool\n",
    "    \n",
    "    \"\"\"\n",
    "    # Будем исходить из того, что точки - двумерные\n",
    "    g = True\n",
    "    for i in itertools.permutations([a, b, c], 3):\n",
    "        va, vb, vc = i\n",
    "        f = lambda x: ((x-va)*(vb-va)).sum()\n",
    "        if f(p)*f(vc) < 0:\n",
    "            g = False\n",
    "            break\n",
    "    return g"
   ]
  },
  {
   "cell_type": "code",
   "execution_count": 8,
   "id": "a19ae1c7",
   "metadata": {},
   "outputs": [
    {
     "name": "stdout",
     "output_type": "stream",
     "text": [
      "A: [-0.6369486   0.05185006] \n",
      "B: [ 2.14194767 -1.1348667 ] \n",
      "C: [-2.99485921 -0.24724781] \n",
      "\n",
      "R: 5.157833911702433\n",
      "O: [-1.18430403 -5.07685862] \n",
      "\n",
      "O is in ABC: False\n"
     ]
    },
    {
     "data": {
      "image/png": "[encoded data removed]",
      "text/plain": [
       "<Figure size 432x432 with 1 Axes>"
      ]
     },
     "metadata": {
      "needs_background": "light"
     },
     "output_type": "display_data"
    }
   ],
   "source": [
    "a, b, c = data[[0, 1, 2]]\n",
    "print('A:', a, '\\nB:', b, '\\nC:', c, '\\n')\n",
    "print('R:', get_triangle_radius(a, b, c))\n",
    "print('O:', get_triangle_center(a, b, c), '\\n')\n",
    "\n",
    "o = get_triangle_center(a, b, c)\n",
    "print('O is in ABC:', point_in_triangle(a, b, c, o))\n",
    "\n",
    "plt.figure(figsize=(6, 6))\n",
    "plt.scatter(a[0], a[1], color='indigo', linewidth=8)\n",
    "plt.scatter(b[0], b[1], color='indigo', linewidth=8)\n",
    "plt.scatter(c[0], c[1], color='indigo', linewidth=8)\n",
    "plt.scatter(o[0], o[1], color='orchid', linewidth=8)\n",
    "plt.plot([a[0], b[0], c[0], a[0]], [a[1], b[1], c[1], a[1]], linewidth=2, color='steelblue')\n",
    "plt.grid(True)\n",
    "plt.show()"
   ]
  },
  {
   "cell_type": "code",
   "execution_count": 9,
   "id": "d9e70e22",
   "metadata": {},
   "outputs": [],
   "source": [
    "def get_triangles(data, norm=np.linalg.norm):\n",
    "    \"\"\"\n",
    "    Returns dict: keys are triples of indices, values are dicts contains radius and center \n",
    "    \n",
    "    Parameters:\n",
    "    -----------\n",
    "    data : np.2darray\n",
    "        Income data, array of verticies.\n",
    "    \n",
    "    norm : function\n",
    "        Matrix or vector norm.\n",
    "    \n",
    "    Returns:\n",
    "    --------\n",
    "    res : Dictionary\n",
    "    \"\"\"\n",
    "    res = {}\n",
    "    for i in itertools.combinations(np.arange(len(data)), 3):\n",
    "        a, b, c = data[[i]]\n",
    "        res.update({tuple(i) : {'radius' : get_triangle_radius(a, b, c, norm), 'center' : get_triangle_center(a, b, c)}})\n",
    "    return res"
   ]
  },
  {
   "cell_type": "markdown",
   "id": "7f84aa06",
   "metadata": {},
   "source": [
    "# Radius research"
   ]
  },
  {
   "cell_type": "code",
   "execution_count": 10,
   "id": "71ad3099",
   "metadata": {},
   "outputs": [],
   "source": [
    "def copy_dict(d):\n",
    "    \"\"\"\n",
    "    Returns copy of dictionary.\n",
    "    \n",
    "    Parameters:\n",
    "    -----------\n",
    "    d : dict\n",
    "    \n",
    "    Returns:\n",
    "    --------\n",
    "    r : dict\n",
    "    \"\"\"\n",
    "    r = {}\n",
    "    for key in d.keys():\n",
    "        if type(d[key]) == dict:\n",
    "            r.update({key : copy_dict(d[key])})\n",
    "        else:\n",
    "            try:\n",
    "                r.update({key : d[key].copy()})\n",
    "            except AttributeError:\n",
    "                r.update({key : d[key]})\n",
    "    return r"
   ]
  },
  {
   "cell_type": "code",
   "execution_count": 11,
   "id": "8869f85a",
   "metadata": {},
   "outputs": [],
   "source": [
    "def sort_dict(d):\n",
    "    \"\"\"\n",
    "    Sort dict keys.\n",
    "    \n",
    "    Parameters:\n",
    "    -----------\n",
    "        d : dict\n",
    "        \n",
    "    Returns:\n",
    "    --------\n",
    "        r : dict\n",
    "    \"\"\"\n",
    "    r = {}\n",
    "    for key in np.sort(list(d.keys())):\n",
    "        r.update({key : d[key]})\n",
    "    return r"
   ]
  },
  {
   "cell_type": "code",
   "execution_count": 12,
   "id": "df5a08cd",
   "metadata": {},
   "outputs": [],
   "source": [
    "def get_radius_data_2d(data, norm=np.linalg.norm):\n",
    "    \"\"\"\n",
    "    Returns dict: keys are radiuses.\n",
    "    \n",
    "    Parameters:\n",
    "    -----------\n",
    "    data : np.2darray\n",
    "        Income data, array of verticies.\n",
    "    \n",
    "    norm : function\n",
    "        Matrix or vector norm.\n",
    "    \n",
    "    Returns:\n",
    "    --------\n",
    "        res : Dictionary\n",
    "    --------\n",
    "    \"\"\"\n",
    "    res = {0 : {'edges' : [], 'triangles' : [], 'centers' : []}}\n",
    "    edges = get_edges(data, norm)\n",
    "    for edge in edges:\n",
    "        radius = edges[edge]['radius']\n",
    "        try:\n",
    "            res[radius]['edges'].append(edge)\n",
    "        except KeyError:\n",
    "            res.update({radius : {'edges' : [edge], 'triangles' : [], 'centers' : []}})\n",
    "    triangles = get_triangles(data, norm)\n",
    "    for triangle in triangles:\n",
    "        radius = triangles[triangle]['radius']\n",
    "        center = triangles[triangle]['center']\n",
    "        try:\n",
    "            res[radius]['triangles'].append(triangle)\n",
    "            res[radius]['centers'].append(center)\n",
    "        except KeyError:\n",
    "            res.update({radius : {'edges' : [], 'triangles' : [triangle], 'centers' : [center]}})\n",
    "    res = sort_dict(res)\n",
    "    return res"
   ]
  },
  {
   "cell_type": "markdown",
   "id": "16f6ac1e",
   "metadata": {},
   "source": [
    "# Check simplex status"
   ]
  },
  {
   "cell_type": "code",
   "execution_count": 13,
   "id": "488400c8",
   "metadata": {},
   "outputs": [],
   "source": [
    "# Stolen directly from https://web.archive.org/web/20111108065352/https://www.cs.mun.ca/~rod/2500/notes/numpy-arrays/numpy-arrays.html\n",
    "def perp(a):\n",
    "    b = np.empty_like(a)\n",
    "    b[0] = -a[1]\n",
    "    b[1] = a[0]\n",
    "    return b\n",
    "\n",
    "def seg_intersect(a1, a2, b1, b2):\n",
    "    da = a2-a1\n",
    "    db = b2-b1\n",
    "    dp = a1-b1\n",
    "    dap = perp(da)\n",
    "    denom = np.dot( dap, db)\n",
    "    num = np.dot( dap, dp )\n",
    "    return (num / denom.astype(float))*db + b1\n",
    "\n",
    "def seg_intersect_bool(a1, a2, b1, b2):\n",
    "    c = seg_intersect(a1, a2, b1, b2)\n",
    "    ga = ((c - a1)*(a2 - c) > 0).all()\n",
    "    gb = ((c - b1)*(b2 - c) > 0).all()\n",
    "    return ga and gb"
   ]
  },
  {
   "cell_type": "code",
   "execution_count": 14,
   "id": "60195553",
   "metadata": {},
   "outputs": [],
   "source": [
    "def edge_is_new(data, edge, old=[]):\n",
    "    \"\"\"\n",
    "    \n",
    "    \"\"\"\n",
    "    g = True\n",
    "    a0, a1 = data[[edge]]\n",
    "    for b in old:\n",
    "        b0, b1 = data[[b]]\n",
    "        if seg_intersect_bool(a0, a1, b0, b1):\n",
    "            g = False\n",
    "            break\n",
    "    return g"
   ]
  },
  {
   "cell_type": "code",
   "execution_count": null,
   "id": "29b9c581",
   "metadata": {},
   "outputs": [],
   "source": []
  },
  {
   "cell_type": "code",
   "execution_count": null,
   "id": "1371d0fc",
   "metadata": {},
   "outputs": [],
   "source": []
  },
  {
   "cell_type": "code",
   "execution_count": 15,
   "id": "e18f51bb",
   "metadata": {},
   "outputs": [],
   "source": [
    "def get_list(d, border, key):\n",
    "    d_keys = np.array(list(d.keys()))\n",
    "    d_keys = d_keys[d_keys <= border]\n",
    "    res = []\n",
    "    for d_key in d_keys:\n",
    "        res.extend(d[d_key][key])\n",
    "    return res"
   ]
  },
  {
   "cell_type": "code",
   "execution_count": 16,
   "id": "7c265a37",
   "metadata": {},
   "outputs": [],
   "source": [
    "def radius_spaces(data, norm=np.linalg.norm):\n",
    "    radiuses = get_radius_data_2d(data)\n",
    "    space_now = {0 : np.arange(len(data)), 1 : [], 2 : []}\n",
    "    res = {}\n",
    "    for key_radius in list(radiuses.keys()):\n",
    "        changes = key_radius == 0 \n",
    "        # Проверка новых рёбер\n",
    "        old_edges = space_now[1]\n",
    "        pot_edges = radiuses[key_radius]['edges']\n",
    "        new_edges = []\n",
    "        for edge in pot_edges:\n",
    "            if edge_is_new(data, edge, old_edges):\n",
    "                new_edges.append(edge)\n",
    "                changes = True\n",
    "        if changes:\n",
    "            space_now[1].extend(new_edges)\n",
    "            res.update({key_radius : copy_dict(space_now)})\n",
    "        \n",
    "        \n",
    "    return res"
   ]
  },
  {
   "cell_type": "code",
   "execution_count": 17,
   "id": "3772c1c0",
   "metadata": {},
   "outputs": [
    {
     "name": "stderr",
     "output_type": "stream",
     "text": [
      "/tmp/ipykernel_17039/3234434522.py:19: FutureWarning: Using a non-tuple sequence for multidimensional indexing is deprecated; use `arr[tuple(seq)]` instead of `arr[seq]`. In the future this will be interpreted as an array index, `arr[np.array(seq)]`, which will result either in an error or a different result.\n",
      "  a, b = data[[i]]\n",
      "/tmp/ipykernel_17039/3050924908.py:6: FutureWarning: Using a non-tuple sequence for multidimensional indexing is deprecated; use `arr[tuple(seq)]` instead of `arr[seq]`. In the future this will be interpreted as an array index, `arr[np.array(seq)]`, which will result either in an error or a different result.\n",
      "  a0, a1 = data[[edge]]\n",
      "/tmp/ipykernel_17039/3050924908.py:8: FutureWarning: Using a non-tuple sequence for multidimensional indexing is deprecated; use `arr[tuple(seq)]` instead of `arr[seq]`. In the future this will be interpreted as an array index, `arr[np.array(seq)]`, which will result either in an error or a different result.\n",
      "  b0, b1 = data[[b]]\n"
     ]
    },
    {
     "data": {
      "text/plain": [
       "18"
      ]
     },
     "execution_count": 17,
     "metadata": {},
     "output_type": "execute_result"
    }
   ],
   "source": [
    "spaces_rad = radius_spaces(data)\n",
    "len(spaces_rad)"
   ]
  },
  {
   "cell_type": "code",
   "execution_count": null,
   "id": "4b028852",
   "metadata": {},
   "outputs": [],
   "source": []
  },
  {
   "cell_type": "code",
   "execution_count": null,
   "id": "665fbfcb",
   "metadata": {},
   "outputs": [],
   "source": []
  },
  {
   "cell_type": "code",
   "execution_count": null,
   "id": "6c262e5e",
   "metadata": {},
   "outputs": [],
   "source": []
  },
  {
   "cell_type": "code",
   "execution_count": null,
   "id": "28133edd",
   "metadata": {},
   "outputs": [],
   "source": []
  },
  {
   "cell_type": "code",
   "execution_count": null,
   "id": "700cf62a",
   "metadata": {},
   "outputs": [],
   "source": []
  },
  {
   "cell_type": "code",
   "execution_count": null,
   "id": "bce06064",
   "metadata": {},
   "outputs": [],
   "source": []
  },
  {
   "cell_type": "code",
   "execution_count": null,
   "id": "158bf067",
   "metadata": {},
   "outputs": [],
   "source": []
  },
  {
   "cell_type": "code",
   "execution_count": null,
   "id": "c1b602b3",
   "metadata": {},
   "outputs": [],
   "source": []
  },
  {
   "cell_type": "markdown",
   "id": "028b5187",
   "metadata": {},
   "source": [
    "# Visualization"
   ]
  },
  {
   "cell_type": "code",
   "execution_count": 18,
   "id": "f4b7421c",
   "metadata": {},
   "outputs": [],
   "source": [
    "def draw_balls(data, radius, color='orchid', linewidth=0, alpha=0.5, circle_points=24, fill=True, ax=plt):\n",
    "    \"\"\"\n",
    "    Plots balls arround points from data.\n",
    "    \n",
    "    Parameters:\n",
    "    -----------\n",
    "    data : np.ndarray or list of np.ndarrays\n",
    "        List of points.\n",
    "        \n",
    "    radius : float\n",
    "        Ball radius.\n",
    "        \n",
    "    color : color or rgba tuple\n",
    "        \n",
    "    linewidth : scalar\n",
    "        \n",
    "    alpha : float\n",
    "        The alpha blending value, between 0 (transparent) and 1 (opaque).\n",
    "            \n",
    "    circle_points : int\n",
    "        Number of points in circle. (If fill is True, then that will be number of ponts in top and bot arc)\n",
    "        \n",
    "    fill : bool\n",
    "        Fill circle if True.\n",
    "        \n",
    "    ax : matplotlib.pyplot or Axes class\n",
    "    \"\"\"\n",
    "    if fill:\n",
    "        arc_x = radius*np.cos(np.pi*np.arange(circle_points+1)/circle_points)\n",
    "        arc_y1 = radius*np.sin(np.pi*np.arange(circle_points+1)/circle_points)\n",
    "        arc_y2 = radius*np.sin(-np.pi*np.arange(circle_points+1)/circle_points)\n",
    "        for point in data:\n",
    "            ax.fill_between(x=point[0] + arc_x, y1=point[1] + arc_y1, y2=point[1] + arc_y2,\n",
    "                            color=color, linewidth=linewidth, alpha=alpha)\n",
    "    else:\n",
    "        circle_x = radius*np.cos(2*np.pi*np.arange(circle_points+1)/circle_points)\n",
    "        circle_y = radius*np.sin(2*np.pi*np.arange(circle_points+1)/circle_points)\n",
    "        for point in data:\n",
    "            ax.plot(point[0] + circle_x, point[1] + circle_y, color=color, linewidth=linewidth, alpha=alpha)"
   ]
  },
  {
   "cell_type": "code",
   "execution_count": 19,
   "id": "c54e322c",
   "metadata": {},
   "outputs": [],
   "source": [
    "def draw_simplicies(data, edges=[], triangles=[],\n",
    "                    node_color='indigo', node_width=8, node_alpha=1,\n",
    "                    edge_color='steelblue', edge_width=4, edge_alpha=1,\n",
    "                    triangle_color='aquamarine', triangle_alpha=0.7, ax=plt):\n",
    "    \"\"\"\n",
    "    Plots nodes edges and triangles of all simplicies.\n",
    "    \n",
    "    Parameters:\n",
    "    -----------\n",
    "    data : np.ndarray or list of np.ndarrays\n",
    "        List of points (nodes).\n",
    "            \n",
    "    edges : list of tuples\n",
    "        List of node pairs.\n",
    "            \n",
    "    triangles : list of tuples\n",
    "        List of triangle triples.\n",
    "            \n",
    "    node_color : color or rgba tuple\n",
    "        Node color.\n",
    "            \n",
    "    node_width : scalar\n",
    "        Linewidth of nodes.\n",
    "        \n",
    "    node_alpha : float\n",
    "        The alpha blending value for node, between 0 (transparent) and 1 (opaque).\n",
    "\n",
    "    edge_color : color or rgba tuple\n",
    "        Edge color.\n",
    "            \n",
    "    edge_width : scalar\n",
    "        Linewidth of edges.\n",
    "        \n",
    "    edge_alpha : float\n",
    "        The alpha blending value for edge, between 0 (transparent) and 1 (opaque).\n",
    "            \n",
    "    triangle_color : color or rgba tuple\n",
    "        Triangle fill color.\n",
    "        \n",
    "    node_alpha : float\n",
    "        The alpha blending value for filled triangle, between 0 (transparent) and 1 (opaque).\n",
    "        \n",
    "    ax : matplotlib.pyplot or Axes class\n",
    "    \"\"\"\n",
    "    for triangle in triangles:\n",
    "        xs = [data[i][0] for i in triangle]\n",
    "        ys = [data[i][1] for i in triangle]\n",
    "        ax.fill(xs, ys, color=triangle_color, alpha=triangle_alpha)\n",
    "    for edge in edges:\n",
    "        p0 = data[edge[0]]\n",
    "        p1 = data[edge[1]]\n",
    "        ax.plot([p0[0], p1[0]], [p0[1], p1[1]], color=edge_color, linewidth=edge_width, alpha=edge_alpha)\n",
    "    for point in data:\n",
    "        ax.scatter(point[0], point[1], color=node_color, linewidth=node_width, alpha=node_alpha)"
   ]
  },
  {
   "cell_type": "code",
   "execution_count": 20,
   "id": "5ddb2832",
   "metadata": {},
   "outputs": [
    {
     "data": {
      "text/plain": [
       "'simplex2d_normal_dim2_count8'"
      ]
     },
     "execution_count": 20,
     "metadata": {},
     "output_type": "execute_result"
    }
   ],
   "source": [
    "filetemplate = 'simplex2d'\n",
    "filename = filetemplate + '_' + sample + '_dim' + str(data_dim) + '_count' + str(data_count)\n",
    "filename"
   ]
  },
  {
   "cell_type": "code",
   "execution_count": 21,
   "id": "5eb2200d",
   "metadata": {},
   "outputs": [
    {
     "data": {
      "text/plain": [
       "81"
      ]
     },
     "execution_count": 21,
     "metadata": {},
     "output_type": "execute_result"
    }
   ],
   "source": [
    "vis_rads = np.arange(0, 2.01, 0.025)\n",
    "len(vis_rads)"
   ]
  },
  {
   "cell_type": "code",
   "execution_count": 22,
   "id": "93ca8f4c",
   "metadata": {},
   "outputs": [],
   "source": [
    "for rad in vis_rads:\n",
    "    radius = np.array(list(spaces_rad.keys()))\n",
    "    radius = radius[radius <= rad][-1]\n",
    "    \n",
    "    edges = spaces_rad[radius][1]\n",
    "    triangles = spaces_rad[radius][2]\n",
    "    \n",
    "    plt.figure(figsize=(12, 12))\n",
    "    plt.title('$R = ' + str('{:.3f}'.format(rad)) +'$', fontdict={'fontsize':24})\n",
    "    draw_balls(data, rad, color='orchid', alpha=0.15, ax=plt)\n",
    "    draw_simplicies(data, edges=edges, triangles=triangles)\n",
    "    plt.grid(True)\n",
    "    plt.savefig('pics/' + filename + str(rad).replace('.', '_') + '.png')\n",
    "    plt.close()"
   ]
  },
  {
   "cell_type": "code",
   "execution_count": 23,
   "id": "ff5c04bc",
   "metadata": {},
   "outputs": [],
   "source": [
    "images = [imageio.imread('pics/' + filename + str(radius).replace('.', '_') + '.png') for radius in vis_rads]\n",
    "imageio.mimsave(filename + '.gif', images)"
   ]
  },
  {
   "cell_type": "code",
   "execution_count": null,
   "id": "7c9f5fa0",
   "metadata": {},
   "outputs": [],
   "source": []
  },
  {
   "cell_type": "code",
   "execution_count": null,
   "id": "0f752b77",
   "metadata": {},
   "outputs": [],
   "source": []
  },
  {
   "cell_type": "code",
   "execution_count": null,
   "id": "edebda86",
   "metadata": {},
   "outputs": [],
   "source": []
  }
 ],
 "metadata": {
  "kernelspec": {
   "display_name": "Python 3 (ipykernel)",
   "language": "python",
   "name": "python3"
  },
  "language_info": {
   "codemirror_mode": {
    "name": "ipython",
    "version": 3
   },
   "file_extension": ".py",
   "mimetype": "text/x-python",
   "name": "python",
   "nbconvert_exporter": "python",
   "pygments_lexer": "ipython3",
   "version": "3.10.2"
  }
 },
 "nbformat": 4,
 "nbformat_minor": 5
}
