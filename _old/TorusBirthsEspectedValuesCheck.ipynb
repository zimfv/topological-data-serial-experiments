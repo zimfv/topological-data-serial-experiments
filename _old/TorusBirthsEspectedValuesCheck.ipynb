{
 "cells": [
  {
   "cell_type": "code",
   "execution_count": 1,
   "id": "558d287d",
   "metadata": {},
   "outputs": [],
   "source": [
    "import numpy as np"
   ]
  },
  {
   "cell_type": "code",
   "execution_count": 2,
   "id": "bff3f119",
   "metadata": {},
   "outputs": [
    {
     "data": {
      "text/plain": [
       "array([[0.56735259, 0.9438216 ],\n",
       "       [0.06775437, 0.54012667]])"
      ]
     },
     "execution_count": 2,
     "metadata": {},
     "output_type": "execute_result"
    }
   ],
   "source": [
    "matrix = np.random.random(size=[2, 2])\n",
    "matrix"
   ]
  },
  {
   "cell_type": "code",
   "execution_count": 3,
   "id": "55fc3a9a",
   "metadata": {},
   "outputs": [],
   "source": [
    "def k1(matrix):\n",
    "    return np.sort(matrix.reshape(4))[1]\n",
    "\n",
    "def k2(matrix):\n",
    "    return matrix.max()"
   ]
  },
  {
   "cell_type": "code",
   "execution_count": 4,
   "id": "b4958017",
   "metadata": {},
   "outputs": [
    {
     "data": {
      "text/plain": [
       "(0.5401266725991161, 0.9438216007963361)"
      ]
     },
     "execution_count": 4,
     "metadata": {},
     "output_type": "execute_result"
    }
   ],
   "source": [
    "k1(matrix), k2(matrix)"
   ]
  },
  {
   "cell_type": "code",
   "execution_count": 5,
   "id": "0eff53bf",
   "metadata": {},
   "outputs": [
    {
     "name": "stdout",
     "output_type": "stream",
     "text": [
      "Expiremental k1 is 0.4083, but theoretical value is 0.40\n",
      "Expiremental k2 is 0.8059, but theoretical value is 0.80\n"
     ]
    }
   ],
   "source": [
    "n = 1000\n",
    "matricies = np.random.random([n, 2, 2])\n",
    "\n",
    "k1s = np.zeros(0)\n",
    "k2s = np.zeros(0)\n",
    "\n",
    "for m in matricies:\n",
    "    k1s = np.append(k1s, k1(m))\n",
    "    k2s = np.append(k2s, k2(m))\n",
    "\n",
    "print('Expiremental k1 is {0:.4f}, but theoretical value is {1:.2f}'.format(k1s.mean(), 0.4))\n",
    "print('Expiremental k2 is {0:.4f}, but theoretical value is {1:.2f}'.format(k2s.mean(), 0.8))"
   ]
  },
  {
   "cell_type": "code",
   "execution_count": null,
   "id": "d71a11fe",
   "metadata": {},
   "outputs": [],
   "source": []
  },
  {
   "cell_type": "code",
   "execution_count": null,
   "id": "2ed8ce03",
   "metadata": {},
   "outputs": [],
   "source": []
  }
 ],
 "metadata": {
  "kernelspec": {
   "display_name": "Python 3 (ipykernel)",
   "language": "python",
   "name": "python3"
  },
  "language_info": {
   "codemirror_mode": {
    "name": "ipython",
    "version": 3
   },
   "file_extension": ".py",
   "mimetype": "text/x-python",
   "name": "python",
   "nbconvert_exporter": "python",
   "pygments_lexer": "ipython3",
   "version": "3.10.8"
  }
 },
 "nbformat": 4,
 "nbformat_minor": 5
}
