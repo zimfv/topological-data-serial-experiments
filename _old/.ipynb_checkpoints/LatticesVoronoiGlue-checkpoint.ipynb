{
 "cells": [
  {
   "cell_type": "code",
   "execution_count": 1,
   "id": "cfd72917",
   "metadata": {},
   "outputs": [],
   "source": [
    "import numpy as np\n",
    "from scipy.spatial import Voronoi, voronoi_plot_2d\n",
    "from gudhi import SimplexTree\n",
    "from matplotlib import pyplot as plt\n",
    "\n",
    "import pandas as pd"
   ]
  },
  {
   "cell_type": "code",
   "execution_count": null,
   "id": "6b111ac4",
   "metadata": {},
   "outputs": [],
   "source": []
  },
  {
   "cell_type": "code",
   "execution_count": 9,
   "id": "a2b18a50",
   "metadata": {},
   "outputs": [],
   "source": [
    "class GluedVoronoiComplex:\n",
    "    def __init__(self, cells, glue={}):\n",
    "        \"\"\"\n",
    "        \"\"\"\n",
    "        self.cells = cells.copy()\n",
    "        self.glue = glue\n",
    "    \n",
    "    def get_vertices(self):\n",
    "        self.cell_copies = {}\n",
    "        self.cells_additional = []\n",
    "        for a, b in self.glue.keys():\n",
    "            cell_ab = self.cells[a] + self.glue[(a, b)]\n",
    "            cell_ba = self.cells[b] - self.glue[(a, b)]\n",
    "            self.cells_additional.append(cell_ab)\n",
    "            self.cells_additional.append(cell_ba)\n",
    "            try:\n",
    "                self.cell_copies[a].append(cell_ba)\n",
    "            except KeyError:\n",
    "                self.cell_copies.update({a : [cell_ba]})\n",
    "            try:\n",
    "                self.cell_copies[b].append(cell_ab)\n",
    "            except KeyError:\n",
    "                self.cell_copies.update({b : [cell_ab]})\n",
    "        self.cells_additional = np.array(self.cells_additional)\n",
    "        self.cells_additional = np.unique(self.cells_additional, axis=0)\n",
    "        cells_all = np.concatenate([self.cells, self.cells_additional])\n",
    "        self.vor = Voronoi(cells_all)\n",
    "        \n",
    "        if (self.vor.points != cells_all).any():\n",
    "            msg = 'Нужно всё-таки с функциями реиндексации изъёбываться\\n'\n",
    "            msg += 'В резульате работы конструктора Voronoi по итогу порядок точек в Voronoi.points '\n",
    "            msg += 'не совпадает c порядком точек в аргументе кнструктора points.'\n",
    "            raise IndexError(msg)\n",
    "        pass"
   ]
  },
  {
   "cell_type": "code",
   "execution_count": 10,
   "id": "c3ecd4a4",
   "metadata": {},
   "outputs": [],
   "source": [
    "def get_A2_on_torus(n):\n",
    "    \"\"\"\n",
    "    \"\"\"\n",
    "    if n % 2 != 0:\n",
    "        raise ValueError('n should be odd')\n",
    "    basis = np.array([[1, 0], [-0.5, 0.5*3**0.5]])\n",
    "    cells = np.array([np.tile(np.arange(n), n), np.repeat(np.arange(n), n)]).transpose()\n",
    "    cells += np.array([np.repeat(np.arange(n//2), 2*n), np.zeros(n*n, dtype=int)]).transpose()\n",
    "    cells = cells @ basis\n",
    "    glue = {}\n",
    "    for pair in np.array([n*np.arange(n) + n - 1, n*np.arange(n)]).transpose():\n",
    "        glue.update({tuple(pair) : basis[0]})\n",
    "    for pair in np.array([np.arange(n) + n*n - n, (np.arange(n) - 1)%n]).transpose():\n",
    "        glue.update({tuple(pair) : basis[1]})\n",
    "    for pair in np.array([np.arange(n) + n*n - n, np.arange(n)]).transpose():\n",
    "        glue.update({tuple(pair) : basis[0] + basis[1]})\n",
    "    \n",
    "    return cells, glue"
   ]
  },
  {
   "cell_type": "code",
   "execution_count": 11,
   "id": "931b9e70",
   "metadata": {},
   "outputs": [],
   "source": [
    "def get_Z2_on_torus(n, m):\n",
    "    cells = np.array([np.tile(np.arange(n), m), np.repeat(np.arange(m), n)]).transpose()\n",
    "    glue = {(n*m-1, 0) : np.ones(2, dtype=int), \n",
    "            (n*m-n, n-1) : np.array([-1, 1])}\n",
    "    for i in range(m):\n",
    "        glue.update({(i*n + n - 1, i*n) : np.array([1, 0])})\n",
    "    for i in range(n):\n",
    "        glue.update({((m-1)*n + i, i) : np.array([0, 1])})\n",
    "    \n",
    "    return cells, glue"
   ]
  },
  {
   "cell_type": "code",
   "execution_count": 12,
   "id": "b4176b52",
   "metadata": {},
   "outputs": [
    {
     "data": {
      "text/plain": [
       "(array([[0, 0],\n",
       "        [1, 0],\n",
       "        [2, 0],\n",
       "        [3, 0],\n",
       "        [4, 0],\n",
       "        [0, 1],\n",
       "        [1, 1],\n",
       "        [2, 1],\n",
       "        [3, 1],\n",
       "        [4, 1],\n",
       "        [0, 2],\n",
       "        [1, 2],\n",
       "        [2, 2],\n",
       "        [3, 2],\n",
       "        [4, 2]]),\n",
       " {(14, 0): array([1, 1]),\n",
       "  (10, 4): array([-1,  1]),\n",
       "  (4, 0): array([1, 0]),\n",
       "  (9, 5): array([1, 0]),\n",
       "  (14, 10): array([1, 0]),\n",
       "  (10, 0): array([0, 1]),\n",
       "  (11, 1): array([0, 1]),\n",
       "  (12, 2): array([0, 1]),\n",
       "  (13, 3): array([0, 1]),\n",
       "  (14, 4): array([0, 1])})"
      ]
     },
     "execution_count": 12,
     "metadata": {},
     "output_type": "execute_result"
    }
   ],
   "source": [
    "cells, glue = get_Z2_on_torus(5, 3)\n",
    "cells, glue"
   ]
  },
  {
   "cell_type": "code",
   "execution_count": 13,
   "id": "dc9b6364",
   "metadata": {},
   "outputs": [],
   "source": [
    "g = GluedVoronoiComplex(cells=cells, glue=glue)\n",
    "g.get_vertices()"
   ]
  },
  {
   "cell_type": "code",
   "execution_count": 14,
   "id": "eee9af08",
   "metadata": {},
   "outputs": [
    {
     "data": {
      "image/png": "[encoded data removed]",
      "text/plain": [
       "<Figure size 432x288 with 1 Axes>"
      ]
     },
     "execution_count": 14,
     "metadata": {},
     "output_type": "execute_result"
    },
    {
     "data": {
      "image/png": "[encoded data removed]",
      "text/plain": [
       "<Figure size 432x288 with 1 Axes>"
      ]
     },
     "metadata": {
      "needs_background": "light"
     },
     "output_type": "display_data"
    }
   ],
   "source": [
    "voronoi_plot_2d(g.vor)"
   ]
  },
  {
   "cell_type": "code",
   "execution_count": 15,
   "id": "8c60854f",
   "metadata": {},
   "outputs": [
    {
     "data": {
      "text/plain": [
       "array([ 5, 14, 32, 28, 34,  7, 24, 29, 27, 31,  6, 22, 33, 30, 35, 13,  4,\n",
       "        9,  8, 21, 11, 19, 16, 25, 15, 23, 17, 26, 10, 18, 12,  3,  2,  1,\n",
       "       20])"
      ]
     },
     "execution_count": 15,
     "metadata": {},
     "output_type": "execute_result"
    }
   ],
   "source": [
    "g.vor.point_region"
   ]
  },
  {
   "cell_type": "code",
   "execution_count": 16,
   "id": "2dda75e3",
   "metadata": {},
   "outputs": [
    {
     "data": {
      "text/plain": [
       "[[],\n",
       " [3, -1, 2],\n",
       " [3, -1, 1],\n",
       " [1, -1, 0],\n",
       " [4, 5, -1],\n",
       " [7, 5, 4, 6],\n",
       " [11, 8, 9, 10],\n",
       " [5, 9, 8, 7],\n",
       " [10, 9, -1],\n",
       " [9, -1, 5],\n",
       " [12, -1, 0],\n",
       " [6, 4, -1],\n",
       " [0, -1],\n",
       " [4, -1],\n",
       " [6, 14, 13, 7],\n",
       " [15, -1, 14],\n",
       " [14, -1, 6],\n",
       " [12, -1, 15],\n",
       " [16, -1, 2],\n",
       " [11, 10, -1],\n",
       " [2, -1],\n",
       " [10, -1],\n",
       " [11, 18, 17, 8],\n",
       " [19, -1, 18],\n",
       " [17, 13, 7, 8],\n",
       " [18, -1, 11],\n",
       " [16, -1, 19],\n",
       " [23, 21, 20, 22],\n",
       " [12, 15, 20, 22],\n",
       " [13, 17, 21, 20],\n",
       " [16, 19, 21, 23],\n",
       " [22, 23, 3, 1],\n",
       " [20, 13, 14, 15],\n",
       " [21, 17, 18, 19],\n",
       " [12, 0, 1, 22],\n",
       " [16, 2, 3, 23]]"
      ]
     },
     "execution_count": 16,
     "metadata": {},
     "output_type": "execute_result"
    }
   ],
   "source": [
    "g.vor.regions"
   ]
  },
  {
   "cell_type": "code",
   "execution_count": null,
   "id": "37bb449d",
   "metadata": {},
   "outputs": [],
   "source": []
  },
  {
   "cell_type": "code",
   "execution_count": null,
   "id": "0a971ba7",
   "metadata": {},
   "outputs": [],
   "source": []
  }
 ],
 "metadata": {
  "kernelspec": {
   "display_name": "Python 3 (ipykernel)",
   "language": "python",
   "name": "python3"
  },
  "language_info": {
   "codemirror_mode": {
    "name": "ipython",
    "version": 3
   },
   "file_extension": ".py",
   "mimetype": "text/x-python",
   "name": "python",
   "nbconvert_exporter": "python",
   "pygments_lexer": "ipython3",
   "version": "3.10.8"
  }
 },
 "nbformat": 4,
 "nbformat_minor": 5
}
