{
 "cells": [
  {
   "cell_type": "code",
   "execution_count": 1,
   "id": "3ebae077",
   "metadata": {},
   "outputs": [],
   "source": [
    "import pickle\n",
    "import numpy as np"
   ]
  },
  {
   "cell_type": "code",
   "execution_count": 5,
   "id": "f93a75d4",
   "metadata": {},
   "outputs": [
    {
     "data": {
      "text/plain": [
       "{'experiments': 10,\n",
       " 'shapes': array([[ 3,  3],\n",
       "        [ 4,  4],\n",
       "        [ 5,  5],\n",
       "        [ 6,  6],\n",
       "        [ 7,  7],\n",
       "        [ 8,  8],\n",
       "        [ 9,  9],\n",
       "        [10, 10],\n",
       "        [11, 11],\n",
       "        [12, 12],\n",
       "        [13, 13],\n",
       "        [14, 14],\n",
       "        [15, 15],\n",
       "        [16, 16],\n",
       "        [17, 17],\n",
       "        [18, 18],\n",
       "        [19, 19],\n",
       "        [20, 20],\n",
       "        [21, 21],\n",
       "        [22, 22]])}"
      ]
     },
     "execution_count": 5,
     "metadata": {},
     "output_type": "execute_result"
    }
   ],
   "source": [
    "shapes = np.array([np.arange(3, 23) for i in range(2)]).transpose()\n",
    "\n",
    "data = {'experiments' : 25, \n",
    "        'shapes' : shapes}\n",
    "data"
   ]
  },
  {
   "cell_type": "code",
   "execution_count": 6,
   "id": "9df359d2",
   "metadata": {},
   "outputs": [],
   "source": [
    "filename = 'CubesSplitingTorus2d/data.pkl'"
   ]
  },
  {
   "cell_type": "code",
   "execution_count": 7,
   "id": "58f76b7b",
   "metadata": {},
   "outputs": [],
   "source": [
    "with open(filename, 'wb') as fp:\n",
    "    pickle.dump(data, fp)"
   ]
  },
  {
   "cell_type": "code",
   "execution_count": null,
   "id": "e3aa4aa3",
   "metadata": {},
   "outputs": [],
   "source": []
  }
 ],
 "metadata": {
  "kernelspec": {
   "display_name": "Python 3 (ipykernel)",
   "language": "python",
   "name": "python3"
  },
  "language_info": {
   "codemirror_mode": {
    "name": "ipython",
    "version": 3
   },
   "file_extension": ".py",
   "mimetype": "text/x-python",
   "name": "python",
   "nbconvert_exporter": "python",
   "pygments_lexer": "ipython3",
   "version": "3.10.8"
  }
 },
 "nbformat": 4,
 "nbformat_minor": 5
}
