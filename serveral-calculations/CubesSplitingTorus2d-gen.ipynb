{
 "cells": [
  {
   "cell_type": "code",
   "execution_count": 1,
   "id": "3ebae077",
   "metadata": {},
   "outputs": [],
   "source": [
    "import pickle\n",
    "import numpy as np"
   ]
  },
  {
   "cell_type": "code",
   "execution_count": 2,
   "id": "f93a75d4",
   "metadata": {},
   "outputs": [
    {
     "data": {
      "text/plain": [
       "{'experiments': 40,\n",
       " 'shapes': array([[ 3,  3],\n",
       "        [ 4,  4],\n",
       "        [ 5,  5],\n",
       "        [ 6,  6],\n",
       "        [ 7,  7],\n",
       "        [ 8,  8],\n",
       "        [ 9,  9],\n",
       "        [10, 10],\n",
       "        [11, 11],\n",
       "        [12, 12],\n",
       "        [13, 13],\n",
       "        [14, 14],\n",
       "        [15, 15],\n",
       "        [16, 16],\n",
       "        [17, 17],\n",
       "        [18, 18],\n",
       "        [19, 19],\n",
       "        [20, 20],\n",
       "        [21, 21],\n",
       "        [22, 22],\n",
       "        [23, 23],\n",
       "        [24, 24],\n",
       "        [25, 25],\n",
       "        [26, 26],\n",
       "        [27, 27],\n",
       "        [28, 28],\n",
       "        [29, 29],\n",
       "        [30, 30],\n",
       "        [31, 31],\n",
       "        [32, 32],\n",
       "        [33, 33],\n",
       "        [34, 34],\n",
       "        [35, 35],\n",
       "        [36, 36],\n",
       "        [37, 37],\n",
       "        [38, 38],\n",
       "        [39, 39],\n",
       "        [40, 40],\n",
       "        [41, 41],\n",
       "        [42, 42],\n",
       "        [43, 43],\n",
       "        [44, 44],\n",
       "        [45, 45],\n",
       "        [46, 46],\n",
       "        [47, 47]])}"
      ]
     },
     "execution_count": 2,
     "metadata": {},
     "output_type": "execute_result"
    }
   ],
   "source": [
    "shapes = np.array([np.arange(3, 48) for i in range(2)]).transpose()\n",
    "\n",
    "data = {'experiments' : 40, \n",
    "        'shapes' : shapes}\n",
    "data"
   ]
  },
  {
   "cell_type": "code",
   "execution_count": 3,
   "id": "8d2c6e5f",
   "metadata": {},
   "outputs": [],
   "source": [
    "filename = 'CubesSplitingTorus2d/data.pkl'"
   ]
  },
  {
   "cell_type": "code",
   "execution_count": 4,
   "id": "58f76b7b",
   "metadata": {},
   "outputs": [],
   "source": [
    "with open(filename, 'wb') as fp:\n",
    "    pickle.dump(data, fp)"
   ]
  },
  {
   "cell_type": "code",
   "execution_count": null,
   "id": "e3aa4aa3",
   "metadata": {},
   "outputs": [],
   "source": []
  }
 ],
 "metadata": {
  "kernelspec": {
   "display_name": "Python 3 (ipykernel)",
   "language": "python",
   "name": "python3"
  },
  "language_info": {
   "codemirror_mode": {
    "name": "ipython",
    "version": 3
   },
   "file_extension": ".py",
   "mimetype": "text/x-python",
   "name": "python",
   "nbconvert_exporter": "python",
   "pygments_lexer": "ipython3",
   "version": "3.10.8"
  }
 },
 "nbformat": 4,
 "nbformat_minor": 5
}
