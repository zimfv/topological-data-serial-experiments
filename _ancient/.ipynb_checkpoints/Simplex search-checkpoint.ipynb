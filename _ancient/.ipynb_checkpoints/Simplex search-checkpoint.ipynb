{
 "cells": [
  {
   "cell_type": "code",
   "execution_count": 1,
   "id": "fb94c4b4",
   "metadata": {},
   "outputs": [],
   "source": [
    "import numpy as np\n",
    "import matplotlib.pyplot as plt\n",
    "import imageio\n",
    "from itertools import permutations\n",
    "from itertools import combinations"
   ]
  },
  {
   "cell_type": "markdown",
   "id": "19a0209a",
   "metadata": {},
   "source": [
    "# Gen some data"
   ]
  },
  {
   "cell_type": "code",
   "execution_count": 2,
   "id": "037d2f61",
   "metadata": {},
   "outputs": [
    {
     "data": {
      "image/png": "[encoded data removed]",
      "text/plain": [
       "<Figure size 720x720 with 1 Axes>"
      ]
     },
     "metadata": {
      "needs_background": "light"
     },
     "output_type": "display_data"
    },
    {
     "data": {
      "text/plain": [
       "array([[ 1.46110162e+00, -5.88043791e-01],\n",
       "       [-1.06439767e+00, -1.20514169e+00],\n",
       "       [ 6.93330146e-01, -8.96593478e-01],\n",
       "       [-1.38807903e-03,  1.77272478e+00],\n",
       "       [ 5.88900987e-01, -1.61378536e+00],\n",
       "       [-1.50215274e-01, -9.66514956e-01],\n",
       "       [ 1.82875282e-01,  5.52125228e-01],\n",
       "       [-2.28915158e-01,  1.01767518e+00]])"
      ]
     },
     "execution_count": 2,
     "metadata": {},
     "output_type": "execute_result"
    }
   ],
   "source": [
    "data_dim = 2\n",
    "data_count = 8\n",
    "data = np.random.randint(data_count, size=(data_count, data_dim))\n",
    "data = np.unique(data, axis=0)\n",
    "sample = 'randint'\n",
    "\n",
    "data = np.random.normal(size=(data_count, data_dim))\n",
    "sample = 'normal'\n",
    "\n",
    "plt.figure(figsize=(10, 10))\n",
    "plt.scatter(data[:, 0], data[:, 1], color='indigo', linewidth=8)\n",
    "plt.grid(True)\n",
    "plt.show()\n",
    "\n",
    "\n",
    "data"
   ]
  },
  {
   "cell_type": "markdown",
   "id": "cab4cbf2",
   "metadata": {},
   "source": [
    "# Radius search functions"
   ]
  },
  {
   "cell_type": "code",
   "execution_count": 3,
   "id": "4d8a1d67",
   "metadata": {},
   "outputs": [],
   "source": [
    "def get_edge_radiuses(data, norm=np.linalg.norm):\n",
    "    \"\"\"\n",
    "    Returns radiuses, which are half of distance between verticies\n",
    "    \n",
    "    Parameters:\n",
    "    -------\n",
    "    data : np.2darray\n",
    "        Income data, array of verticies.\n",
    "    \n",
    "    norm : function\n",
    "        Matrix or vector norm.\n",
    "    \n",
    "    Returns:\n",
    "    --------\n",
    "    res : Dictionary\n",
    "        Keys are radiuses, values are lists of vertex pairs.\n",
    "    \"\"\"\n",
    "    distance = data*np.ones([data.shape[0], data.shape[0], data.shape[1]])\n",
    "    distance = distance - np.transpose(distance, axes=(1, 0, 2))\n",
    "    distance = norm(distance, axis=2)\n",
    "    diameters = np.unique(distance[distance!= 0])\n",
    "    \n",
    "    res = {}\n",
    "    for d in diameters:\n",
    "        r = 0.5*d\n",
    "        res.update({r : np.where(np.triu(distance) == d)})\n",
    "        res[r] = list(np.array(res[r]).transpose())\n",
    "        res[r] = [tuple(i) for i in res[r]]\n",
    "    return res"
   ]
  },
  {
   "cell_type": "code",
   "execution_count": 4,
   "id": "d65087e5",
   "metadata": {},
   "outputs": [
    {
     "data": {
      "text/plain": [
       "28"
      ]
     },
     "execution_count": 4,
     "metadata": {},
     "output_type": "execute_result"
    }
   ],
   "source": [
    "edge_radiuses = get_edge_radiuses(data)\n",
    "len(edge_radiuses.keys())"
   ]
  },
  {
   "cell_type": "code",
   "execution_count": 5,
   "id": "243d79fd",
   "metadata": {},
   "outputs": [],
   "source": [
    "def get_triangle_radius(a, b, c, norm=np.linalg.norm):\n",
    "    \"\"\"\n",
    "    Returns radius of circumscribed circle of triangle.\n",
    "    \n",
    "    Parameters:\n",
    "    -------\n",
    "    a : np.ndarray\n",
    "        Vertex\n",
    "        \n",
    "    b : np.ndarray\n",
    "        Vertex\n",
    "        \n",
    "    c : np.ndarray\n",
    "        Vertex\n",
    "    \n",
    "    scalar : function\n",
    "        Dot product of two arrays.\n",
    "    \n",
    "    norm : function\n",
    "        Matrix or vector norm.\n",
    "    \n",
    "    Returns:\n",
    "    --------\n",
    "    r : float\n",
    "        Radius.\n",
    "    \"\"\"\n",
    "    al = norm(a-b)\n",
    "    bl = norm(b-c)\n",
    "    cl = norm(c-a)\n",
    "    p = 0.5*(al+bl+cl)\n",
    "    top = al*bl*cl\n",
    "    bot = 4 * np.sqrt(p*(p-al)*(p-bl)*(p-cl))\n",
    "    r = top/bot\n",
    "    return r"
   ]
  },
  {
   "cell_type": "code",
   "execution_count": 6,
   "id": "7311b93c",
   "metadata": {},
   "outputs": [],
   "source": [
    "def get_triangle_radiuses(data, norm=np.linalg.norm):\n",
    "    \"\"\"\n",
    "    Returns radiuses of circumscribed circle of all triangles\n",
    "    \n",
    "    Parameters:\n",
    "    -------\n",
    "    data : np.2darray\n",
    "        Income data, array of verticies.\n",
    "    \n",
    "    norm : function\n",
    "        Matrix or vector norm.\n",
    "    \n",
    "    Returns:\n",
    "    --------\n",
    "    res : Dictionary\n",
    "        Keys are radiuses, values are lists of vertex triples.\n",
    "    \"\"\"\n",
    "    res = {}\n",
    "    n = len(data)\n",
    "    for i in range(n):\n",
    "        for j in range(i+1, n):\n",
    "            for k in range(j+1, n):\n",
    "                r = get_triangle_radius(data[i], data[j], data[k], norm=norm)\n",
    "                if (r != np.inf) and (r > 0):\n",
    "                    try:\n",
    "                        res[r].append((i, j, k))\n",
    "                    except KeyError:\n",
    "                        res.update({r : [(i, j, k)]})\n",
    "    return res"
   ]
  },
  {
   "cell_type": "code",
   "execution_count": 7,
   "id": "3dcdb2cd",
   "metadata": {},
   "outputs": [
    {
     "data": {
      "text/plain": [
       "56"
      ]
     },
     "execution_count": 7,
     "metadata": {},
     "output_type": "execute_result"
    }
   ],
   "source": [
    "triangle_radiuses = get_triangle_radiuses(data)\n",
    "len(triangle_radiuses.keys())"
   ]
  },
  {
   "cell_type": "markdown",
   "id": "c1c22188",
   "metadata": {},
   "source": [
    "# Check simplcity status"
   ]
  },
  {
   "cell_type": "code",
   "execution_count": 8,
   "id": "26e2918c",
   "metadata": {},
   "outputs": [],
   "source": [
    "def get_line_system(a0, a1):\n",
    "    \"\"\"\n",
    "    Returns matrix A and vector b for linear system Ax = b for line contains points a0 and a1.\n",
    "    \n",
    "    Parameters:\n",
    "    -----------\n",
    "    a0 : np.ndarray\n",
    "        Vector - point of line.\n",
    "        \n",
    "    a1 : np.ndarray\n",
    "        Vector - point of line.\n",
    "    \n",
    "    Returns:\n",
    "    --------\n",
    "    A : np.ndarray\n",
    "        Matrix.\n",
    "        \n",
    "    b : np.ndarray\n",
    "        Vector.\n",
    "    \"\"\"\n",
    "    if len(a0) != len(a1):\n",
    "        raise ValueError(\"different dimensions.\")\n",
    "    dim = len(a0)\n",
    "    A = np.zeros([dim-1, dim])\n",
    "    b = np.zeros(dim-1)\n",
    "    for i in range(dim-1):\n",
    "        j = i+1\n",
    "        A[i, i] = - (a1[j] - a0[j])\n",
    "        A[i, j] = + (a1[i] - a0[i])\n",
    "        b[i] = a1[j]*(a1[i] - a0[i]) - a1[i]*(a1[j] - a0[j])\n",
    "    return A, b"
   ]
  },
  {
   "cell_type": "code",
   "execution_count": 9,
   "id": "8cfe6552",
   "metadata": {},
   "outputs": [],
   "source": [
    "def segment_intersect(a0, a1, b0, b1):\n",
    "    \"\"\"\n",
    "    Returns True if segments intersects.\n",
    "    \n",
    "    Parameters:\n",
    "    -----------\n",
    "    a0 : np.ndarray\n",
    "        Begin of first segment.\n",
    "        \n",
    "    a1 : np.ndarray\n",
    "        End of first segment.\n",
    "        \n",
    "    b0 : np.ndarray\n",
    "        Begin of second segment.\n",
    "        \n",
    "    b1 : np.ndarray\n",
    "        End of second segment.\n",
    "    \n",
    "    Returns:\n",
    "    --------\n",
    "    result : bool\n",
    "        Does emgments intersects?\n",
    "    \"\"\"\n",
    "    if (len(a0) != len(a1)) or (len(b0) != len(b1)) or (len(a0) != len(b0)):\n",
    "        raise ValueError(\"different dimensions.\")\n",
    "    dim = len(a0)\n",
    "        \n",
    "    Aa, va = get_line_system(a0, a1)\n",
    "    Ab, vb = get_line_system(b0, b1)\n",
    "    A = np.concatenate([Aa, Ab], axis=0)\n",
    "    b = np.concatenate([va, vb])\n",
    "    M = np.concatenate([A, b.reshape(2*dim-2, 1)], axis=1)\n",
    "    \n",
    "    if np.linalg.matrix_rank(A) < np.linalg.matrix_rank(M):\n",
    "        # Случай, когда прямые не пересекаются\n",
    "        return False\n",
    "    \n",
    "    if np.linalg.matrix_rank(A) == np.linalg.matrix_rank(M):\n",
    "        if np.linalg.matrix_rank(A) < dim:\n",
    "            # Cлучай, когда прямые совпадают\n",
    "            j = np.where((a1 - a0) != 0)[0][0]\n",
    "            ja0, ja1, jb0, jb1 = a0[j], a1[j], b0[j], b1[j]\n",
    "            if ja1 < ja0:\n",
    "                ja0, ja1 = ja1, ja0\n",
    "            if jb1 < jb0:\n",
    "                jb0, jb1 = jb1, jb0\n",
    "            return ((ja0 < jb0) and (jb0 < ja1)) or ((jb0 < ja0) and (ja0 < jb1))\n",
    "        \n",
    "        if np.linalg.matrix_rank(A) == dim:\n",
    "            # Cлучай, когда прямые пересекаются\n",
    "            i = 0\n",
    "            while np.linalg.matrix_rank(np.concatenate([Aa, Ab[i].reshape(1, dim)], axis=0)) != dim:\n",
    "                i += 1\n",
    "            A = np.concatenate([Aa, Ab[i].reshape(1, dim)], axis=0)\n",
    "            b = np.concatenate([va, [vb[i]]])\n",
    "            x = np.linalg.solve(A, b)\n",
    "            ja = np.where((a1 - a0) != 0)[0][0]\n",
    "            jb = np.where((b1 - b0) != 0)[0][0]\n",
    "            ja0, ja1, jb0, jb1 = a0[ja], a1[ja], b0[jb], b1[jb]\n",
    "            if ja1 < ja0:\n",
    "                ja0, ja1 = ja1, ja0\n",
    "            if jb1 < jb0:\n",
    "                jb0, jb1 = jb1, jb0\n",
    "            return (ja0 < x[ja]) and (x[ja] < ja1) and (jb0 < x[jb]) and (x[jb] < jb1)"
   ]
  },
  {
   "cell_type": "code",
   "execution_count": 10,
   "id": "4c1e2b97",
   "metadata": {},
   "outputs": [],
   "source": [
    "def edge_is_new_simplex(data, edge, old_edges=[]):\n",
    "    \"\"\"\n",
    "    Returns True if edge does not intersect old edges\n",
    "    \n",
    "    Parameters:\n",
    "    data : np.ndarray or list of np.ndarrays\n",
    "        List of points.\n",
    "    \n",
    "    edge : tuple or list\n",
    "        Indices of edge points.\n",
    "    \n",
    "    old_edges : list of tuples\n",
    "        List of old edge indicies\n",
    "    \n",
    "    Returns:\n",
    "    --------\n",
    "    res : bool\n",
    "    \"\"\"\n",
    "    res = True\n",
    "    for old in old_edges:\n",
    "        a0 = data[edge[0]]\n",
    "        a1 = data[edge[1]]\n",
    "        b0 = data[old[0]]\n",
    "        b1 = data[old[1]]\n",
    "        if segment_intersect(a0, a1, b0, b1):\n",
    "            res = False\n",
    "            break\n",
    "    return res"
   ]
  },
  {
   "cell_type": "code",
   "execution_count": 11,
   "id": "780742ae",
   "metadata": {},
   "outputs": [],
   "source": [
    "# Модифицированно с учётом итога. Чуть по-индусски, правда.\n",
    "def triangle_is_new_simplex(data, triangle, old_edges=[], old_triangles=[]):\n",
    "    \"\"\"\n",
    "    Returns True if triangle borders are old\n",
    "    \n",
    "    Parameters:\n",
    "    data : np.ndarray or list of np.ndarrays\n",
    "        List of points.\n",
    "    \n",
    "    triangle : tuple or list\n",
    "        Indices of triangle points.\n",
    "    \n",
    "    old_edges : list of tuples\n",
    "        List of old edge indicies\n",
    "    \n",
    "    Returns:\n",
    "    --------\n",
    "    res : bool\n",
    "    \"\"\"\n",
    "    triangle_sort = np.sort(triangle)\n",
    "    edges_sort = [tuple(np.sort(edge)) for edge in old_edges]\n",
    "    res = True\n",
    "    # Проверяю есть ли у треугольника границы\n",
    "    res = res and ((triangle_sort[0], triangle_sort[1]) in edges_sort) \n",
    "    res = res and ((triangle_sort[0], triangle_sort[2]) in edges_sort) \n",
    "    res = res and ((triangle_sort[1], triangle_sort[2]) in edges_sort)\n",
    "    if res:\n",
    "        # Проверяю, пересекает ли треугольник рёбра другого треугольника\n",
    "        \"\"\"\n",
    "        triangle_vars = np.array([i for i in permutations(triangle)])\n",
    "        for old in old_triangles:\n",
    "            equals = triangle_vars == old\n",
    "            if (equals.sum(axis=1) == 2).any():\n",
    "                \n",
    "                equals = equals[np.where(equals.sum(axis=1) == 2)].reshape(3)\n",
    "                same = np.array(old)[equals]\n",
    "                other = np.array(old)[np.logical_not(equals)][0]\n",
    "                for triangle_edge in combinations(triangle, 2):\n",
    "                    a0 = data[triangle_edge[0]]\n",
    "                    a1 = data[triangle_edge[1]]\n",
    "                    b0 = data[other]\n",
    "                    for vertex in same:\n",
    "                        b1 = data[vertex]\n",
    "                        if segment_intersect(a0, a1, b0, b1):\n",
    "                            res = False\n",
    "                            break\n",
    "        \"\"\"\n",
    "        # Написал более читабельную версию. Но результат разный\n",
    "        for old in old_triangles:\n",
    "            for new_edge in combinations(triangle, 2):\n",
    "                for old_edge in combinations(old, 2):\n",
    "                    if not (np.array(new_edge) == np.array(old_edge)).all():\n",
    "                        a0 = data[new_edge[0]]\n",
    "                        a1 = data[new_edge[1]]\n",
    "                        b0 = data[new_edge[0]]\n",
    "                        b1 = data[new_edge[1]]\n",
    "                        if segment_intersect(a0, a1, b0, b1):\n",
    "                            res = False\n",
    "                            break\n",
    "    return res"
   ]
  },
  {
   "cell_type": "code",
   "execution_count": 12,
   "id": "db1cf667",
   "metadata": {},
   "outputs": [
    {
     "data": {
      "text/plain": [
       "True"
      ]
     },
     "execution_count": 12,
     "metadata": {},
     "output_type": "execute_result"
    }
   ],
   "source": [
    "triangle_is_new_simplex(data, (0, 1, 2), [(0, 1), (1, 2), (0, 2)], [(0, 3, 1)])"
   ]
  },
  {
   "cell_type": "markdown",
   "id": "e7a38983",
   "metadata": {},
   "source": [
    "# Search interesting radiuses"
   ]
  },
  {
   "cell_type": "code",
   "execution_count": 13,
   "id": "232dc3dd",
   "metadata": {},
   "outputs": [],
   "source": [
    "def copy_dict(d):\n",
    "    \"\"\"\n",
    "    Returns copy of dictionary.\n",
    "    \n",
    "    Parameters:\n",
    "    -----------\n",
    "    d : dict\n",
    "    \n",
    "    Returns:\n",
    "    --------\n",
    "    r : dict\n",
    "    \"\"\"\n",
    "    r = {}\n",
    "    for key in d.keys():\n",
    "        if type(d[key]) == dict:\n",
    "            r.update({key : copy_dict(d[key])})\n",
    "        else:\n",
    "            try:\n",
    "                r.update({key : d[key].copy()})\n",
    "            except AttributeError:\n",
    "                r.update({key : d[key]})\n",
    "    return r"
   ]
  },
  {
   "cell_type": "code",
   "execution_count": 14,
   "id": "95aa707b",
   "metadata": {},
   "outputs": [],
   "source": [
    "def get_changing_radiuses(data, edge_radiuses={}, triangle_radiuses={}):\n",
    "    \"\"\"\n",
    "    Returns radiuses which are adding new simplicies.\n",
    "    \n",
    "    Parameters:\n",
    "    -----------\n",
    "    data : np.ndarray or list of np.ndarrays\n",
    "        List of points.\n",
    "        \n",
    "    edge_radiuses : dict\n",
    "        Keys are radiuses, values are lists of edges\n",
    "        \n",
    "    triangle_radiuses : dict\n",
    "        Keys are radiuses, values are lists of triangles\n",
    "    \n",
    "    Returns:\n",
    "    res : dict\n",
    "        Keys are radiuses, values are dicts, which keys are dimensions and values are simplicies.\n",
    "    \"\"\"\n",
    "    radiuses = np.unique(np.concatenate([list(edge_radiuses.keys()), list(triangle_radiuses.keys())]))\n",
    "    simplicies = {1 : [], 2 : []}\n",
    "    res = {0 : copy_dict(simplicies)}\n",
    "    for r in radiuses:\n",
    "        g = False\n",
    "        if r in edge_radiuses.keys():\n",
    "            for edge in edge_radiuses[r]:\n",
    "                if edge_is_new_simplex(data, edge, old_edges=simplicies[1]):\n",
    "                    g = True\n",
    "                    try:\n",
    "                        simplicies[1].append(edge)\n",
    "                    except KeyError:\n",
    "                        simplicies.update({1 : [edge]})\n",
    "        if r in triangle_radiuses.keys():\n",
    "            for triangle in triangle_radiuses[r]:\n",
    "                if triangle_is_new_simplex(data, triangle, old_edges=simplicies[1], old_triangles=simplicies[2]):\n",
    "                    g = True\n",
    "                    try:\n",
    "                        simplicies[2].append(triangle)\n",
    "                    except KeyError:\n",
    "                        simplicies.update({2 : [triangle]})\n",
    "                        \n",
    "        if g:\n",
    "            res.update({r : copy_dict(simplicies)})\n",
    "    return res"
   ]
  },
  {
   "cell_type": "code",
   "execution_count": 15,
   "id": "6e4cc3c6",
   "metadata": {
    "scrolled": false
   },
   "outputs": [
    {
     "data": {
      "image/png": "[encoded data removed]",
      "text/plain": [
       "<Figure size 864x432 with 1 Axes>"
      ]
     },
     "metadata": {
      "needs_background": "light"
     },
     "output_type": "display_data"
    }
   ],
   "source": [
    "interesting_radiuses = get_changing_radiuses(data, edge_radiuses, triangle_radiuses)\n",
    "\n",
    "rads_int = np.array(list(interesting_radiuses.keys()))\n",
    "rads_all = np.unique(np.concatenate([list(edge_radiuses.keys()), list(triangle_radiuses.keys())]))\n",
    "rads_edg = np.unique(list(edge_radiuses.keys()))\n",
    "rads_tri = np.unique(list(triangle_radiuses.keys()))\n",
    "\n",
    "plt.figure(figsize=(12, 6))\n",
    "plt.plot(np.arange(len(rads_all)), rads_all, color='grey', label='All', linewidth=4)\n",
    "plt.plot(np.arange(len(rads_edg)), rads_edg, color='steelblue', label='Edges', linewidth=4)\n",
    "plt.plot(np.arange(len(rads_tri)), rads_tri, color='cyan', label='Triangles', linewidth=4)\n",
    "plt.plot(np.arange(len(rads_int)), rads_int, color='coral', label='Interesting', linewidth=4)\n",
    "\n",
    "plt.grid(True)\n",
    "plt.legend()\n",
    "plt.show()"
   ]
  },
  {
   "cell_type": "markdown",
   "id": "15f2a3f1",
   "metadata": {},
   "source": [
    "# Visualizatioan"
   ]
  },
  {
   "cell_type": "code",
   "execution_count": 16,
   "id": "6f15117d",
   "metadata": {},
   "outputs": [],
   "source": [
    "def draw_balls(data, radius, color='orchid', linewidth=0, alpha=0.5, circle_points=24, fill=True, ax=plt):\n",
    "    \"\"\"\n",
    "    Plots balls arround points from data.\n",
    "    \n",
    "    Parameters:\n",
    "    -----------\n",
    "    data : np.ndarray or list of np.ndarrays\n",
    "        List of points.\n",
    "        \n",
    "    radius : float\n",
    "        Ball radius.\n",
    "        \n",
    "    color : color or rgba tuple\n",
    "        \n",
    "    linewidth : scalar\n",
    "        \n",
    "    alpha : float\n",
    "        The alpha blending value, between 0 (transparent) and 1 (opaque).\n",
    "            \n",
    "    circle_points : int\n",
    "        Number of points in circle. (If fill is True, then that will be number of ponts in top and bot arc)\n",
    "        \n",
    "    fill : bool\n",
    "        Fill circle if True.\n",
    "        \n",
    "    ax : matplotlib.pyplot or Axes class\n",
    "    \"\"\"\n",
    "    if fill:\n",
    "        arc_x = radius*np.cos(np.pi*np.arange(circle_points+1)/circle_points)\n",
    "        arc_y1 = radius*np.sin(np.pi*np.arange(circle_points+1)/circle_points)\n",
    "        arc_y2 = radius*np.sin(-np.pi*np.arange(circle_points+1)/circle_points)\n",
    "        for point in data:\n",
    "            ax.fill_between(x=point[0] + arc_x, y1=point[1] + arc_y1, y2=point[1] + arc_y2,\n",
    "                            color=color, linewidth=linewidth, alpha=alpha)\n",
    "    else:\n",
    "        circle_x = radius*np.cos(2*np.pi*np.arange(circle_points+1)/circle_points)\n",
    "        circle_y = radius*np.sin(2*np.pi*np.arange(circle_points+1)/circle_points)\n",
    "        for point in data:\n",
    "            ax.plot(point[0] + circle_x, point[1] + circle_y, color=color, linewidth=linewidth, alpha=alpha)"
   ]
  },
  {
   "cell_type": "code",
   "execution_count": 17,
   "id": "8587a235",
   "metadata": {},
   "outputs": [],
   "source": [
    "def draw_simplicies(data, edges=[], triangles=[],\n",
    "                    node_color='indigo', node_width=8, node_alpha=1,\n",
    "                    edge_color='steelblue', edge_width=4, edge_alpha=1,\n",
    "                    triangle_color='aquamarine', triangle_alpha=0.7, ax=plt):\n",
    "    \"\"\"\n",
    "    Plots nodes edges and triangles of all simplicies.\n",
    "    \n",
    "    Parameters:\n",
    "    -----------\n",
    "    data : np.ndarray or list of np.ndarrays\n",
    "        List of points (nodes).\n",
    "            \n",
    "    edges : list of tuples\n",
    "        List of node pairs.\n",
    "            \n",
    "    triangles : list of tuples\n",
    "        List of triangle triples.\n",
    "            \n",
    "    node_color : color or rgba tuple\n",
    "        Node color.\n",
    "            \n",
    "    node_width : scalar\n",
    "        Linewidth of nodes.\n",
    "        \n",
    "    node_alpha : float\n",
    "        The alpha blending value for node, between 0 (transparent) and 1 (opaque).\n",
    "\n",
    "    edge_color : color or rgba tuple\n",
    "        Edge color.\n",
    "            \n",
    "    edge_width : scalar\n",
    "        Linewidth of edges.\n",
    "        \n",
    "    edge_alpha : float\n",
    "        The alpha blending value for edge, between 0 (transparent) and 1 (opaque).\n",
    "            \n",
    "    triangle_color : color or rgba tuple\n",
    "        Triangle fill color.\n",
    "        \n",
    "    node_alpha : float\n",
    "        The alpha blending value for filled triangle, between 0 (transparent) and 1 (opaque).\n",
    "        \n",
    "    ax : matplotlib.pyplot or Axes class\n",
    "    \"\"\"\n",
    "    for triangle in triangles:\n",
    "        xs = [data[i][0] for i in triangle]\n",
    "        ys = [data[i][1] for i in triangle]\n",
    "        ax.fill(xs, ys, color=triangle_color, alpha=triangle_alpha)\n",
    "    for edge in edges:\n",
    "        p0 = data[edge[0]]\n",
    "        p1 = data[edge[1]]\n",
    "        ax.plot([p0[0], p1[0]], [p0[1], p1[1]], color=edge_color, linewidth=edge_width, alpha=edge_alpha)\n",
    "    for point in data:\n",
    "        ax.scatter(point[0], point[1], color=node_color, linewidth=node_width, alpha=node_alpha)"
   ]
  },
  {
   "cell_type": "code",
   "execution_count": 18,
   "id": "102ac941",
   "metadata": {},
   "outputs": [
    {
     "data": {
      "text/plain": [
       "'simplex_normal_dim2_count8'"
      ]
     },
     "execution_count": 18,
     "metadata": {},
     "output_type": "execute_result"
    }
   ],
   "source": [
    "filetemplate = 'simplex'\n",
    "filename = filetemplate + '_' + sample + '_dim' + str(data_dim) + '_count' + str(data_count)\n",
    "filename"
   ]
  },
  {
   "cell_type": "code",
   "execution_count": 19,
   "id": "9b701184",
   "metadata": {},
   "outputs": [
    {
     "name": "stdout",
     "output_type": "stream",
     "text": [
      "61\n"
     ]
    }
   ],
   "source": [
    "radiuses = np.arange(0, int(max(list(interesting_radiuses.keys())))+1.01, 0.05)\n",
    "print(len(radiuses))\n",
    "if len(radiuses) > 301:\n",
    "    raise False\n",
    "\n",
    "for radius in radiuses:\n",
    "    r_simplex = np.max(rads_int[rads_int <= radius])\n",
    "    edges = interesting_radiuses[r_simplex][1]\n",
    "    trianges = interesting_radiuses[r_simplex][2]\n",
    "    \n",
    "    plt.figure(figsize=(12, 12))\n",
    "    plt.title('$R = ' + str('{:.3f}'.format(radius)) +'$', fontdict={'fontsize':24})\n",
    "    draw_balls(data, radius, color='orchid', alpha=0.15, ax=plt)\n",
    "    draw_simplicies(data, edges=edges, triangles=trianges)\n",
    "    plt.grid(True)\n",
    "    plt.savefig('pics/' + filename + str(radius).replace('.', '_') + '.png')\n",
    "    plt.close()"
   ]
  },
  {
   "cell_type": "code",
   "execution_count": 20,
   "id": "1b2c0c00",
   "metadata": {},
   "outputs": [],
   "source": [
    "images = [imageio.imread('pics/' + filename + str(radius).replace('.', '_') + '.png') for radius in radiuses]\n",
    "imageio.mimsave(filename + '.gif', images)"
   ]
  },
  {
   "cell_type": "markdown",
   "id": "0bf3e511",
   "metadata": {},
   "source": [
    "__Итог:__ Условие на радиус, что он меньше радиуса описанной вокруг треугольника окружности не достаточно, чтобы считать, что этот треугольник не является симплксом.\n",
    "\n",
    "__Необходимо ещё:__ При достижении \"рёберного\" радиуса, не порождающего новое ребро, закрашивать трегольник, ребро которого пересекается потенциальным новым. Нужно модернизивовать функцию triangle_is_new_simplex, добавив переменную \"старые треугольники\", и проверять, не ту ли у них общих рёбер, и, если есть, проверять, не пересекаются ли необщие.\n",
    "\n",
    "__Непонятно:__ Всё выше сказанное объясняет, почему не улавливаются некторые треугольники. Но почему не улавливаются некоторые рёбра?"
   ]
  },
  {
   "cell_type": "markdown",
   "id": "f706a160",
   "metadata": {},
   "source": [
    "__Дополнение:__ Повозился с triangle_is_new_simplex. Написал два варианта кода. Они выдют разные варианты ответа, но один - нечитабельный. Вероятно, в нём и ошибка. Закомментил. Перепроверить."
   ]
  },
  {
   "cell_type": "code",
   "execution_count": null,
   "id": "385238ab",
   "metadata": {},
   "outputs": [],
   "source": []
  }
 ],
 "metadata": {
  "kernelspec": {
   "display_name": "Python 3 (ipykernel)",
   "language": "python",
   "name": "python3"
  },
  "language_info": {
   "codemirror_mode": {
    "name": "ipython",
    "version": 3
   },
   "file_extension": ".py",
   "mimetype": "text/x-python",
   "name": "python",
   "nbconvert_exporter": "python",
   "pygments_lexer": "ipython3",
   "version": "3.10.1"
  }
 },
 "nbformat": 4,
 "nbformat_minor": 5
}
