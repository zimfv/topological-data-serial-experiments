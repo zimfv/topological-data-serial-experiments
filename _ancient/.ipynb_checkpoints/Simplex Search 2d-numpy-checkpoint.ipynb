{
 "cells": [
  {
   "cell_type": "code",
   "execution_count": 1,
   "id": "1cdce0d5",
   "metadata": {},
   "outputs": [],
   "source": [
    "import numpy as np\n",
    "import pandas as pd\n",
    "import matplotlib.pyplot as plt\n",
    "import networkx as nx\n",
    "import itertools\n",
    "import imageio"
   ]
  },
  {
   "cell_type": "code",
   "execution_count": 2,
   "id": "5475e036",
   "metadata": {},
   "outputs": [
    {
     "data": {
      "image/png": "[encoded data removed]",
      "text/plain": [
       "<Figure size 576x576 with 1 Axes>"
      ]
     },
     "metadata": {
      "needs_background": "light"
     },
     "output_type": "display_data"
    }
   ],
   "source": [
    "data = np.random.normal(size=(5, 2))\n",
    "sample = 'normal'\n",
    "\n",
    "data_count, data_dim = data.shape\n",
    "\n",
    "\n",
    "plt.figure(figsize=(8, 8))\n",
    "plt.scatter(data[:, 0], data[:, 1], color='indigo', linewidth=8)\n",
    "plt.grid(True)\n",
    "plt.show()"
   ]
  },
  {
   "cell_type": "markdown",
   "id": "f1010011",
   "metadata": {},
   "source": [
    "# Search simplicies"
   ]
  },
  {
   "cell_type": "code",
   "execution_count": 3,
   "id": "11dc2b4e",
   "metadata": {},
   "outputs": [],
   "source": [
    "test_radius = 0.75"
   ]
  },
  {
   "cell_type": "markdown",
   "id": "be486f0d",
   "metadata": {},
   "source": [
    "## Dimension 0"
   ]
  },
  {
   "cell_type": "code",
   "execution_count": 4,
   "id": "b8cd3bcc",
   "metadata": {},
   "outputs": [],
   "source": [
    "def simplex_radiuses_dim0(data, norm=np.linalg.norm):\n",
    "    return np.zeros(data.shape[0])"
   ]
  },
  {
   "cell_type": "code",
   "execution_count": 5,
   "id": "d40010ac",
   "metadata": {},
   "outputs": [
    {
     "data": {
      "text/plain": [
       "array([0., 0., 0., 0., 0.])"
      ]
     },
     "execution_count": 5,
     "metadata": {},
     "output_type": "execute_result"
    }
   ],
   "source": [
    "simplex_radiuses_dim0(data)"
   ]
  },
  {
   "cell_type": "markdown",
   "id": "e88552e7",
   "metadata": {},
   "source": [
    "## Dimension 1"
   ]
  },
  {
   "cell_type": "code",
   "execution_count": 6,
   "id": "4bbf5ace",
   "metadata": {},
   "outputs": [],
   "source": [
    "def simplex_radiuses_dim1(data, norm=np.linalg.norm):\n",
    "    n = data.shape[0]\n",
    "    d = data*np.ones(np.append(n, data.shape))\n",
    "    d = d - d.transpose([1, 0, 2])\n",
    "    d = 0.5*norm(d, axis=2)\n",
    "    d[np.eye(n)==1] = np.inf\n",
    "    return d"
   ]
  },
  {
   "cell_type": "code",
   "execution_count": 7,
   "id": "7bdfbe79",
   "metadata": {},
   "outputs": [
    {
     "data": {
      "text/html": [
       "<div>\n",
       "<style scoped>\n",
       "    .dataframe tbody tr th:only-of-type {\n",
       "        vertical-align: middle;\n",
       "    }\n",
       "\n",
       "    .dataframe tbody tr th {\n",
       "        vertical-align: top;\n",
       "    }\n",
       "\n",
       "    .dataframe thead th {\n",
       "        text-align: right;\n",
       "    }\n",
       "</style>\n",
       "<table border=\"1\" class=\"dataframe\">\n",
       "  <thead>\n",
       "    <tr style=\"text-align: right;\">\n",
       "      <th></th>\n",
       "      <th>0</th>\n",
       "      <th>1</th>\n",
       "      <th>2</th>\n",
       "      <th>3</th>\n",
       "      <th>4</th>\n",
       "    </tr>\n",
       "  </thead>\n",
       "  <tbody>\n",
       "    <tr>\n",
       "      <th>0</th>\n",
       "      <td>inf</td>\n",
       "      <td>0.818798</td>\n",
       "      <td>0.715066</td>\n",
       "      <td>0.769701</td>\n",
       "      <td>0.998159</td>\n",
       "    </tr>\n",
       "    <tr>\n",
       "      <th>1</th>\n",
       "      <td>0.818798</td>\n",
       "      <td>inf</td>\n",
       "      <td>0.414601</td>\n",
       "      <td>0.790671</td>\n",
       "      <td>0.625008</td>\n",
       "    </tr>\n",
       "    <tr>\n",
       "      <th>2</th>\n",
       "      <td>0.715066</td>\n",
       "      <td>0.414601</td>\n",
       "      <td>inf</td>\n",
       "      <td>0.377897</td>\n",
       "      <td>0.308151</td>\n",
       "    </tr>\n",
       "    <tr>\n",
       "      <th>3</th>\n",
       "      <td>0.769701</td>\n",
       "      <td>0.790671</td>\n",
       "      <td>0.377897</td>\n",
       "      <td>inf</td>\n",
       "      <td>0.391909</td>\n",
       "    </tr>\n",
       "    <tr>\n",
       "      <th>4</th>\n",
       "      <td>0.998159</td>\n",
       "      <td>0.625008</td>\n",
       "      <td>0.308151</td>\n",
       "      <td>0.391909</td>\n",
       "      <td>inf</td>\n",
       "    </tr>\n",
       "  </tbody>\n",
       "</table>\n",
       "</div>"
      ],
      "text/plain": [
       "          0         1         2         3         4\n",
       "0       inf  0.818798  0.715066  0.769701  0.998159\n",
       "1  0.818798       inf  0.414601  0.790671  0.625008\n",
       "2  0.715066  0.414601       inf  0.377897  0.308151\n",
       "3  0.769701  0.790671  0.377897       inf  0.391909\n",
       "4  0.998159  0.625008  0.308151  0.391909       inf"
      ]
     },
     "execution_count": 7,
     "metadata": {},
     "output_type": "execute_result"
    }
   ],
   "source": [
    "pd.DataFrame(simplex_radiuses_dim1(data))"
   ]
  },
  {
   "cell_type": "markdown",
   "id": "89033451",
   "metadata": {},
   "source": [
    "## Dimension 2"
   ]
  },
  {
   "cell_type": "code",
   "execution_count": 8,
   "id": "1c597581",
   "metadata": {},
   "outputs": [],
   "source": [
    "def simplex_radiuses_dim2(data, norm=np.linalg.norm):\n",
    "    radiuses_dim1 = simplex_radiuses_dim1(data, norm)\n",
    "    radiuses_dim1 = radiuses_dim1.reshape(np.append(1, radiuses_dim1.shape)) * np.ones([radiuses_dim1.shape[0], 1, 1])\n",
    "    axises = [(0, 1, 2), (1, 2, 0), (2, 0, 1)]\n",
    "    framed = np.array([radiuses_dim1.transpose(axis) for axis in axises])\n",
    "    framed = np.max(framed, axis=0)\n",
    "    # Отделены все обрамлённые\n",
    "    # Нужно также выявить радиусы удаления дырок\n",
    "    pass\n",
    "    return framed"
   ]
  },
  {
   "cell_type": "code",
   "execution_count": 9,
   "id": "6837a82e",
   "metadata": {},
   "outputs": [
    {
     "data": {
      "text/plain": [
       "array([[[       inf,        inf,        inf,        inf,        inf],\n",
       "        [       inf,        inf, 0.81879824, 0.81879824, 0.99815896],\n",
       "        [       inf, 0.81879824,        inf, 0.76970062, 0.99815896],\n",
       "        [       inf, 0.81879824, 0.76970062,        inf, 0.99815896],\n",
       "        [       inf, 0.99815896, 0.99815896, 0.99815896,        inf]],\n",
       "\n",
       "       [[       inf,        inf, 0.81879824, 0.81879824, 0.99815896],\n",
       "        [       inf,        inf,        inf,        inf,        inf],\n",
       "        [0.81879824,        inf,        inf, 0.79067134, 0.62500766],\n",
       "        [0.81879824,        inf, 0.79067134,        inf, 0.79067134],\n",
       "        [0.99815896,        inf, 0.62500766, 0.79067134,        inf]],\n",
       "\n",
       "       [[       inf, 0.81879824,        inf, 0.76970062, 0.99815896],\n",
       "        [0.81879824,        inf,        inf, 0.79067134, 0.62500766],\n",
       "        [       inf,        inf,        inf,        inf,        inf],\n",
       "        [0.76970062, 0.79067134,        inf,        inf, 0.3919088 ],\n",
       "        [0.99815896, 0.62500766,        inf, 0.3919088 ,        inf]],\n",
       "\n",
       "       [[       inf, 0.81879824, 0.76970062,        inf, 0.99815896],\n",
       "        [0.81879824,        inf, 0.79067134,        inf, 0.79067134],\n",
       "        [0.76970062, 0.79067134,        inf,        inf, 0.3919088 ],\n",
       "        [       inf,        inf,        inf,        inf,        inf],\n",
       "        [0.99815896, 0.79067134, 0.3919088 ,        inf,        inf]],\n",
       "\n",
       "       [[       inf, 0.99815896, 0.99815896, 0.99815896,        inf],\n",
       "        [0.99815896,        inf, 0.62500766, 0.79067134,        inf],\n",
       "        [0.99815896, 0.62500766,        inf, 0.3919088 ,        inf],\n",
       "        [0.99815896, 0.79067134, 0.3919088 ,        inf,        inf],\n",
       "        [       inf,        inf,        inf,        inf,        inf]]])"
      ]
     },
     "execution_count": 9,
     "metadata": {},
     "output_type": "execute_result"
    }
   ],
   "source": [
    "simplex_radiuses_dim2(data)"
   ]
  },
  {
   "cell_type": "markdown",
   "id": "3766d81f",
   "metadata": {},
   "source": [
    "# Bar search"
   ]
  },
  {
   "cell_type": "code",
   "execution_count": 10,
   "id": "6da07bc9",
   "metadata": {},
   "outputs": [],
   "source": [
    "def get_radiuses(data, norm=np.linalg.norm):\n",
    "    l0 = simplex_radiuses_dim0(data)\n",
    "    l0 = l0[l0 < np.inf]\n",
    "    l1 = simplex_radiuses_dim1(data)\n",
    "    l1 = l1[l1 < np.inf]\n",
    "    l2 = simplex_radiuses_dim2(data)\n",
    "    l2 = l2[l2 < np.inf]\n",
    "    l = np.concatenate([l0, l1, l2])\n",
    "    l = np.unique(l)\n",
    "    return l"
   ]
  },
  {
   "cell_type": "code",
   "execution_count": 20,
   "id": "cf309399",
   "metadata": {},
   "outputs": [],
   "source": [
    "def get_simplex(data, radius, norm=np.linalg.norm):\n",
    "    res = {\n",
    "        0 : np.where(simplex_radiuses_dim0(data, norm) <= radius), \n",
    "        1 : np.array(np.where(simplex_radiuses_dim1(data, norm) <= radius)).transpose(), \n",
    "        2 : np.array(np.where(simplex_radiuses_dim2(data, norm) <= radius)).transpose(), \n",
    "    }\n",
    "    for i in range(1, 3):\n",
    "        res[i] = np.sort(res[i], axis=1)\n",
    "        res[i] = np.unique(res[i], axis=0)\n",
    "    return res"
   ]
  },
  {
   "cell_type": "code",
   "execution_count": 21,
   "id": "149a783b",
   "metadata": {},
   "outputs": [],
   "source": [
    "def get_radius_simplex(data, norm=np.linalg.norm):\n",
    "    res = {}\n",
    "    for radius in get_radiuses(data, norm):\n",
    "        res.update({radius : get_simplex(data, radius, norm=norm)})\n",
    "    return res"
   ]
  },
  {
   "cell_type": "code",
   "execution_count": 22,
   "id": "1c6eb3ae",
   "metadata": {},
   "outputs": [
    {
     "data": {
      "text/plain": [
       "{0.0: {0: (array([0, 1, 2, 3, 4]),),\n",
       "  1: array([], shape=(0, 2), dtype=int64),\n",
       "  2: array([], shape=(0, 3), dtype=int64)},\n",
       " 0.308151136465017: {0: (array([0, 1, 2, 3, 4]),),\n",
       "  1: array([[2, 4]]),\n",
       "  2: array([], shape=(0, 3), dtype=int64)},\n",
       " 0.3778968873165929: {0: (array([0, 1, 2, 3, 4]),),\n",
       "  1: array([[2, 3],\n",
       "         [2, 4]]),\n",
       "  2: array([], shape=(0, 3), dtype=int64)},\n",
       " 0.39190880360517794: {0: (array([0, 1, 2, 3, 4]),),\n",
       "  1: array([[2, 3],\n",
       "         [2, 4],\n",
       "         [3, 4]]),\n",
       "  2: array([[2, 3, 4]])},\n",
       " 0.41460068578733006: {0: (array([0, 1, 2, 3, 4]),),\n",
       "  1: array([[1, 2],\n",
       "         [2, 3],\n",
       "         [2, 4],\n",
       "         [3, 4]]),\n",
       "  2: array([[2, 3, 4]])},\n",
       " 0.6250076601463666: {0: (array([0, 1, 2, 3, 4]),),\n",
       "  1: array([[1, 2],\n",
       "         [1, 4],\n",
       "         [2, 3],\n",
       "         [2, 4],\n",
       "         [3, 4]]),\n",
       "  2: array([[1, 2, 4],\n",
       "         [2, 3, 4]])},\n",
       " 0.7150658054024976: {0: (array([0, 1, 2, 3, 4]),),\n",
       "  1: array([[0, 2],\n",
       "         [1, 2],\n",
       "         [1, 4],\n",
       "         [2, 3],\n",
       "         [2, 4],\n",
       "         [3, 4]]),\n",
       "  2: array([[1, 2, 4],\n",
       "         [2, 3, 4]])},\n",
       " 0.7697006186201344: {0: (array([0, 1, 2, 3, 4]),),\n",
       "  1: array([[0, 2],\n",
       "         [0, 3],\n",
       "         [1, 2],\n",
       "         [1, 4],\n",
       "         [2, 3],\n",
       "         [2, 4],\n",
       "         [3, 4]]),\n",
       "  2: array([[0, 2, 3],\n",
       "         [1, 2, 4],\n",
       "         [2, 3, 4]])},\n",
       " 0.7906713351155398: {0: (array([0, 1, 2, 3, 4]),),\n",
       "  1: array([[0, 2],\n",
       "         [0, 3],\n",
       "         [1, 2],\n",
       "         [1, 3],\n",
       "         [1, 4],\n",
       "         [2, 3],\n",
       "         [2, 4],\n",
       "         [3, 4]]),\n",
       "  2: array([[0, 2, 3],\n",
       "         [1, 2, 3],\n",
       "         [1, 2, 4],\n",
       "         [1, 3, 4],\n",
       "         [2, 3, 4]])},\n",
       " 0.818798241591175: {0: (array([0, 1, 2, 3, 4]),),\n",
       "  1: array([[0, 1],\n",
       "         [0, 2],\n",
       "         [0, 3],\n",
       "         [1, 2],\n",
       "         [1, 3],\n",
       "         [1, 4],\n",
       "         [2, 3],\n",
       "         [2, 4],\n",
       "         [3, 4]]),\n",
       "  2: array([[0, 1, 2],\n",
       "         [0, 1, 3],\n",
       "         [0, 2, 3],\n",
       "         [1, 2, 3],\n",
       "         [1, 2, 4],\n",
       "         [1, 3, 4],\n",
       "         [2, 3, 4]])},\n",
       " 0.9981589645366781: {0: (array([0, 1, 2, 3, 4]),),\n",
       "  1: array([[0, 1],\n",
       "         [0, 2],\n",
       "         [0, 3],\n",
       "         [0, 4],\n",
       "         [1, 2],\n",
       "         [1, 3],\n",
       "         [1, 4],\n",
       "         [2, 3],\n",
       "         [2, 4],\n",
       "         [3, 4]]),\n",
       "  2: array([[0, 1, 2],\n",
       "         [0, 1, 3],\n",
       "         [0, 1, 4],\n",
       "         [0, 2, 3],\n",
       "         [0, 2, 4],\n",
       "         [0, 3, 4],\n",
       "         [1, 2, 3],\n",
       "         [1, 2, 4],\n",
       "         [1, 3, 4],\n",
       "         [2, 3, 4]])}}"
      ]
     },
     "execution_count": 22,
     "metadata": {},
     "output_type": "execute_result"
    }
   ],
   "source": [
    "get_radius_simplex(data)"
   ]
  },
  {
   "cell_type": "code",
   "execution_count": null,
   "id": "5567039e",
   "metadata": {},
   "outputs": [],
   "source": []
  },
  {
   "cell_type": "code",
   "execution_count": null,
   "id": "fd6bc3d0",
   "metadata": {},
   "outputs": [],
   "source": []
  }
 ],
 "metadata": {
  "kernelspec": {
   "display_name": "Python 3 (ipykernel)",
   "language": "python",
   "name": "python3"
  },
  "language_info": {
   "codemirror_mode": {
    "name": "ipython",
    "version": 3
   },
   "file_extension": ".py",
   "mimetype": "text/x-python",
   "name": "python",
   "nbconvert_exporter": "python",
   "pygments_lexer": "ipython3",
   "version": "3.10.2"
  }
 },
 "nbformat": 4,
 "nbformat_minor": 5
}
