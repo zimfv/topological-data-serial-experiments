{
 "cells": [
  {
   "cell_type": "code",
   "execution_count": 2,
   "id": "9ad20c75",
   "metadata": {},
   "outputs": [],
   "source": [
    "import numpy as np"
   ]
  },
  {
   "cell_type": "code",
   "execution_count": null,
   "id": "4ba42b52",
   "metadata": {},
   "outputs": [],
   "source": []
  },
  {
   "cell_type": "code",
   "execution_count": 58,
   "id": "751b502b",
   "metadata": {},
   "outputs": [],
   "source": [
    "class elementary_group:\n",
    "    def __init__(self, generator=1, equiv=None):\n",
    "        self.generator = generator\n",
    "        self.equiv = equiv\n",
    "    \n",
    "    def __str__(self):\n",
    "        if self.equiv is None:\n",
    "            if abs(self.generator) == 1:\n",
    "                return 'Z'\n",
    "            return str(self.generator) + 'Z'\n",
    "        if abs(self.generator) == 1:\n",
    "            return 'Z/' + str(self.equiv) + 'Z'\n",
    "        return str(self.generator) + 'Z/' + str(self.equiv) + 'Z'\n",
    "    \n",
    "    def order(self):\n",
    "        if self.equiv is None:\n",
    "            return np.inf\n",
    "        else:\n",
    "            return np.lcm(self.generator, self.equiv)"
   ]
  },
  {
   "cell_type": "code",
   "execution_count": 60,
   "id": "c0729c91",
   "metadata": {},
   "outputs": [
    {
     "name": "stdout",
     "output_type": "stream",
     "text": [
      "2Z : inf\n",
      "Z/2Z : 2\n",
      "Z/3Z : 3\n"
     ]
    }
   ],
   "source": [
    "z = elementary_group(2)\n",
    "z2 = elementary_group(1, 2)\n",
    "z3 = elementary_group(1, 3)\n",
    "for g in [z, z2, z3]:\n",
    "    print(g, ':', g.order())"
   ]
  },
  {
   "cell_type": "code",
   "execution_count": null,
   "id": "de75af99",
   "metadata": {},
   "outputs": [],
   "source": []
  },
  {
   "cell_type": "code",
   "execution_count": null,
   "id": "bfabcff4",
   "metadata": {},
   "outputs": [],
   "source": []
  }
 ],
 "metadata": {
  "kernelspec": {
   "display_name": "Python 3 (ipykernel)",
   "language": "python",
   "name": "python3"
  },
  "language_info": {
   "codemirror_mode": {
    "name": "ipython",
    "version": 3
   },
   "file_extension": ".py",
   "mimetype": "text/x-python",
   "name": "python",
   "nbconvert_exporter": "python",
   "pygments_lexer": "ipython3",
   "version": "3.10.2"
  }
 },
 "nbformat": 4,
 "nbformat_minor": 5
}
