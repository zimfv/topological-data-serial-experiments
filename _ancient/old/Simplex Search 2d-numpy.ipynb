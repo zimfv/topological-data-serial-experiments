{
 "cells": [
  {
   "cell_type": "code",
   "execution_count": 1,
   "id": "1cdce0d5",
   "metadata": {},
   "outputs": [],
   "source": [
    "import numpy as np\n",
    "import pandas as pd\n",
    "import matplotlib.pyplot as plt\n",
    "import networkx as nx\n",
    "import itertools\n",
    "import imageio"
   ]
  },
  {
   "cell_type": "code",
   "execution_count": 2,
   "id": "5475e036",
   "metadata": {},
   "outputs": [
    {
     "data": {
      "image/png": "[encoded data removed]",
      "text/plain": [
       "<Figure size 576x576 with 1 Axes>"
      ]
     },
     "metadata": {
      "needs_background": "light"
     },
     "output_type": "display_data"
    }
   ],
   "source": [
    "data = np.random.normal(size=(6, 2))\n",
    "\n",
    "sample = 'normal'\n",
    "\n",
    "data_count, data_dim = data.shape\n",
    "\n",
    "\n",
    "plt.figure(figsize=(8, 8))\n",
    "plt.scatter(data[:, 0], data[:, 1], color='indigo', linewidth=8)\n",
    "plt.grid(True)\n",
    "plt.show()"
   ]
  },
  {
   "cell_type": "markdown",
   "id": "f1010011",
   "metadata": {},
   "source": [
    "# Search simplicies"
   ]
  },
  {
   "cell_type": "code",
   "execution_count": 3,
   "id": "11dc2b4e",
   "metadata": {},
   "outputs": [],
   "source": [
    "test_radius = 0.75"
   ]
  },
  {
   "cell_type": "markdown",
   "id": "be486f0d",
   "metadata": {},
   "source": [
    "## Dimension 0"
   ]
  },
  {
   "cell_type": "code",
   "execution_count": 4,
   "id": "b8cd3bcc",
   "metadata": {},
   "outputs": [],
   "source": [
    "def simplex_radiuses_dim0(data, norm=np.linalg.norm):\n",
    "    return np.zeros(data.shape[0])"
   ]
  },
  {
   "cell_type": "markdown",
   "id": "e88552e7",
   "metadata": {},
   "source": [
    "## Dimension 1"
   ]
  },
  {
   "cell_type": "code",
   "execution_count": 5,
   "id": "4bbf5ace",
   "metadata": {},
   "outputs": [],
   "source": [
    "def simplex_radiuses_dim1(data, norm=np.linalg.norm):\n",
    "    n = data.shape[0]\n",
    "    d = data*np.ones(np.append(n, data.shape))\n",
    "    d = d - d.transpose([1, 0, 2])\n",
    "    d = 0.5*norm(d, axis=2)\n",
    "    d[np.eye(n)==1] = np.inf\n",
    "    return d"
   ]
  },
  {
   "cell_type": "markdown",
   "id": "89033451",
   "metadata": {},
   "source": [
    "## Dimension 2"
   ]
  },
  {
   "cell_type": "code",
   "execution_count": 6,
   "id": "1c597581",
   "metadata": {},
   "outputs": [],
   "source": [
    "def simplex_radiuses_dim2(data, norm=np.linalg.norm):\n",
    "    radiuses_dim1 = simplex_radiuses_dim1(data, norm)\n",
    "    radiuses_dim1 = radiuses_dim1.reshape(np.append(1, radiuses_dim1.shape)) * np.ones([radiuses_dim1.shape[0], 1, 1])\n",
    "    axises = [(0, 1, 2), (1, 2, 0), (2, 0, 1)]\n",
    "    framed = np.array([radiuses_dim1.transpose(axis) for axis in axises])\n",
    "    framed = np.max(framed, axis=0)\n",
    "    # Отделены все обрамлённые\n",
    "    # Нужно также выявить радиусы удаления дырок и исключить пересечения\n",
    "    pass\n",
    "    return framed"
   ]
  },
  {
   "cell_type": "markdown",
   "id": "3766d81f",
   "metadata": {},
   "source": [
    "# Analyse spaces"
   ]
  },
  {
   "cell_type": "code",
   "execution_count": 7,
   "id": "6da07bc9",
   "metadata": {},
   "outputs": [],
   "source": [
    "def get_radiuses(data, norm=np.linalg.norm):\n",
    "    l0 = simplex_radiuses_dim0(data)\n",
    "    l0 = l0[l0 < np.inf]\n",
    "    l1 = simplex_radiuses_dim1(data)\n",
    "    l1 = l1[l1 < np.inf]\n",
    "    l2 = simplex_radiuses_dim2(data)\n",
    "    l2 = l2[l2 < np.inf]\n",
    "    l = np.concatenate([l0, l1, l2])\n",
    "    l = np.unique(l)\n",
    "    return l"
   ]
  },
  {
   "cell_type": "code",
   "execution_count": 8,
   "id": "cf309399",
   "metadata": {},
   "outputs": [],
   "source": [
    "def get_space(data, radius, norm=np.linalg.norm):\n",
    "    res = {\n",
    "        0 : np.where(simplex_radiuses_dim0(data, norm) <= radius)[0], \n",
    "        1 : np.array(np.where(simplex_radiuses_dim1(data, norm) <= radius)).transpose(), \n",
    "        2 : np.array(np.where(simplex_radiuses_dim2(data, norm) <= radius)).transpose(), \n",
    "    }\n",
    "    for i in range(1, 3):\n",
    "        res[i] = np.sort(res[i], axis=1)\n",
    "        res[i] = np.unique(res[i], axis=0)\n",
    "    return res"
   ]
  },
  {
   "cell_type": "code",
   "execution_count": 9,
   "id": "149a783b",
   "metadata": {},
   "outputs": [],
   "source": [
    "def get_radius_spaces(data, norm=np.linalg.norm):\n",
    "    res = {}\n",
    "    for radius in get_radiuses(data, norm):\n",
    "        res.update({radius : get_space(data, radius, norm=norm)})\n",
    "    return res"
   ]
  },
  {
   "cell_type": "code",
   "execution_count": 10,
   "id": "b406e681",
   "metadata": {},
   "outputs": [],
   "source": [
    "def number_connected_components(space):\n",
    "    \"\"\"\n",
    "    Returns number of connected components.\n",
    "    \n",
    "    Parameters:\n",
    "    -----------\n",
    "    space : dict\n",
    "        Simplex space. Keys are dimensions, values are list of simplicies.\n",
    "    \n",
    "    Returns:\n",
    "    --------\n",
    "    num : int\n",
    "        Number of connected components.\n",
    "    \"\"\"\n",
    "    graph = nx.Graph()\n",
    "    graph.add_nodes_from(space[0])\n",
    "    graph.add_edges_from(space[1])\n",
    "    num = nx.algorithms.components.number_connected_components(graph)\n",
    "    return num"
   ]
  },
  {
   "cell_type": "code",
   "execution_count": 11,
   "id": "3163261e",
   "metadata": {},
   "outputs": [
    {
     "data": {
      "text/html": [
       "<div>\n",
       "<style scoped>\n",
       "    .dataframe tbody tr th:only-of-type {\n",
       "        vertical-align: middle;\n",
       "    }\n",
       "\n",
       "    .dataframe tbody tr th {\n",
       "        vertical-align: top;\n",
       "    }\n",
       "\n",
       "    .dataframe thead th {\n",
       "        text-align: right;\n",
       "    }\n",
       "</style>\n",
       "<table border=\"1\" class=\"dataframe\">\n",
       "  <thead>\n",
       "    <tr style=\"text-align: right;\">\n",
       "      <th></th>\n",
       "      <th>Radius</th>\n",
       "      <th>Simplices dim 0</th>\n",
       "      <th>Simplices dim 1</th>\n",
       "      <th>Simplices dim 2</th>\n",
       "      <th>Connected components</th>\n",
       "    </tr>\n",
       "  </thead>\n",
       "  <tbody>\n",
       "    <tr>\n",
       "      <th>0</th>\n",
       "      <td>0.000000</td>\n",
       "      <td>6</td>\n",
       "      <td>0</td>\n",
       "      <td>0</td>\n",
       "      <td>6</td>\n",
       "    </tr>\n",
       "    <tr>\n",
       "      <th>1</th>\n",
       "      <td>0.112962</td>\n",
       "      <td>6</td>\n",
       "      <td>1</td>\n",
       "      <td>0</td>\n",
       "      <td>5</td>\n",
       "    </tr>\n",
       "    <tr>\n",
       "      <th>2</th>\n",
       "      <td>0.405688</td>\n",
       "      <td>6</td>\n",
       "      <td>2</td>\n",
       "      <td>0</td>\n",
       "      <td>4</td>\n",
       "    </tr>\n",
       "    <tr>\n",
       "      <th>3</th>\n",
       "      <td>0.432767</td>\n",
       "      <td>6</td>\n",
       "      <td>3</td>\n",
       "      <td>1</td>\n",
       "      <td>4</td>\n",
       "    </tr>\n",
       "    <tr>\n",
       "      <th>4</th>\n",
       "      <td>0.705338</td>\n",
       "      <td>6</td>\n",
       "      <td>4</td>\n",
       "      <td>1</td>\n",
       "      <td>3</td>\n",
       "    </tr>\n",
       "    <tr>\n",
       "      <th>5</th>\n",
       "      <td>0.808567</td>\n",
       "      <td>6</td>\n",
       "      <td>5</td>\n",
       "      <td>2</td>\n",
       "      <td>3</td>\n",
       "    </tr>\n",
       "    <tr>\n",
       "      <th>6</th>\n",
       "      <td>0.923790</td>\n",
       "      <td>6</td>\n",
       "      <td>6</td>\n",
       "      <td>4</td>\n",
       "      <td>3</td>\n",
       "    </tr>\n",
       "    <tr>\n",
       "      <th>7</th>\n",
       "      <td>1.035461</td>\n",
       "      <td>6</td>\n",
       "      <td>7</td>\n",
       "      <td>4</td>\n",
       "      <td>2</td>\n",
       "    </tr>\n",
       "    <tr>\n",
       "      <th>8</th>\n",
       "      <td>1.299436</td>\n",
       "      <td>6</td>\n",
       "      <td>8</td>\n",
       "      <td>5</td>\n",
       "      <td>2</td>\n",
       "    </tr>\n",
       "    <tr>\n",
       "      <th>9</th>\n",
       "      <td>1.415925</td>\n",
       "      <td>6</td>\n",
       "      <td>9</td>\n",
       "      <td>7</td>\n",
       "      <td>2</td>\n",
       "    </tr>\n",
       "    <tr>\n",
       "      <th>10</th>\n",
       "      <td>1.449158</td>\n",
       "      <td>6</td>\n",
       "      <td>10</td>\n",
       "      <td>7</td>\n",
       "      <td>1</td>\n",
       "    </tr>\n",
       "    <tr>\n",
       "      <th>11</th>\n",
       "      <td>1.477465</td>\n",
       "      <td>6</td>\n",
       "      <td>11</td>\n",
       "      <td>8</td>\n",
       "      <td>1</td>\n",
       "    </tr>\n",
       "    <tr>\n",
       "      <th>12</th>\n",
       "      <td>1.523461</td>\n",
       "      <td>6</td>\n",
       "      <td>12</td>\n",
       "      <td>11</td>\n",
       "      <td>1</td>\n",
       "    </tr>\n",
       "    <tr>\n",
       "      <th>13</th>\n",
       "      <td>1.533059</td>\n",
       "      <td>6</td>\n",
       "      <td>13</td>\n",
       "      <td>13</td>\n",
       "      <td>1</td>\n",
       "    </tr>\n",
       "    <tr>\n",
       "      <th>14</th>\n",
       "      <td>1.877901</td>\n",
       "      <td>6</td>\n",
       "      <td>14</td>\n",
       "      <td>16</td>\n",
       "      <td>1</td>\n",
       "    </tr>\n",
       "    <tr>\n",
       "      <th>15</th>\n",
       "      <td>2.568490</td>\n",
       "      <td>6</td>\n",
       "      <td>15</td>\n",
       "      <td>20</td>\n",
       "      <td>1</td>\n",
       "    </tr>\n",
       "  </tbody>\n",
       "</table>\n",
       "</div>"
      ],
      "text/plain": [
       "      Radius  Simplices dim 0  Simplices dim 1  Simplices dim 2  \\\n",
       "0   0.000000                6                0                0   \n",
       "1   0.112962                6                1                0   \n",
       "2   0.405688                6                2                0   \n",
       "3   0.432767                6                3                1   \n",
       "4   0.705338                6                4                1   \n",
       "5   0.808567                6                5                2   \n",
       "6   0.923790                6                6                4   \n",
       "7   1.035461                6                7                4   \n",
       "8   1.299436                6                8                5   \n",
       "9   1.415925                6                9                7   \n",
       "10  1.449158                6               10                7   \n",
       "11  1.477465                6               11                8   \n",
       "12  1.523461                6               12               11   \n",
       "13  1.533059                6               13               13   \n",
       "14  1.877901                6               14               16   \n",
       "15  2.568490                6               15               20   \n",
       "\n",
       "    Connected components  \n",
       "0                      6  \n",
       "1                      5  \n",
       "2                      4  \n",
       "3                      4  \n",
       "4                      3  \n",
       "5                      3  \n",
       "6                      3  \n",
       "7                      2  \n",
       "8                      2  \n",
       "9                      2  \n",
       "10                     1  \n",
       "11                     1  \n",
       "12                     1  \n",
       "13                     1  \n",
       "14                     1  \n",
       "15                     1  "
      ]
     },
     "execution_count": 11,
     "metadata": {},
     "output_type": "execute_result"
    }
   ],
   "source": [
    "spaces = get_radius_spaces(data)\n",
    "pd.DataFrame({\n",
    "    'Radius' : [r for r in spaces],\n",
    "    'Simplices dim 0' : [len(spaces[r][0]) for r in spaces], \n",
    "    'Simplices dim 1' : [len(spaces[r][1]) for r in spaces], \n",
    "    'Simplices dim 2' : [len(spaces[r][2]) for r in spaces], \n",
    "    'Connected components' : [number_connected_components(spaces[r]) for r in spaces]\n",
    "})"
   ]
  },
  {
   "cell_type": "markdown",
   "id": "d0a093db",
   "metadata": {},
   "source": [
    "# Visualization"
   ]
  },
  {
   "cell_type": "code",
   "execution_count": 12,
   "id": "1c6eb3ae",
   "metadata": {},
   "outputs": [],
   "source": [
    "def draw_balls(data, radius, color='orchid', linewidth=0, alpha=0.5, circle_points=24, fill=True, ax=plt):\n",
    "    \"\"\"\n",
    "    Plots balls arround points from data.\n",
    "    \n",
    "    Parameters:\n",
    "    -----------\n",
    "    data : np.ndarray or list of np.ndarrays\n",
    "        List of points.\n",
    "        \n",
    "    radius : float\n",
    "        Ball radius.\n",
    "        \n",
    "    color : color or rgba tuple\n",
    "        \n",
    "    linewidth : scalar\n",
    "        \n",
    "    alpha : float\n",
    "        The alpha blending value, between 0 (transparent) and 1 (opaque).\n",
    "            \n",
    "    circle_points : int\n",
    "        Number of points in circle. (If fill is True, then that will be number of ponts in top and bot arc)\n",
    "        \n",
    "    fill : bool\n",
    "        Fill circle if True.\n",
    "        \n",
    "    ax : matplotlib.pyplot or Axes class\n",
    "    \"\"\"\n",
    "    if fill:\n",
    "        arc_x = radius*np.cos(np.pi*np.arange(circle_points+1)/circle_points)\n",
    "        arc_y1 = radius*np.sin(np.pi*np.arange(circle_points+1)/circle_points)\n",
    "        arc_y2 = radius*np.sin(-np.pi*np.arange(circle_points+1)/circle_points)\n",
    "        for point in data:\n",
    "            ax.fill_between(x=point[0] + arc_x, y1=point[1] + arc_y1, y2=point[1] + arc_y2,\n",
    "                            color=color, linewidth=linewidth, alpha=alpha)\n",
    "    else:\n",
    "        circle_x = radius*np.cos(2*np.pi*np.arange(circle_points+1)/circle_points)\n",
    "        circle_y = radius*np.sin(2*np.pi*np.arange(circle_points+1)/circle_points)\n",
    "        for point in data:\n",
    "            ax.plot(point[0] + circle_x, point[1] + circle_y, color=color, linewidth=linewidth, alpha=alpha)"
   ]
  },
  {
   "cell_type": "code",
   "execution_count": 13,
   "id": "b4aec214",
   "metadata": {},
   "outputs": [],
   "source": [
    "def draw_simplicies(data, edges=[], triangles=[],\n",
    "                    node_color='indigo', node_width=8, node_alpha=1,\n",
    "                    edge_color='steelblue', edge_width=4, edge_alpha=1,\n",
    "                    triangle_color='aquamarine', triangle_alpha=0.7, ax=plt):\n",
    "    \"\"\"\n",
    "    Plots nodes edges and triangles of all simplicies.\n",
    "    \n",
    "    Parameters:\n",
    "    -----------\n",
    "    data : np.ndarray or list of np.ndarrays\n",
    "        List of points (nodes).\n",
    "            \n",
    "    edges : list of tuples\n",
    "        List of node pairs.\n",
    "            \n",
    "    triangles : list of tuples\n",
    "        List of triangle triples.\n",
    "            \n",
    "    node_color : color or rgba tuple\n",
    "        Node color.\n",
    "            \n",
    "    node_width : scalar\n",
    "        Linewidth of nodes.\n",
    "        \n",
    "    node_alpha : float\n",
    "        The alpha blending value for node, between 0 (transparent) and 1 (opaque).\n",
    "\n",
    "    edge_color : color or rgba tuple\n",
    "        Edge color.\n",
    "            \n",
    "    edge_width : scalar\n",
    "        Linewidth of edges.\n",
    "        \n",
    "    edge_alpha : float\n",
    "        The alpha blending value for edge, between 0 (transparent) and 1 (opaque).\n",
    "            \n",
    "    triangle_color : color or rgba tuple\n",
    "        Triangle fill color.\n",
    "        \n",
    "    node_alpha : float\n",
    "        The alpha blending value for filled triangle, between 0 (transparent) and 1 (opaque).\n",
    "        \n",
    "    ax : matplotlib.pyplot or Axes class\n",
    "    \"\"\"\n",
    "    for triangle in triangles:\n",
    "        xs = [data[i][0] for i in triangle]\n",
    "        ys = [data[i][1] for i in triangle]\n",
    "        ax.fill(xs, ys, color=triangle_color, alpha=triangle_alpha)\n",
    "    for edge in edges:\n",
    "        p0 = data[edge[0]]\n",
    "        p1 = data[edge[1]]\n",
    "        ax.plot([p0[0], p1[0]], [p0[1], p1[1]], color=edge_color, linewidth=edge_width, alpha=edge_alpha)\n",
    "    for point in data:\n",
    "        ax.scatter(point[0], point[1], color=node_color, linewidth=node_width, alpha=node_alpha)"
   ]
  },
  {
   "cell_type": "code",
   "execution_count": 14,
   "id": "6a6e601b",
   "metadata": {},
   "outputs": [
    {
     "data": {
      "text/plain": [
       "'simplex2dnp_normal_dim2_count6'"
      ]
     },
     "execution_count": 14,
     "metadata": {},
     "output_type": "execute_result"
    }
   ],
   "source": [
    "filetemplate = 'simplex2dnp'\n",
    "filename = filetemplate + '_' + sample + '_dim' + str(data_dim) + '_count' + str(data_count)\n",
    "filename"
   ]
  },
  {
   "cell_type": "code",
   "execution_count": 15,
   "id": "863a3229",
   "metadata": {},
   "outputs": [
    {
     "data": {
      "text/plain": [
       "33"
      ]
     },
     "execution_count": 15,
     "metadata": {},
     "output_type": "execute_result"
    }
   ],
   "source": [
    "visible_radiuses = np.arange(0, 1.61, 0.05)\n",
    "len(visible_radiuses)"
   ]
  },
  {
   "cell_type": "code",
   "execution_count": 16,
   "id": "f75a2188",
   "metadata": {},
   "outputs": [],
   "source": [
    "for radius in visible_radiuses:\n",
    "    space = get_space(data, radius)\n",
    "    edges = space[1]\n",
    "    triangles = space[2]\n",
    "    \n",
    "    plt.figure(figsize=(12, 12))\n",
    "    plt.title('$R = ' + str('{:.3f}'.format(radius)) +'$', fontdict={'fontsize':24})\n",
    "    draw_balls(data, radius, color='orchid', alpha=0.15, ax=plt)\n",
    "    draw_simplicies(data, edges=edges, triangles=triangles)\n",
    "    plt.grid(True)\n",
    "    plt.savefig('pics/' + filename + str(radius).replace('.', '_') + '.png')\n",
    "    plt.close()"
   ]
  },
  {
   "cell_type": "code",
   "execution_count": 17,
   "id": "89feea13",
   "metadata": {},
   "outputs": [],
   "source": [
    "images = [imageio.imread('pics/' + filename + str(radius).replace('.', '_') + '.png') for radius in visible_radiuses]\n",
    "imageio.mimsave(filename + '.gif', images)"
   ]
  },
  {
   "cell_type": "code",
   "execution_count": null,
   "id": "b1f1360d",
   "metadata": {},
   "outputs": [],
   "source": []
  }
 ],
 "metadata": {
  "kernelspec": {
   "display_name": "Python 3 (ipykernel)",
   "language": "python",
   "name": "python3"
  },
  "language_info": {
   "codemirror_mode": {
    "name": "ipython",
    "version": 3
   },
   "file_extension": ".py",
   "mimetype": "text/x-python",
   "name": "python",
   "nbconvert_exporter": "python",
   "pygments_lexer": "ipython3",
   "version": "3.10.2"
  }
 },
 "nbformat": 4,
 "nbformat_minor": 5
}
