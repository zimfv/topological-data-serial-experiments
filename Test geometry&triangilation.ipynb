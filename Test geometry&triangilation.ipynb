{
 "cells": [
  {
   "cell_type": "code",
   "execution_count": 1,
   "id": "2451924f",
   "metadata": {},
   "outputs": [],
   "source": [
    "import time\n",
    "import itertools\n",
    "import numpy as np\n",
    "from package import geometry"
   ]
  },
  {
   "cell_type": "code",
   "execution_count": 2,
   "id": "b3bc1433",
   "metadata": {},
   "outputs": [
    {
     "name": "stdout",
     "output_type": "stream",
     "text": [
      "cube2d: Dimension: 2; Vertices: 4\n",
      "cube3d: Dimension: 3; Vertices: 8\n",
      "TrOcth: Dimension: 3; Vertices: 24\n",
      "cube4d: Dimension: 4; Vertices: 16\n"
     ]
    }
   ],
   "source": [
    "cube2d = np.array(list(itertools.product([1, -1], repeat=2)))\n",
    "cube3d = np.array(list(itertools.product([1, -1], repeat=3)))\n",
    "cube4d = np.array(list(itertools.product([1, -1], repeat=4)))\n",
    "\n",
    "truncated_octahedron = np.array(list(itertools.permutations([0, 1, 2], 3)))\n",
    "truncated_octahedron = np.concatenate([truncated_octahedron*np.array(i) for i in itertools.product([1, -1], repeat=3)])\n",
    "truncated_octahedron = 0.5*np.unique(truncated_octahedron, axis=0)\n",
    "\n",
    "figures = {'cube2d': cube2d, \n",
    "           'cube3d': cube3d, \n",
    "           'TrOcth' : truncated_octahedron, \n",
    "           'cube4d': cube4d, }\n",
    "\n",
    "for key in figures:\n",
    "    print(f'{key}: Dimension: {figures[key].shape[1]}; Vertices: {figures[key].shape[0]}')"
   ]
  },
  {
   "cell_type": "markdown",
   "id": "0238ed6b",
   "metadata": {},
   "source": [
    "# Geometry"
   ]
  },
  {
   "cell_type": "code",
   "execution_count": 3,
   "id": "8fcb4165",
   "metadata": {
    "scrolled": false
   },
   "outputs": [
    {
     "name": "stdout",
     "output_type": "stream",
     "text": [
      "Hyperspcaes for cube2d has been calculated in 0.0010 seconds.\n",
      "Hyperspcaes for cube3d has been calculated in 0.0061 seconds.\n",
      "Hyperspcaes for TrOcth has been calculated in 0.0750 seconds.\n",
      "Hyperspcaes for cube4d has been calculated in 0.1031 seconds.\n",
      "\n",
      "Figure cube2d\n",
      "Hyperspaces total: 2\n",
      "Hyperspaces size 2 : 2\n",
      "\n",
      "Figure cube3d\n",
      "Hyperspaces total: 6\n",
      "Hyperspaces size 4 : 6\n",
      "\n",
      "Figure TrOcth\n",
      "Hyperspaces total: 51\n",
      "Hyperspaces size 4 : 48\n",
      "Hyperspaces size 8 : 3\n",
      "\n",
      "Figure cube4d\n",
      "Hyperspaces total: 20\n",
      "Hyperspaces size 6 : 8\n",
      "Hyperspaces size 8 : 12\n",
      "\n"
     ]
    }
   ],
   "source": [
    "matrices = {}\n",
    "hspaces = {}\n",
    "for key in figures:\n",
    "    figure = figures[key]\n",
    "    clock = time.perf_counter()\n",
    "    m_list, h_list = geometry.get_hyperspaces_containing(figure)\n",
    "    clock = time.perf_counter() - clock\n",
    "    matrices.update({key : m_list.copy()})\n",
    "    hspaces.update({key : [i for i in h_list]})\n",
    "    print(\"Hyperspcaes for {0} has been calculated in {1:.4f} seconds.\".format(key, clock))\n",
    "\n",
    "print()\n",
    "for key in hspaces:\n",
    "    lengths = np.array([len(hspace) for hspace in hspaces[key]])\n",
    "    length2 = []\n",
    "    for length in np.unique(lengths):\n",
    "        length2.append(f\"Hyperspaces size {length} : {(lengths == length).sum()}\")\n",
    "    msg = f\"Figure {key}\\nHyperspaces total: {len(lengths)}\\n\" + '\\n'.join(length2) + '\\n'\n",
    "    print(msg)"
   ]
  },
  {
   "cell_type": "code",
   "execution_count": 4,
   "id": "bde8431b",
   "metadata": {
    "scrolled": false
   },
   "outputs": [
    {
     "name": "stdout",
     "output_type": "stream",
     "text": [
      "Half for cube2d has been calculated in 0.0006 seconds.\n",
      "Half for cube3d has been calculated in 0.0007 seconds.\n",
      "Half for TrOcth has been calculated in 0.0005 seconds.\n",
      "Half for cube4d has been calculated in 0.0007 seconds.\n",
      "\n",
      "Halfs I got:\n",
      "cube2d: Dimension: 2; Vertices: 3\n",
      "cube3d: Dimension: 3; Vertices: 6\n",
      "TrOcth: Dimension: 3; Vertices: 16\n",
      "cube4d: Dimension: 4; Vertices: 12\n"
     ]
    }
   ],
   "source": [
    "halfs = {}\n",
    "for key in figures:\n",
    "    figure = np.array(figures[key])\n",
    "    hspace = hspaces[key]\n",
    "    lengths = np.array([len(hspc) for hspc in hspace])\n",
    "    matrix = matrices[key][np.where(lengths == max(lengths))[0][0]]\n",
    "    clock = time.perf_counter()\n",
    "    half = geometry.get_half(figure, matrix)\n",
    "    clock = time.perf_counter() - clock\n",
    "    halfs.update({key : half})\n",
    "    print(\"Half for {0} has been calculated in {1:.4f} seconds.\".format(key, clock))\n",
    "    \n",
    "print('\\nHalfs I got:')\n",
    "for key in halfs:\n",
    "    print(f'{key}: Dimension: {halfs[key].shape[1]}; Vertices: {halfs[key].shape[0]}')\n",
    "    \n",
    "assert [halfs[key].shape[0] for key in halfs] == [3, 6, 16, 12]"
   ]
  },
  {
   "cell_type": "code",
   "execution_count": 5,
   "id": "14a0f841",
   "metadata": {},
   "outputs": [
    {
     "name": "stdout",
     "output_type": "stream",
     "text": [
      "All normals for hyperspaces in cube2d has been calculated in 0.0004 seconds.\n",
      "All normals for hyperspaces in cube3d has been calculated in 0.0006 seconds.\n",
      "All normals for hyperspaces in TrOcth has been calculated in 0.0036 seconds.\n",
      "All normals for hyperspaces in cube4d has been calculated in 0.0011 seconds.\n",
      "\n",
      "normals[cube2d].shape = (2, 2)\n",
      "normals[cube3d].shape = (6, 3)\n",
      "normals[TrOcth].shape = (51, 3)\n",
      "normals[cube4d].shape = (20, 4)\n"
     ]
    }
   ],
   "source": [
    "normals = {}\n",
    "for key in figures:\n",
    "    figure = figures[key]\n",
    "    matrices_key = matrices[key]\n",
    "    normals_key = []\n",
    "    clock = time.perf_counter()\n",
    "    for matrix in matrices_key:\n",
    "        normals_matrix = geometry.get_normal(matrix)\n",
    "        normals_key.append(normals_matrix)\n",
    "    clock = time.perf_counter() - clock\n",
    "    normals.update({key : np.array(normals_key)})\n",
    "    print(\"All normals for hyperspaces in {0} has been calculated in {1:.4f} seconds.\".format(key, clock))\n",
    "    \n",
    "print()\n",
    "for key in normals:\n",
    "    print(f'normals[{key}].shape = {normals[key].shape}')"
   ]
  },
  {
   "cell_type": "code",
   "execution_count": 6,
   "id": "5b86d8b5",
   "metadata": {},
   "outputs": [
    {
     "name": "stdout",
     "output_type": "stream",
     "text": [
      "Half for cube2d has been reflected in 0.0001 seconds.\n",
      "Half for cube3d has been reflected in 0.0001 seconds.\n",
      "Half for TrOcth has been reflected in 0.0000 seconds.\n",
      "Half for cube4d has been reflected in 0.0000 seconds.\n",
      "\n",
      "Reflections of halfs I got:\n",
      "cube2d: Dimension: 2; Vertices: 3\n",
      "cube3d: Dimension: 3; Vertices: 6\n",
      "TrOcth: Dimension: 3; Vertices: 16\n",
      "cube4d: Dimension: 4; Vertices: 12\n"
     ]
    }
   ],
   "source": [
    "refs = {}\n",
    "for key in figures:\n",
    "    figure = figures[key]\n",
    "    hspace = hspaces[key]\n",
    "    lengths = np.array([len(hspc) for hspc in hspace])\n",
    "    normal = normals[key][np.where(lengths == max(lengths))[0][0]]\n",
    "    half = halfs[key]\n",
    "    \n",
    "    clock = time.perf_counter()\n",
    "    ref = geometry.reflect(half, normal)\n",
    "    clock = time.perf_counter() - clock\n",
    "    refs.update({key : ref})\n",
    "    print(\"Half for {0} has been reflected in {1:.4f} seconds.\".format(key, clock))\n",
    "\n",
    "print('\\nReflections of halfs I got:')\n",
    "for key in halfs:\n",
    "    print(f'{key}: Dimension: {refs[key].shape[1]}; Vertices: {refs[key].shape[0]}')\n",
    "    \n",
    "assert [refs[key].shape[0] for key in refs] == [halfs[key].shape[0] for key in halfs]"
   ]
  },
  {
   "cell_type": "code",
   "execution_count": 7,
   "id": "c65bdf27",
   "metadata": {},
   "outputs": [
    {
     "name": "stdout",
     "output_type": "stream",
     "text": [
      "Unions of halfs\n",
      "cube2d: Dimension: 2; Vertices: 4\n",
      "cube3d: Dimension: 3; Vertices: 8\n",
      "TrOcth: Dimension: 3; Vertices: 24\n",
      "cube4d: Dimension: 4; Vertices: 16\n"
     ]
    }
   ],
   "source": [
    "half_unions = {}\n",
    "for key in figures:\n",
    "    half_unions.update({key : np.unique(np.concatenate([halfs[key], refs[key]]), axis=0)})\n",
    "    \n",
    "print('Unions of halfs')\n",
    "for key in half_unions:\n",
    "    print(f'{key}: Dimension: {half_unions[key].shape[1]}; Vertices: {half_unions[key].shape[0]}')\n",
    "    \n",
    "for key in figures:\n",
    "    try:\n",
    "        assert (np.sort(figures[key], axis=0) == np.sort(half_unions[key], axis=0)).all()\n",
    "    except AssertionError:\n",
    "        print()\n",
    "        print(f'Something is wrong for figure {key}:')\n",
    "        print(f'figures[{key}]:\\n{figures[key]}')\n",
    "        print(f'half_unions[{key}]:\\n{half_unions[key]}')"
   ]
  },
  {
   "cell_type": "markdown",
   "id": "18f740d8",
   "metadata": {},
   "source": [
    "# Triangulation"
   ]
  },
  {
   "cell_type": "code",
   "execution_count": null,
   "id": "713a01bb",
   "metadata": {},
   "outputs": [],
   "source": []
  },
  {
   "cell_type": "code",
   "execution_count": null,
   "id": "ec8d256e",
   "metadata": {},
   "outputs": [],
   "source": []
  },
  {
   "cell_type": "code",
   "execution_count": null,
   "id": "de41e901",
   "metadata": {},
   "outputs": [],
   "source": []
  }
 ],
 "metadata": {
  "kernelspec": {
   "display_name": "Python 3 (ipykernel)",
   "language": "python",
   "name": "python3"
  },
  "language_info": {
   "codemirror_mode": {
    "name": "ipython",
    "version": 3
   },
   "file_extension": ".py",
   "mimetype": "text/x-python",
   "name": "python",
   "nbconvert_exporter": "python",
   "pygments_lexer": "ipython3",
   "version": "3.11.6"
  }
 },
 "nbformat": 4,
 "nbformat_minor": 5
}
