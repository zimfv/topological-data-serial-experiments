{
 "cells": [
  {
   "cell_type": "code",
   "execution_count": 1,
   "id": "20e4a900",
   "metadata": {},
   "outputs": [],
   "source": [
    "import numpy as np"
   ]
  },
  {
   "cell_type": "code",
   "execution_count": 2,
   "id": "ada43e8e",
   "metadata": {},
   "outputs": [],
   "source": [
    "ignore = []"
   ]
  },
  {
   "cell_type": "markdown",
   "id": "a28518d7",
   "metadata": {},
   "source": [
    "# lab_cubical_tessellation_on_torus3d_aggregated"
   ]
  },
  {
   "cell_type": "code",
   "execution_count": 3,
   "id": "e4e1f1e4",
   "metadata": {},
   "outputs": [],
   "source": [
    "ignore_template = '/lab-results/lab_cubical_tessellation_on_torus3d_aggregated/size{0}.csv'\n",
    "ignore_vals = np.arange(32, 70)\n",
    "ignore_that = [ignore_template.format(i) for i in ignore_vals]\n",
    "ignore = np.concatenate([ignore, ignore_that])"
   ]
  },
  {
   "cell_type": "markdown",
   "id": "697ec812",
   "metadata": {},
   "source": [
    "# lab_cubical_tessellation_on_torus3d_aggregated"
   ]
  },
  {
   "cell_type": "code",
   "execution_count": 4,
   "id": "9da1432e",
   "metadata": {},
   "outputs": [],
   "source": [
    "ignore_template = 'lab-results/lab_voronoiD3_tessellation_on_torus3d_aggregated/size{0}.csv'\n",
    "ignore_vals = np.arange(21, 28)\n",
    "ignore_that = [ignore_template.format(i) for i in ignore_vals]\n",
    "ignore = np.concatenate([ignore, ignore_that])"
   ]
  },
  {
   "cell_type": "markdown",
   "id": "c5d01d3e",
   "metadata": {},
   "source": [
    "# create .gitignore"
   ]
  },
  {
   "cell_type": "code",
   "execution_count": 5,
   "id": "37388e76",
   "metadata": {},
   "outputs": [],
   "source": [
    "ignore_str = ''.join(np.char.add(ignore, '\\n'))\n",
    "with open('.gitignore', 'w') as file:\n",
    "    file.write(ignore_str)"
   ]
  },
  {
   "cell_type": "code",
   "execution_count": 6,
   "id": "6e4d326a",
   "metadata": {},
   "outputs": [
    {
     "name": "stdout",
     "output_type": "stream",
     "text": [
      "/lab-results/lab_cubical_tessellation_on_torus3d_aggregated/size32.csv\n",
      "/lab-results/lab_cubical_tessellation_on_torus3d_aggregated/size33.csv\n",
      "/lab-results/lab_cubical_tessellation_on_torus3d_aggregated/size34.csv\n",
      "/lab-results/lab_cubical_tessellation_on_torus3d_aggregated/size35.csv\n",
      "/lab-results/lab_cubical_tessellation_on_torus3d_aggregated/size36.csv\n",
      "/lab-results/lab_cubical_tessellation_on_torus3d_aggregated/size37.csv\n",
      "/lab-results/lab_cubical_tessellation_on_torus3d_aggregated/size38.csv\n",
      "/lab-results/lab_cubical_tessellation_on_torus3d_aggregated/size39.csv\n",
      "/lab-results/lab_cubical_tessellation_on_torus3d_aggregated/size40.csv\n",
      "/lab-results/lab_cubical_tessellation_on_torus3d_aggregated/size41.csv\n",
      "/lab-results/lab_cubical_tessellation_on_torus3d_aggregated/size42.csv\n",
      "/lab-results/lab_cubical_tessellation_on_torus3d_aggregated/size43.csv\n",
      "/lab-results/lab_cubical_tessellation_on_torus3d_aggregated/size44.csv\n",
      "/lab-results/lab_cubical_tessellation_on_torus3d_aggregated/size45.csv\n",
      "/lab-results/lab_cubical_tessellation_on_torus3d_aggregated/size46.csv\n",
      "/lab-results/lab_cubical_tessellation_on_torus3d_aggregated/size47.csv\n",
      "/lab-results/lab_cubical_tessellation_on_torus3d_aggregated/size48.csv\n",
      "/lab-results/lab_cubical_tessellation_on_torus3d_aggregated/size49.csv\n",
      "/lab-results/lab_cubical_tessellation_on_torus3d_aggregated/size50.csv\n",
      "/lab-results/lab_cubical_tessellation_on_torus3d_aggregated/size51.csv\n",
      "/lab-results/lab_cubical_tessellation_on_torus3d_aggregated/size52.csv\n",
      "/lab-results/lab_cubical_tessellation_on_torus3d_aggregated/size53.csv\n",
      "/lab-results/lab_cubical_tessellation_on_torus3d_aggregated/size54.csv\n",
      "/lab-results/lab_cubical_tessellation_on_torus3d_aggregated/size55.csv\n",
      "/lab-results/lab_cubical_tessellation_on_torus3d_aggregated/size56.csv\n",
      "/lab-results/lab_cubical_tessellation_on_torus3d_aggregated/size57.csv\n",
      "/lab-results/lab_cubical_tessellation_on_torus3d_aggregated/size58.csv\n",
      "/lab-results/lab_cubical_tessellation_on_torus3d_aggregated/size59.csv\n",
      "/lab-results/lab_cubical_tessellation_on_torus3d_aggregated/size60.csv\n",
      "/lab-results/lab_cubical_tessellation_on_torus3d_aggregated/size61.csv\n",
      "/lab-results/lab_cubical_tessellation_on_torus3d_aggregated/size62.csv\n",
      "/lab-results/lab_cubical_tessellation_on_torus3d_aggregated/size63.csv\n",
      "/lab-results/lab_cubical_tessellation_on_torus3d_aggregated/size64.csv\n",
      "/lab-results/lab_cubical_tessellation_on_torus3d_aggregated/size65.csv\n",
      "/lab-results/lab_cubical_tessellation_on_torus3d_aggregated/size66.csv\n",
      "/lab-results/lab_cubical_tessellation_on_torus3d_aggregated/size67.csv\n",
      "/lab-results/lab_cubical_tessellation_on_torus3d_aggregated/size68.csv\n",
      "/lab-results/lab_cubical_tessellation_on_torus3d_aggregated/size69.csv\n",
      "lab-results/lab_voronoiD3_tessellation_on_torus3d_aggregated/size21.csv\n",
      "lab-results/lab_voronoiD3_tessellation_on_torus3d_aggregated/size22.csv\n",
      "lab-results/lab_voronoiD3_tessellation_on_torus3d_aggregated/size23.csv\n",
      "lab-results/lab_voronoiD3_tessellation_on_torus3d_aggregated/size24.csv\n",
      "lab-results/lab_voronoiD3_tessellation_on_torus3d_aggregated/size25.csv\n",
      "lab-results/lab_voronoiD3_tessellation_on_torus3d_aggregated/size26.csv\n",
      "lab-results/lab_voronoiD3_tessellation_on_torus3d_aggregated/size27.csv\n",
      "\n"
     ]
    }
   ],
   "source": [
    "print(ignore_str)"
   ]
  }
 ],
 "metadata": {
  "kernelspec": {
   "display_name": "Python 3 (ipykernel)",
   "language": "python",
   "name": "python3"
  },
  "language_info": {
   "codemirror_mode": {
    "name": "ipython",
    "version": 3
   },
   "file_extension": ".py",
   "mimetype": "text/x-python",
   "name": "python",
   "nbconvert_exporter": "python",
   "pygments_lexer": "ipython3",
   "version": "3.10.8"
  }
 },
 "nbformat": 4,
 "nbformat_minor": 5
}
