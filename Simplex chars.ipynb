{
 "cells": [
  {
   "cell_type": "code",
   "execution_count": 1,
   "id": "99569c09",
   "metadata": {},
   "outputs": [],
   "source": [
    "import numpy as np\n",
    "import pandas as pd\n",
    "import networkx as nx"
   ]
  },
  {
   "cell_type": "markdown",
   "id": "9b742ba2",
   "metadata": {},
   "source": [
    "# Spaces"
   ]
  },
  {
   "cell_type": "code",
   "execution_count": 2,
   "id": "5aab4652",
   "metadata": {},
   "outputs": [],
   "source": [
    "tetrahedron = {\n",
    "    0 : [0, 1, 2, 3],\n",
    "    1 : [(0, 1), (0, 2), (0, 3), (1, 2), (1, 3), (2, 3)],\n",
    "    2 : [(0, 1, 2), (0, 1, 3), (0, 2, 3), (1, 2, 3)]\n",
    "}"
   ]
  },
  {
   "cell_type": "code",
   "execution_count": 3,
   "id": "d5b15611",
   "metadata": {},
   "outputs": [],
   "source": [
    "full_tetrahedron = {\n",
    "    0 : [0, 1, 2, 3],\n",
    "    1 : [(0, 1), (0, 2), (0, 3), (1, 2), (1, 3), (2, 3)],\n",
    "    2 : [(0, 1, 2), (0, 1, 3), (0, 2, 3), (1, 2, 3)],\n",
    "    3 : [(0, 1, 2, 3)]\n",
    "}"
   ]
  },
  {
   "cell_type": "code",
   "execution_count": 4,
   "id": "cad1671b",
   "metadata": {},
   "outputs": [],
   "source": [
    "torus = {\n",
    "    0 : [0, 1, 2, 3, 4, 5, 6, 7, 8],\n",
    "    1 : [(0, 1), (1, 2), (2, 0), \n",
    "         (3, 5), (5, 7), (7, 3),\n",
    "         (4, 6), (6, 8), (8, 4), \n",
    "         (0, 3), (3, 4), (4, 0),\n",
    "         (1, 5), (5, 6), (6, 1), \n",
    "         (2, 7), (7, 8), (8, 2), \n",
    "         (1, 3), (2, 5), (5, 4),\n",
    "         (0, 7), (7, 6), (6, 0),\n",
    "         (3, 8), (8, 1), (4, 2)], \n",
    "    2 : [(0, 1, 3), (1, 3, 5), (1, 2, 5), \n",
    "         (2, 5, 7), (0, 2, 7), (0, 3, 7), \n",
    "         (3, 4, 5), (4, 5, 6), (5, 6, 7), \n",
    "         (6, 7, 8), (3, 7, 8), (3, 4, 8), \n",
    "         (0, 4, 6), (0, 1, 6), (1, 6, 8), \n",
    "         (1, 2, 8), (2, 4, 8), (0, 2, 4)]\n",
    "}"
   ]
  },
  {
   "cell_type": "code",
   "execution_count": 5,
   "id": "aa1a40f6",
   "metadata": {},
   "outputs": [],
   "source": [
    "spaces = {\n",
    "    'Empty Tetrahedron' : tetrahedron, \n",
    "    'Full Tetrahedron' : full_tetrahedron,\n",
    "    'Torus' : torus\n",
    "}"
   ]
  },
  {
   "cell_type": "markdown",
   "id": "3ff94b97",
   "metadata": {},
   "source": [
    "# Characteristic"
   ]
  },
  {
   "cell_type": "code",
   "execution_count": 6,
   "id": "bb27e646",
   "metadata": {},
   "outputs": [],
   "source": [
    "def space_dimension(space):\n",
    "    \"\"\"\n",
    "    Returns dimension of simplex space.\n",
    "    \n",
    "    Parameters:\n",
    "    -----------\n",
    "    space : dict\n",
    "        Simplex space. Keys are dimensions, values are list of simplicies\n",
    "    \n",
    "    Returns:\n",
    "    --------\n",
    "    dimension : int\n",
    "        Number of connected components.\n",
    "    \"\"\"\n",
    "    dimension = np.max([dim for dim in space])\n",
    "    return dimension"
   ]
  },
  {
   "cell_type": "code",
   "execution_count": 7,
   "id": "a13b532f",
   "metadata": {},
   "outputs": [],
   "source": [
    "def number_connected_components(space):\n",
    "    \"\"\"\n",
    "    Returns number of connected components.\n",
    "    \n",
    "    Parameters:\n",
    "    -----------\n",
    "    space : dict\n",
    "        Simplex space. Keys are dimensions, values are list of simplicies\n",
    "    \n",
    "    Returns:\n",
    "    --------\n",
    "    num : int\n",
    "        Number of connected components.\n",
    "    \"\"\"\n",
    "    graph = nx.Graph()\n",
    "    graph.add_nodes_from(space[0])\n",
    "    graph.add_edges_from(space[1])\n",
    "    num = nx.algorithms.components.number_connected_components(graph)\n",
    "    return num"
   ]
  },
  {
   "cell_type": "code",
   "execution_count": 8,
   "id": "4b01e9e8",
   "metadata": {},
   "outputs": [],
   "source": [
    "def euler_characteristic(space):\n",
    "    \"\"\"\n",
    "    Returns Euler characterisitic of space.\n",
    "    \n",
    "    Parameters:\n",
    "    -----------\n",
    "    space : dict\n",
    "        Simplex space. Keys are dimensions, values are list of simplicies\n",
    "    \n",
    "    Returns:\n",
    "    --------\n",
    "    char : int\n",
    "        Euler characterisitic.\n",
    "    \"\"\"\n",
    "    char = 0\n",
    "    for dim in space:\n",
    "        char += (-1)**dim * len(space[dim])\n",
    "    return char"
   ]
  },
  {
   "cell_type": "markdown",
   "id": "d073ba06",
   "metadata": {},
   "source": [
    "# Result"
   ]
  },
  {
   "cell_type": "code",
   "execution_count": 9,
   "id": "73d43b9b",
   "metadata": {},
   "outputs": [
    {
     "data": {
      "text/html": [
       "<div>\n",
       "<style scoped>\n",
       "    .dataframe tbody tr th:only-of-type {\n",
       "        vertical-align: middle;\n",
       "    }\n",
       "\n",
       "    .dataframe tbody tr th {\n",
       "        vertical-align: top;\n",
       "    }\n",
       "\n",
       "    .dataframe thead th {\n",
       "        text-align: right;\n",
       "    }\n",
       "</style>\n",
       "<table border=\"1\" class=\"dataframe\">\n",
       "  <thead>\n",
       "    <tr style=\"text-align: right;\">\n",
       "      <th></th>\n",
       "      <th>Space name</th>\n",
       "      <th>Dimension</th>\n",
       "      <th>Number of connected components</th>\n",
       "      <th>Euler characterisitic</th>\n",
       "    </tr>\n",
       "  </thead>\n",
       "  <tbody>\n",
       "    <tr>\n",
       "      <th>0</th>\n",
       "      <td>Empty Tetrahedron</td>\n",
       "      <td>2</td>\n",
       "      <td>1</td>\n",
       "      <td>2</td>\n",
       "    </tr>\n",
       "    <tr>\n",
       "      <th>1</th>\n",
       "      <td>Full Tetrahedron</td>\n",
       "      <td>3</td>\n",
       "      <td>1</td>\n",
       "      <td>1</td>\n",
       "    </tr>\n",
       "    <tr>\n",
       "      <th>2</th>\n",
       "      <td>Torus</td>\n",
       "      <td>2</td>\n",
       "      <td>1</td>\n",
       "      <td>0</td>\n",
       "    </tr>\n",
       "  </tbody>\n",
       "</table>\n",
       "</div>"
      ],
      "text/plain": [
       "          Space name  Dimension  Number of connected components  \\\n",
       "0  Empty Tetrahedron          2                               1   \n",
       "1   Full Tetrahedron          3                               1   \n",
       "2              Torus          2                               1   \n",
       "\n",
       "   Euler characterisitic  \n",
       "0                      2  \n",
       "1                      1  \n",
       "2                      0  "
      ]
     },
     "execution_count": 9,
     "metadata": {},
     "output_type": "execute_result"
    }
   ],
   "source": [
    "pd.DataFrame({\n",
    "    'Space name' : [name for name in spaces], \n",
    "    'Dimension' : [space_dimension(spaces[name]) for name in spaces], \n",
    "    'Number of connected components' : [number_connected_components(spaces[name]) for name in spaces], \n",
    "    'Euler characterisitic' : [euler_characteristic(spaces[name]) for name in spaces], \n",
    "})"
   ]
  },
  {
   "cell_type": "code",
   "execution_count": null,
   "id": "6f47c06f",
   "metadata": {},
   "outputs": [],
   "source": []
  }
 ],
 "metadata": {
  "kernelspec": {
   "display_name": "Python 3 (ipykernel)",
   "language": "python",
   "name": "python3"
  },
  "language_info": {
   "codemirror_mode": {
    "name": "ipython",
    "version": 3
   },
   "file_extension": ".py",
   "mimetype": "text/x-python",
   "name": "python",
   "nbconvert_exporter": "python",
   "pygments_lexer": "ipython3",
   "version": "3.10.2"
  }
 },
 "nbformat": 4,
 "nbformat_minor": 5
}
