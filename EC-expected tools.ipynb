{
 "cells": [
  {
   "cell_type": "code",
   "execution_count": 1,
   "id": "beaa0f85",
   "metadata": {},
   "outputs": [],
   "source": [
    "import time\n",
    "import numpy as np\n",
    "import pandas as pd\n",
    "import gudhi as gd\n",
    "import matplotlib.pyplot as plt\n",
    "from package.tessellations import get_cubical_tessellation_on_torus2d"
   ]
  },
  {
   "cell_type": "markdown",
   "id": "ba1414b5",
   "metadata": {},
   "source": [
    "# Functions for 1 Experiment"
   ]
  },
  {
   "cell_type": "code",
   "execution_count": 2,
   "id": "9dd847a5",
   "metadata": {},
   "outputs": [
    {
     "data": {
      "image/png": "[encoded data removed]",
      "text/plain": [
       "<Figure size 600x600 with 1 Axes>"
      ]
     },
     "metadata": {},
     "output_type": "display_data"
    }
   ],
   "source": [
    "size = 5\n",
    "filtration = np.arange(size**2)/(size**2)\n",
    "np.random.shuffle(filtration)\n",
    "\n",
    "fc = get_cubical_tessellation_on_torus2d(n=size)\n",
    "fc.set_filtration(filtration)\n",
    "\n",
    "plt.figure(figsize=(6, 6))\n",
    "fc.draw_filtration()\n",
    "plt.show()       "
   ]
  },
  {
   "cell_type": "code",
   "execution_count": 3,
   "id": "e31f5bd9",
   "metadata": {},
   "outputs": [
    {
     "data": {
      "text/html": [
       "<div>\n",
       "<style scoped>\n",
       "    .dataframe tbody tr th:only-of-type {\n",
       "        vertical-align: middle;\n",
       "    }\n",
       "\n",
       "    .dataframe tbody tr th {\n",
       "        vertical-align: top;\n",
       "    }\n",
       "\n",
       "    .dataframe thead th {\n",
       "        text-align: right;\n",
       "    }\n",
       "</style>\n",
       "<table border=\"1\" class=\"dataframe\">\n",
       "  <thead>\n",
       "    <tr style=\"text-align: right;\">\n",
       "      <th></th>\n",
       "      <th>Birth</th>\n",
       "      <th>Death</th>\n",
       "      <th>Dimension</th>\n",
       "    </tr>\n",
       "  </thead>\n",
       "  <tbody>\n",
       "    <tr>\n",
       "      <th>0</th>\n",
       "      <td>0.04</td>\n",
       "      <td>0.12</td>\n",
       "      <td>0</td>\n",
       "    </tr>\n",
       "    <tr>\n",
       "      <th>1</th>\n",
       "      <td>0.72</td>\n",
       "      <td>0.88</td>\n",
       "      <td>1</td>\n",
       "    </tr>\n",
       "    <tr>\n",
       "      <th>2</th>\n",
       "      <td>0.64</td>\n",
       "      <td>0.92</td>\n",
       "      <td>1</td>\n",
       "    </tr>\n",
       "    <tr>\n",
       "      <th>3</th>\n",
       "      <td>0.00</td>\n",
       "      <td>inf</td>\n",
       "      <td>0</td>\n",
       "    </tr>\n",
       "    <tr>\n",
       "      <th>4</th>\n",
       "      <td>0.40</td>\n",
       "      <td>inf</td>\n",
       "      <td>1</td>\n",
       "    </tr>\n",
       "    <tr>\n",
       "      <th>5</th>\n",
       "      <td>0.52</td>\n",
       "      <td>inf</td>\n",
       "      <td>1</td>\n",
       "    </tr>\n",
       "    <tr>\n",
       "      <th>6</th>\n",
       "      <td>0.96</td>\n",
       "      <td>inf</td>\n",
       "      <td>2</td>\n",
       "    </tr>\n",
       "  </tbody>\n",
       "</table>\n",
       "</div>"
      ],
      "text/plain": [
       "   Birth  Death  Dimension\n",
       "0   0.04   0.12          0\n",
       "1   0.72   0.88          1\n",
       "2   0.64   0.92          1\n",
       "3   0.00    inf          0\n",
       "4   0.40    inf          1\n",
       "5   0.52    inf          1\n",
       "6   0.96    inf          2"
      ]
     },
     "execution_count": 3,
     "metadata": {},
     "output_type": "execute_result"
    }
   ],
   "source": [
    "fc.initialize_complex(dimension=3)\n",
    "df_info = fc.get_cycle_info()\n",
    "df_info"
   ]
  },
  {
   "cell_type": "code",
   "execution_count": 4,
   "id": "6d78842c",
   "metadata": {},
   "outputs": [],
   "source": [
    "def get_betti_moment(df, p):\n",
    "    \"\"\"\n",
    "    \"\"\"\n",
    "    df_moment = df[(df['Birth'] < p)&(df['Death'] > p)]\n",
    "    df_moment = df_moment.groupby('Dimension').count()\n",
    "    betti = np.zeros(df['Dimension'].max()+1, dtype=int)\n",
    "    for d in df_moment.index:\n",
    "        betti[d] = df_moment.loc[d, 'Birth']\n",
    "    return betti"
   ]
  },
  {
   "cell_type": "code",
   "execution_count": 5,
   "id": "42bef203",
   "metadata": {},
   "outputs": [],
   "source": [
    "def get_EC_moment(df, p):\n",
    "    \"\"\"\n",
    "    \"\"\"\n",
    "    ec = get_betti_moment(df, p)\n",
    "    ec *= (-1)**np.arange(len(ec))\n",
    "    ec = ec.sum()\n",
    "    return ec"
   ]
  },
  {
   "cell_type": "code",
   "execution_count": 6,
   "id": "7dd8ffd8",
   "metadata": {},
   "outputs": [
    {
     "data": {
      "image/png": "[encoded data removed]",
      "text/plain": [
       "<Figure size 800x400 with 1 Axes>"
      ]
     },
     "metadata": {},
     "output_type": "display_data"
    }
   ],
   "source": [
    "xs = np.arange(0, 1.001, 0.002)\n",
    "ys = [get_EC_moment(df_info, x) for x in xs]\n",
    "\n",
    "plt.figure(figsize=(8, 4))\n",
    "plt.plot(xs, ys, linewidth=4, color='steelblue', label='EC')\n",
    "plt.legend()\n",
    "plt.grid(True)\n",
    "plt.show()"
   ]
  },
  {
   "cell_type": "markdown",
   "id": "4738f363",
   "metadata": {},
   "source": [
    "# Functions for Many Experiment"
   ]
  },
  {
   "cell_type": "code",
   "execution_count": 7,
   "id": "9ed618e0",
   "metadata": {},
   "outputs": [
    {
     "data": {
      "text/html": [
       "<div>\n",
       "<style scoped>\n",
       "    .dataframe tbody tr th:only-of-type {\n",
       "        vertical-align: middle;\n",
       "    }\n",
       "\n",
       "    .dataframe tbody tr th {\n",
       "        vertical-align: top;\n",
       "    }\n",
       "\n",
       "    .dataframe thead th {\n",
       "        text-align: right;\n",
       "    }\n",
       "</style>\n",
       "<table border=\"1\" class=\"dataframe\">\n",
       "  <thead>\n",
       "    <tr style=\"text-align: right;\">\n",
       "      <th></th>\n",
       "      <th>Birth</th>\n",
       "      <th>Death</th>\n",
       "      <th>Dimension</th>\n",
       "      <th>Space</th>\n",
       "    </tr>\n",
       "  </thead>\n",
       "  <tbody>\n",
       "    <tr>\n",
       "      <th>0</th>\n",
       "      <td>0.073778</td>\n",
       "      <td>0.175226</td>\n",
       "      <td>0</td>\n",
       "      <td>0</td>\n",
       "    </tr>\n",
       "    <tr>\n",
       "      <th>1</th>\n",
       "      <td>0.055705</td>\n",
       "      <td>0.307599</td>\n",
       "      <td>0</td>\n",
       "      <td>0</td>\n",
       "    </tr>\n",
       "    <tr>\n",
       "      <th>2</th>\n",
       "      <td>0.392210</td>\n",
       "      <td>0.416512</td>\n",
       "      <td>0</td>\n",
       "      <td>0</td>\n",
       "    </tr>\n",
       "    <tr>\n",
       "      <th>3</th>\n",
       "      <td>0.855883</td>\n",
       "      <td>0.858032</td>\n",
       "      <td>1</td>\n",
       "      <td>0</td>\n",
       "    </tr>\n",
       "    <tr>\n",
       "      <th>4</th>\n",
       "      <td>0.720322</td>\n",
       "      <td>0.870901</td>\n",
       "      <td>1</td>\n",
       "      <td>0</td>\n",
       "    </tr>\n",
       "    <tr>\n",
       "      <th>...</th>\n",
       "      <td>...</td>\n",
       "      <td>...</td>\n",
       "      <td>...</td>\n",
       "      <td>...</td>\n",
       "    </tr>\n",
       "    <tr>\n",
       "      <th>8</th>\n",
       "      <td>0.713190</td>\n",
       "      <td>0.879141</td>\n",
       "      <td>1</td>\n",
       "      <td>99</td>\n",
       "    </tr>\n",
       "    <tr>\n",
       "      <th>9</th>\n",
       "      <td>0.511290</td>\n",
       "      <td>0.941492</td>\n",
       "      <td>1</td>\n",
       "      <td>99</td>\n",
       "    </tr>\n",
       "    <tr>\n",
       "      <th>10</th>\n",
       "      <td>0.040301</td>\n",
       "      <td>inf</td>\n",
       "      <td>0</td>\n",
       "      <td>99</td>\n",
       "    </tr>\n",
       "    <tr>\n",
       "      <th>11</th>\n",
       "      <td>0.465861</td>\n",
       "      <td>inf</td>\n",
       "      <td>1</td>\n",
       "      <td>99</td>\n",
       "    </tr>\n",
       "    <tr>\n",
       "      <th>12</th>\n",
       "      <td>0.507711</td>\n",
       "      <td>inf</td>\n",
       "      <td>1</td>\n",
       "      <td>99</td>\n",
       "    </tr>\n",
       "  </tbody>\n",
       "</table>\n",
       "<p>1239 rows × 4 columns</p>\n",
       "</div>"
      ],
      "text/plain": [
       "       Birth     Death  Dimension  Space\n",
       "0   0.073778  0.175226          0      0\n",
       "1   0.055705  0.307599          0      0\n",
       "2   0.392210  0.416512          0      0\n",
       "3   0.855883  0.858032          1      0\n",
       "4   0.720322  0.870901          1      0\n",
       "..       ...       ...        ...    ...\n",
       "8   0.713190  0.879141          1     99\n",
       "9   0.511290  0.941492          1     99\n",
       "10  0.040301       inf          0     99\n",
       "11  0.465861       inf          1     99\n",
       "12  0.507711       inf          1     99\n",
       "\n",
       "[1239 rows x 4 columns]"
      ]
     },
     "execution_count": 7,
     "metadata": {},
     "output_type": "execute_result"
    }
   ],
   "source": [
    "size = 6\n",
    "n = 100\n",
    "filtrations = np.random.random([n, size**2])\n",
    "\n",
    "dfm_info = []\n",
    "fc = get_cubical_tessellation_on_torus2d(n=size)\n",
    "for i in range(n):\n",
    "    fc.set_filtration(filtrations[i])\n",
    "    fc.initialize_complex(dimension=2)\n",
    "    dfi = fc.get_cycle_info()\n",
    "    dfi['Space'] = i\n",
    "    dfm_info.append(dfi)\n",
    "dfm_info = pd.concat(dfm_info)\n",
    "dfm_info"
   ]
  },
  {
   "cell_type": "code",
   "execution_count": 8,
   "id": "f2d50726",
   "metadata": {},
   "outputs": [],
   "source": [
    "def increment_dimension(df, dim=None):\n",
    "    # Add giant cycle with 1 higher dimension, but not higher given dim\n",
    "    if dim is not None:\n",
    "        if df['Dimension'].max() >= dim:\n",
    "            return df\n",
    "    df_incremented = df[df['Death'] == np.inf]\n",
    "    df_incremented = df_incremented.groupby('Space', as_index=False).max()\n",
    "    df_incremented['Dimension'] += 1\n",
    "    return pd.concat([df, df_incremented])"
   ]
  },
  {
   "cell_type": "code",
   "execution_count": 9,
   "id": "f70baedb",
   "metadata": {},
   "outputs": [
    {
     "data": {
      "text/html": [
       "<div>\n",
       "<style scoped>\n",
       "    .dataframe tbody tr th:only-of-type {\n",
       "        vertical-align: middle;\n",
       "    }\n",
       "\n",
       "    .dataframe tbody tr th {\n",
       "        vertical-align: top;\n",
       "    }\n",
       "\n",
       "    .dataframe thead th {\n",
       "        text-align: right;\n",
       "    }\n",
       "</style>\n",
       "<table border=\"1\" class=\"dataframe\">\n",
       "  <thead>\n",
       "    <tr style=\"text-align: right;\">\n",
       "      <th></th>\n",
       "      <th>Birth</th>\n",
       "      <th>Death</th>\n",
       "      <th>Dimension</th>\n",
       "      <th>Space</th>\n",
       "    </tr>\n",
       "  </thead>\n",
       "  <tbody>\n",
       "    <tr>\n",
       "      <th>0</th>\n",
       "      <td>0.073778</td>\n",
       "      <td>0.175226</td>\n",
       "      <td>0</td>\n",
       "      <td>0</td>\n",
       "    </tr>\n",
       "    <tr>\n",
       "      <th>1</th>\n",
       "      <td>0.055705</td>\n",
       "      <td>0.307599</td>\n",
       "      <td>0</td>\n",
       "      <td>0</td>\n",
       "    </tr>\n",
       "    <tr>\n",
       "      <th>2</th>\n",
       "      <td>0.392210</td>\n",
       "      <td>0.416512</td>\n",
       "      <td>0</td>\n",
       "      <td>0</td>\n",
       "    </tr>\n",
       "    <tr>\n",
       "      <th>3</th>\n",
       "      <td>0.855883</td>\n",
       "      <td>0.858032</td>\n",
       "      <td>1</td>\n",
       "      <td>0</td>\n",
       "    </tr>\n",
       "    <tr>\n",
       "      <th>4</th>\n",
       "      <td>0.720322</td>\n",
       "      <td>0.870901</td>\n",
       "      <td>1</td>\n",
       "      <td>0</td>\n",
       "    </tr>\n",
       "    <tr>\n",
       "      <th>...</th>\n",
       "      <td>...</td>\n",
       "      <td>...</td>\n",
       "      <td>...</td>\n",
       "      <td>...</td>\n",
       "    </tr>\n",
       "    <tr>\n",
       "      <th>95</th>\n",
       "      <td>0.691573</td>\n",
       "      <td>inf</td>\n",
       "      <td>2</td>\n",
       "      <td>95</td>\n",
       "    </tr>\n",
       "    <tr>\n",
       "      <th>96</th>\n",
       "      <td>0.386771</td>\n",
       "      <td>inf</td>\n",
       "      <td>2</td>\n",
       "      <td>96</td>\n",
       "    </tr>\n",
       "    <tr>\n",
       "      <th>97</th>\n",
       "      <td>0.487903</td>\n",
       "      <td>inf</td>\n",
       "      <td>2</td>\n",
       "      <td>97</td>\n",
       "    </tr>\n",
       "    <tr>\n",
       "      <th>98</th>\n",
       "      <td>0.475404</td>\n",
       "      <td>inf</td>\n",
       "      <td>2</td>\n",
       "      <td>98</td>\n",
       "    </tr>\n",
       "    <tr>\n",
       "      <th>99</th>\n",
       "      <td>0.507711</td>\n",
       "      <td>inf</td>\n",
       "      <td>2</td>\n",
       "      <td>99</td>\n",
       "    </tr>\n",
       "  </tbody>\n",
       "</table>\n",
       "<p>1339 rows × 4 columns</p>\n",
       "</div>"
      ],
      "text/plain": [
       "       Birth     Death  Dimension  Space\n",
       "0   0.073778  0.175226          0      0\n",
       "1   0.055705  0.307599          0      0\n",
       "2   0.392210  0.416512          0      0\n",
       "3   0.855883  0.858032          1      0\n",
       "4   0.720322  0.870901          1      0\n",
       "..       ...       ...        ...    ...\n",
       "95  0.691573       inf          2     95\n",
       "96  0.386771       inf          2     96\n",
       "97  0.487903       inf          2     97\n",
       "98  0.475404       inf          2     98\n",
       "99  0.507711       inf          2     99\n",
       "\n",
       "[1339 rows x 4 columns]"
      ]
     },
     "execution_count": 9,
     "metadata": {},
     "output_type": "execute_result"
    }
   ],
   "source": [
    "dfm_info = increment_dimension(dfm_info, 2)\n",
    "dfm_info"
   ]
  },
  {
   "cell_type": "code",
   "execution_count": 10,
   "id": "a1f273bd",
   "metadata": {},
   "outputs": [],
   "source": [
    "def calculate_mean_betti(df: pd.DataFrame, array, dim=None):\n",
    "    \"\"\"\n",
    "    Calculate mean betti numbers\n",
    "    \n",
    "    Parameters:\n",
    "    -----------\n",
    "    df : DataFrame with columns ['Birth', 'Death', 'Dimension', 'Space']\n",
    "    \n",
    "    array : list or np.array\n",
    "        Array of values\n",
    "        \n",
    "    dim : int or None\n",
    "        Dimension of topological space\n",
    "        If that's None< that will be maximal dimension from dfs['Dimension']\n",
    "    \n",
    "    Returns:\n",
    "    --------\n",
    "    res : np.array shape (len(array), dim)\n",
    "        Array of \n",
    "    \"\"\"\n",
    "    spaces = len(np.unique(df['Space'].values))\n",
    "    if dim is None:\n",
    "        dim = df['Dimension'].max()\n",
    "    res = np.zeros([len(array), dim+1])\n",
    "    for i in range(len(array)):\n",
    "        val = array[i]\n",
    "        dfi = df[(df['Birth'] <= val)&(df['Death'] > val)]\n",
    "        dfi = dfi.groupby(['Space', 'Dimension'], as_index=False).count()[['Space', 'Dimension', 'Birth']]\n",
    "        dfi = dfi.groupby('Dimension', as_index=False).sum()\n",
    "        index = dfi['Dimension'].values\n",
    "        vals = dfi['Birth'].values / spaces\n",
    "        res[i, index] = vals\n",
    "    return res"
   ]
  },
  {
   "cell_type": "code",
   "execution_count": 11,
   "id": "7771c6a3",
   "metadata": {},
   "outputs": [
    {
     "name": "stdout",
     "output_type": "stream",
     "text": [
      "Calculated in  0.2506 seconds.\n"
     ]
    },
    {
     "data": {
      "text/plain": [
       "(101, 3)"
      ]
     },
     "execution_count": 11,
     "metadata": {},
     "output_type": "execute_result"
    }
   ],
   "source": [
    "clock = time.perf_counter()\n",
    "array = np.arange(0, 1.01, 0.01)\n",
    "mean_betti = calculate_mean_betti(dfm_info, array)\n",
    "print('Calculated in {0: .4f} seconds.'.format(time.perf_counter() - clock))\n",
    "mean_betti.shape"
   ]
  },
  {
   "cell_type": "code",
   "execution_count": 12,
   "id": "98f1dabe",
   "metadata": {},
   "outputs": [
    {
     "data": {
      "image/png": "[encoded data removed]",
      "text/plain": [
       "<Figure size 800x600 with 1 Axes>"
      ]
     },
     "metadata": {},
     "output_type": "display_data"
    }
   ],
   "source": [
    "plt.figure(figsize=(8, 6))\n",
    "\n",
    "for i in range(mean_betti.shape[1]):\n",
    "    plt.plot(array, mean_betti[:, i], linewidth=3, label='$\\\\beta_{' + str(i) + '}$')\n",
    "    \n",
    "plt.legend()\n",
    "plt.grid(True)\n",
    "plt.show()"
   ]
  },
  {
   "cell_type": "code",
   "execution_count": 13,
   "id": "891f249d",
   "metadata": {},
   "outputs": [],
   "source": [
    "def calculate_mean_EC(df: pd.DataFrame, array):\n",
    "    \"\"\"\n",
    "    Calculate mean betty numbers\n",
    "    \n",
    "    Parameters:\n",
    "    -----------\n",
    "    df : DataFrame with columns ['Birth', 'Death', 'Dimension', 'Space']\n",
    "    \n",
    "    array : list or np.array\n",
    "        Array of values\n",
    "        \n",
    "    \n",
    "    Returns:\n",
    "    --------\n",
    "    res : np.array length len(array)\n",
    "        Array of \n",
    "    \"\"\"\n",
    "    spaces = len(np.unique(df['Space'].values))\n",
    "    res = np.zeros(len(array))\n",
    "    for i in range(len(array)):\n",
    "        val = array[i]\n",
    "        dfi = df[(df['Birth'] <= val)&(df['Death'] > val)][['Space', 'Dimension', 'Birth']]\n",
    "        dfi = dfi.groupby(['Space', 'Dimension'], as_index=False).count()\n",
    "        dfi.columns = ['Space', 'Dimension', 'Count']\n",
    "        dfi['Summand EC'] = (-1)**dfi['Dimension'] * dfi['Count']\n",
    "        dfi = dfi.groupby('Space', as_index=False).sum()['Summand EC']\n",
    "        res[i] = dfi.sum() / spaces\n",
    "    res[np.isnan(res)] = 0\n",
    "    return res"
   ]
  },
  {
   "cell_type": "code",
   "execution_count": 14,
   "id": "32ee0e52",
   "metadata": {},
   "outputs": [],
   "source": [
    "def catch_zeros(x, y):\n",
    "    # returns all zero arguments for graph y(x)\n",
    "    ids = np.where(y[1:]*y[:-1] <= 0)[0]\n",
    "    zeros = []\n",
    "    for i in ids:\n",
    "        x0, x1 = x[i], x[i+1]\n",
    "        y0, y1 = abs(y[i]), abs(y[i+1])\n",
    "        xz = x0 + (x1 - x0)*y0/(y0 + y1)\n",
    "        zeros.append(xz)\n",
    "    return np.array(zeros)"
   ]
  },
  {
   "cell_type": "code",
   "execution_count": 15,
   "id": "12f5a469",
   "metadata": {},
   "outputs": [
    {
     "name": "stdout",
     "output_type": "stream",
     "text": [
      "Calculated in  0.3024 seconds.\n",
      "EC zeros: 0.0 0.3873913043478261 1.0\n"
     ]
    }
   ],
   "source": [
    "clock = time.perf_counter()\n",
    "array = np.arange(0, 1.01, 0.01)\n",
    "mean_EC = calculate_mean_EC(dfm_info, array)\n",
    "zeros_EC = catch_zeros(array, mean_EC)\n",
    "print('Calculated in {0: .4f} seconds.'.format(time.perf_counter() - clock))\n",
    "print('EC zeros:', *zeros_EC)"
   ]
  },
  {
   "cell_type": "code",
   "execution_count": 16,
   "id": "3f0378bf",
   "metadata": {},
   "outputs": [
    {
     "data": {
      "image/png": "[encoded data removed]",
      "text/plain": [
       "<Figure size 800x600 with 1 Axes>"
      ]
     },
     "metadata": {},
     "output_type": "display_data"
    }
   ],
   "source": [
    "plt.figure(figsize=(8, 6))\n",
    "\n",
    "color = 'indigo'\n",
    "plt.plot(array, mean_EC, color=color, linewidth=3, label='Mean EC')\n",
    "plt.scatter(zeros_EC, 0*zeros_EC, color=color, linewidth=4, label='Mean EC curve zero')\n",
    "    \n",
    "plt.legend()\n",
    "plt.grid(True)\n",
    "plt.show()"
   ]
  },
  {
   "cell_type": "code",
   "execution_count": 17,
   "id": "b7d90944",
   "metadata": {},
   "outputs": [
    {
     "name": "stdout",
     "output_type": "stream",
     "text": [
      "Length:  100\n",
      "Calculated in  0.3231 seconds.\n"
     ]
    }
   ],
   "source": [
    "dx = 0.1*dfm_info['Birth'].min()\n",
    "clock = time.perf_counter()\n",
    "array = np.arange(0, 100*dx, dx)\n",
    "print('Length: ', len(array))\n",
    "mean_EC = calculate_mean_EC(dfm_info, array)\n",
    "print('Calculated in {0: .4f} seconds.'.format(time.perf_counter() - clock))"
   ]
  },
  {
   "cell_type": "code",
   "execution_count": 18,
   "id": "4a0a0d1a",
   "metadata": {},
   "outputs": [
    {
     "data": {
      "image/png": "[encoded data removed]",
      "text/plain": [
       "<Figure size 800x600 with 1 Axes>"
      ]
     },
     "metadata": {},
     "output_type": "display_data"
    }
   ],
   "source": [
    "plt.figure(figsize=(8, 6))\n",
    "\n",
    "color = 'indigo'\n",
    "plt.plot(array, mean_EC, color=color, linewidth=3, label='Mean EC')\n",
    "    \n",
    "plt.legend()\n",
    "plt.grid(True)\n",
    "plt.show()"
   ]
  },
  {
   "cell_type": "code",
   "execution_count": null,
   "id": "c6e3ec08",
   "metadata": {},
   "outputs": [],
   "source": []
  }
 ],
 "metadata": {
  "kernelspec": {
   "display_name": "Python 3 (ipykernel)",
   "language": "python",
   "name": "python3"
  },
  "language_info": {
   "codemirror_mode": {
    "name": "ipython",
    "version": 3
   },
   "file_extension": ".py",
   "mimetype": "text/x-python",
   "name": "python",
   "nbconvert_exporter": "python",
   "pygments_lexer": "ipython3",
   "version": "3.11.6"
  }
 },
 "nbformat": 4,
 "nbformat_minor": 5
}
