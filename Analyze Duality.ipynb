{
 "cells": [
  {
   "cell_type": "code",
   "execution_count": 1,
   "id": "14c7b154",
   "metadata": {},
   "outputs": [],
   "source": [
    "import time\n",
    "import numpy as np\n",
    "import pandas as pd\n",
    "from matplotlib import pyplot as plt\n",
    "from matplotlib import colormaps as cm\n",
    "from package import saveload"
   ]
  },
  {
   "cell_type": "code",
   "execution_count": 2,
   "id": "3b16c0cc",
   "metadata": {},
   "outputs": [],
   "source": [
    "figsize=(12, 4)"
   ]
  },
  {
   "cell_type": "code",
   "execution_count": 3,
   "id": "6179db72",
   "metadata": {},
   "outputs": [],
   "source": [
    "def calculate_mean_betty(df: pd.DataFrame, array, dim=None):\n",
    "    \"\"\"\n",
    "    Calculate mean betty numbers\n",
    "    \n",
    "    Parameters:\n",
    "    -----------\n",
    "    df : DataFrame with columns ['Birth', 'Death', 'Dimension', 'Space']\n",
    "    \n",
    "    array : list or np.array\n",
    "        Array of values\n",
    "        \n",
    "    dim : int or None\n",
    "        Dimension of topological space\n",
    "        If that's None< that will be maximal dimension from dfs['Dimension']\n",
    "    \n",
    "    Returns:\n",
    "    --------\n",
    "    res : np.array shape (len(array), dim)\n",
    "        Array of \n",
    "    \"\"\"\n",
    "    if dim is None:\n",
    "        dim = df['Dimension'].max()\n",
    "    res = np.zeros([len(array), dim])\n",
    "    for i in range(len(array)):\n",
    "        val = array[i]\n",
    "        dfi = df[(df['Birth'] <= val)&(df['Death'] > val)]\n",
    "        dfi = dfi.groupby(['Space', 'Dimension'], as_index=False).count()[['Space', 'Dimension', 'Birth']]\n",
    "        dfi = dfi.groupby('Dimension', as_index=False).mean()\n",
    "        index = dfi['Dimension'].values\n",
    "        vals = dfi['Birth'].values\n",
    "        res[i, index] = vals\n",
    "    return res"
   ]
  },
  {
   "cell_type": "code",
   "execution_count": 4,
   "id": "91bfe654",
   "metadata": {},
   "outputs": [],
   "source": [
    "def calculate_mean_EC(df: pd.DataFrame, array):\n",
    "    \"\"\"\n",
    "    Calculate mean betty numbers\n",
    "    \n",
    "    Parameters:\n",
    "    -----------\n",
    "    df : DataFrame with columns ['Birth', 'Death', 'Dimension', 'Space']\n",
    "    \n",
    "    array : list or np.array\n",
    "        Array of values\n",
    "        \n",
    "    \n",
    "    Returns:\n",
    "    --------\n",
    "    res : np.array length len(array)\n",
    "        Array of \n",
    "    \"\"\"\n",
    "    res = np.zeros(len(array))\n",
    "    for i in range(len(array)):\n",
    "        val = array[i]\n",
    "        dfi = df[(df['Birth'] <= val)&(df['Death'] > val)][['Space', 'Dimension', 'Birth']]\n",
    "        dfi = dfi.groupby(['Space', 'Dimension'], as_index=False).count()\n",
    "        dfi.columns = ['Space', 'Dimension', 'Count']\n",
    "        dfi['Summand EC'] = (-1)**dfi['Dimension'] * dfi['Count']\n",
    "        dfi = dfi.groupby('Space', as_index=False).sum()['Summand EC']\n",
    "        res[i] = dfi.mean()\n",
    "    res[np.isnan(res)] = 0\n",
    "    return res"
   ]
  },
  {
   "cell_type": "markdown",
   "id": "59c13ba2",
   "metadata": {},
   "source": [
    "# Hexogonal case $PVLM(A_2)$"
   ]
  },
  {
   "cell_type": "markdown",
   "id": "5a3d17ee",
   "metadata": {},
   "source": [
    "$A_2 \\equiv A_2^*$, but $A_2 \\neq A_2^*$"
   ]
  },
  {
   "cell_type": "code",
   "execution_count": null,
   "id": "a3ca804a",
   "metadata": {},
   "outputs": [],
   "source": [
    "filename_A2 = 'lab-results/lab_hexagonal_tessellation_on_torus2d_modern_aggregated/size{0}.csv'\n",
    "sizes_A2 = np.arange(3, 129)\n",
    "\n",
    "dfs_A2 = [pd.read_csv(filename_A2.format(size)) for size in sizes_A2]\n",
    "dfs_A2 = [df[df['Death'] == np.inf][['Birth', 'Dimension', 'Space']] for df in dfs_A2]\n",
    "for i in range(len(sizes_A2)):\n",
    "    dfs_A2[i]['Size'] = sizes_A2[i]\n",
    "df_A2 = pd.concat(dfs_A2)\n",
    "df_A2['Number'] = np.tile(np.arange(3), len(df_A2)//3)\n",
    "df_A2 = df_A2[df_A2['Number'] > 0]"
   ]
  },
  {
   "cell_type": "code",
   "execution_count": null,
   "id": "cba6329b",
   "metadata": {},
   "outputs": [],
   "source": [
    "df_A2mean = df_A2.groupby(['Size', 'Number'], as_index=False).mean()\n",
    "df_A2mean.head()"
   ]
  },
  {
   "cell_type": "code",
   "execution_count": null,
   "id": "ee10e6e4",
   "metadata": {},
   "outputs": [],
   "source": [
    "xticks_A2 = np.arange(3, 129, 12.5) // 1\n"
   ]
  },
  {
   "cell_type": "code",
   "execution_count": null,
   "id": "098bb3e5",
   "metadata": {},
   "outputs": [],
   "source": [
    "births1_A2 = df_A2mean[df_A2mean['Number'] == 1]['Birth']\n",
    "births2_A2 = df_A2mean[df_A2mean['Number'] == 2]['Birth']\n",
    "\n",
    "plt.figure(figsize=figsize)\n",
    "plt.plot(sizes_A2, births1_A2, linewidth=4, label='1st births')\n",
    "plt.plot(sizes_A2, births2_A2, linewidth=4, label='2nd births')\n",
    "plt.legend()\n",
    "plt.xticks(xticks_A2)\n",
    "plt.grid(True)\n",
    "plt.show()"
   ]
  },
  {
   "cell_type": "code",
   "execution_count": null,
   "id": "6aa8564e",
   "metadata": {},
   "outputs": [],
   "source": [
    "plt.figure(figsize=figsize)\n",
    "plt.plot(sizes_A2, abs(births1_A2.values - births2_A2.values), linewidth=4, label='$|t_1^{perc} - t_2^{perc}|$')\n",
    "plt.legend()\n",
    "plt.xticks(xticks_A2)\n",
    "plt.grid(True)\n",
    "plt.show()"
   ]
  },
  {
   "cell_type": "code",
   "execution_count": null,
   "id": "40cc0093",
   "metadata": {},
   "outputs": [],
   "source": [
    "plt.figure(figsize=figsize)\n",
    "plt.plot(sizes_A2, births1_A2.values, linewidth=4, label='$t_1^{perc}$')\n",
    "plt.plot(sizes_A2, 1 - births2_A2.values, linewidth=4, label='$1 - t_2^{perc}$')\n",
    "plt.legend()\n",
    "plt.xticks(xticks_A2)\n",
    "plt.grid(True)\n",
    "plt.show()"
   ]
  },
  {
   "cell_type": "code",
   "execution_count": null,
   "id": "992ef2bb",
   "metadata": {},
   "outputs": [],
   "source": [
    "plt.figure(figsize=figsize)\n",
    "plt.plot(sizes_A2, abs((1 - births1_A2.values) - births1_A2.values), linewidth=4, label='$|(1 - t_1^{perc}) - t_1^{perc}|$')\n",
    "plt.legend()\n",
    "plt.xticks(xticks_A2)\n",
    "plt.grid(True)\n",
    "plt.savefig('LaTeX/pics/difference_dual_limits_A2.png')"
   ]
  },
  {
   "cell_type": "markdown",
   "id": "17e681d6",
   "metadata": {},
   "source": [
    "# The case of dula lattice $A_3\\equiv\\text{fcc}$ and $A_3^*\\equiv\\text{bcc}$"
   ]
  },
  {
   "cell_type": "code",
   "execution_count": null,
   "id": "ab958fb0",
   "metadata": {},
   "outputs": [],
   "source": [
    "sizes_fcc = np.arange(3, 28)\n",
    "experiments_fcc = 100\n",
    "filename_fcc = 'lab-results/lab_voronoiD3_tessellation_on_torus3d_aggregated/size{0}.csv'\n",
    "clock = time.perf_counter()\n",
    "dfs_fcc = [pd.read_csv(filename_fcc.format(size)) for size in sizes_fcc]\n",
    "print('Loaded in {0: .4f} seconds.'.format(time.perf_counter() - clock))\n",
    "for i in range(len(sizes_fcc)):\n",
    "    dfs_fcc[i]['Size'] = sizes_fcc[i]\n",
    "df_fcc = [i[i['Death'] == np.inf] for i in dfs_fcc]\n",
    "df_fcc = pd.concat(df_fcc)\n",
    "df_fcc['Number'] = np.tile(np.arange(7), len(df_fcc)//7)\n",
    "df_fcc.head(16)"
   ]
  },
  {
   "cell_type": "code",
   "execution_count": null,
   "id": "dccb592d",
   "metadata": {},
   "outputs": [],
   "source": [
    "sizes_bcc = np.arange(3, 32)\n",
    "experiments_bcc = 100\n",
    "filename_bcc = 'lab-results/lab_voronoiBCC_tessellation_on_torus3d_aggregated/size{0}.csv'\n",
    "clock = time.perf_counter()\n",
    "dfs_bcc = [pd.read_csv(filename_bcc.format(size)) for size in sizes_bcc]\n",
    "print('Loaded in {0: .4f} seconds.'.format(time.perf_counter() - clock))\n",
    "for i in range(len(sizes_bcc)):\n",
    "    dfs_bcc[i]['Size'] = sizes_bcc[i]\n",
    "df_bcc = [i[i['Death'] == np.inf] for i in dfs_bcc]\n",
    "df_bcc = pd.concat(df_bcc)\n",
    "df_bcc['Number'] = np.tile(np.arange(7), len(df_bcc)//7)\n",
    "df_bcc.head(16)"
   ]
  },
  {
   "cell_type": "code",
   "execution_count": null,
   "id": "f4cd1c26",
   "metadata": {},
   "outputs": [],
   "source": [
    "df_fccmean = df_fcc.groupby(['Size', 'Number'], as_index=False).mean()\n",
    "df_fccmean.head(8)"
   ]
  },
  {
   "cell_type": "code",
   "execution_count": null,
   "id": "15b5d0c2",
   "metadata": {},
   "outputs": [],
   "source": [
    "df_bccmean = df_bcc.groupby(['Size', 'Number'], as_index=False).mean()\n",
    "df_bccmean.head(8)"
   ]
  },
  {
   "cell_type": "code",
   "execution_count": null,
   "id": "1115b202",
   "metadata": {},
   "outputs": [],
   "source": [
    "if len(sizes_fcc) < len(sizes_bcc):\n",
    "    sizes_fccbcc = sizes_fcc\n",
    "else:\n",
    "    sizes_fccbcc = sizes_bcc"
   ]
  },
  {
   "cell_type": "code",
   "execution_count": null,
   "id": "09069cfd",
   "metadata": {},
   "outputs": [],
   "source": [
    "t1_fcc = df_fccmean[df_fccmean['Number'] == 1]['Birth'].values[:len(sizes_fccbcc)]\n",
    "t2_fcc = df_fccmean[df_fccmean['Number'] == 4]['Birth'].values[:len(sizes_fccbcc)]"
   ]
  },
  {
   "cell_type": "code",
   "execution_count": null,
   "id": "589a6099",
   "metadata": {},
   "outputs": [],
   "source": [
    "t1_bcc = df_bccmean[df_bccmean['Number'] == 1]['Birth'].values[:len(sizes_fccbcc)]\n",
    "t2_bcc = df_bccmean[df_bccmean['Number'] == 4]['Birth'].values[:len(sizes_fccbcc)]"
   ]
  },
  {
   "cell_type": "code",
   "execution_count": null,
   "id": "20bd8d5c",
   "metadata": {},
   "outputs": [],
   "source": [
    "plt.figure(figsize=figsize)\n",
    "\n",
    "plt.plot(sizes_fccbcc, abs((1 - t1_fcc) - t2_bcc), linewidth=4, label='$\\\\left|\\\\left(1 - t_1^{perc}(fcc)\\\\right) - t_2^{perc}(bcc)\\\\right|$')\n",
    "plt.plot(sizes_fccbcc, abs((1 - t1_bcc) - t2_fcc), linewidth=4, label='$\\\\left|\\\\left(1 - t_1^{perc}(bcc)\\\\right) - t_2^{perc}(fcc)\\\\right|$')\n",
    "\n",
    "plt.legend()\n",
    "plt.xticks(np.arange(3, 28, 3))\n",
    "plt.grid(True)\n",
    "plt.savefig('LaTeX/pics/difference_dual_limits_fcc_bcc.png')"
   ]
  },
  {
   "cell_type": "code",
   "execution_count": null,
   "id": "bbdd772c",
   "metadata": {},
   "outputs": [],
   "source": []
  }
 ],
 "metadata": {
  "kernelspec": {
   "display_name": "Python 3 (ipykernel)",
   "language": "python",
   "name": "python3"
  },
  "language_info": {
   "codemirror_mode": {
    "name": "ipython",
    "version": 3
   },
   "file_extension": ".py",
   "mimetype": "text/x-python",
   "name": "python",
   "nbconvert_exporter": "python",
   "pygments_lexer": "ipython3",
   "version": "3.11.5"
  }
 },
 "nbformat": 4,
 "nbformat_minor": 5
}
