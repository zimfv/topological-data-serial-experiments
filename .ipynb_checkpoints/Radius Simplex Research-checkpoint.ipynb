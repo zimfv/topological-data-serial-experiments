{
 "cells": [
  {
   "cell_type": "code",
   "execution_count": 1,
   "id": "a97ec1d6",
   "metadata": {},
   "outputs": [],
   "source": [
    "import numpy as np\n",
    "import pandas as pd\n",
    "import matplotlib.pyplot as plt"
   ]
  },
  {
   "cell_type": "markdown",
   "id": "a5846cbc",
   "metadata": {},
   "source": [
    "# Extract data"
   ]
  },
  {
   "cell_type": "code",
   "execution_count": 2,
   "id": "eff45e79",
   "metadata": {},
   "outputs": [],
   "source": [
    "filename = 'normal_dim2_size8'"
   ]
  },
  {
   "cell_type": "code",
   "execution_count": 3,
   "id": "2040b8c6",
   "metadata": {},
   "outputs": [
    {
     "data": {
      "text/html": [
       "<div>\n",
       "<style scoped>\n",
       "    .dataframe tbody tr th:only-of-type {\n",
       "        vertical-align: middle;\n",
       "    }\n",
       "\n",
       "    .dataframe tbody tr th {\n",
       "        vertical-align: top;\n",
       "    }\n",
       "\n",
       "    .dataframe thead th {\n",
       "        text-align: right;\n",
       "    }\n",
       "</style>\n",
       "<table border=\"1\" class=\"dataframe\">\n",
       "  <thead>\n",
       "    <tr style=\"text-align: right;\">\n",
       "      <th></th>\n",
       "      <th>0</th>\n",
       "      <th>1</th>\n",
       "    </tr>\n",
       "  </thead>\n",
       "  <tbody>\n",
       "    <tr>\n",
       "      <th>0</th>\n",
       "      <td>1.129290</td>\n",
       "      <td>-2.446577</td>\n",
       "    </tr>\n",
       "    <tr>\n",
       "      <th>1</th>\n",
       "      <td>0.258426</td>\n",
       "      <td>0.983161</td>\n",
       "    </tr>\n",
       "    <tr>\n",
       "      <th>2</th>\n",
       "      <td>-0.519177</td>\n",
       "      <td>-0.095690</td>\n",
       "    </tr>\n",
       "    <tr>\n",
       "      <th>3</th>\n",
       "      <td>0.081358</td>\n",
       "      <td>-0.476422</td>\n",
       "    </tr>\n",
       "    <tr>\n",
       "      <th>4</th>\n",
       "      <td>1.933675</td>\n",
       "      <td>1.792641</td>\n",
       "    </tr>\n",
       "  </tbody>\n",
       "</table>\n",
       "</div>"
      ],
      "text/plain": [
       "          0         1\n",
       "0  1.129290 -2.446577\n",
       "1  0.258426  0.983161\n",
       "2 -0.519177 -0.095690\n",
       "3  0.081358 -0.476422\n",
       "4  1.933675  1.792641"
      ]
     },
     "execution_count": 3,
     "metadata": {},
     "output_type": "execute_result"
    }
   ],
   "source": [
    "data = pd.read_csv('data/'+filename+'.csv', header=None).values\n",
    "pd.DataFrame(data).head()"
   ]
  },
  {
   "cell_type": "code",
   "execution_count": 4,
   "id": "d8720da2",
   "metadata": {},
   "outputs": [
    {
     "data": {
      "image/png": "[encoded data removed]",
      "text/plain": [
       "<Figure size 576x576 with 1 Axes>"
      ]
     },
     "metadata": {
      "needs_background": "light"
     },
     "output_type": "display_data"
    }
   ],
   "source": [
    "plt.figure(figsize=(8, 8))\n",
    "plt.scatter(data[:, 0], data[:, 1], color='indigo', linewidth=8)\n",
    "plt.grid(True)\n",
    "plt.show()"
   ]
  },
  {
   "cell_type": "markdown",
   "id": "0fe85c54",
   "metadata": {},
   "source": [
    "# Find Simplicies"
   ]
  },
  {
   "cell_type": "markdown",
   "id": "28890786",
   "metadata": {},
   "source": [
    "## Auxiliary geometric functions"
   ]
  },
  {
   "cell_type": "code",
   "execution_count": 11,
   "id": "237b6626",
   "metadata": {},
   "outputs": [],
   "source": [
    "def segment_intersect_2d(a1, a2, b1, b2):\n",
    "    \"\"\"\n",
    "    Returns True if segments (a1, a2) and (b1, b2) intersects.\n",
    "    \n",
    "    Parameters:\n",
    "    -----------\n",
    "    a1 : 2-dimensional float np.ndarray\n",
    "    \n",
    "    a2 : 2-dimensional float np.ndarray\n",
    "    \n",
    "    b1 : 2-dimensional float np.ndarray\n",
    "    \n",
    "    b2 : 2-dimensional float np.ndarray\n",
    "    \n",
    "    Returns:\n",
    "    g : bool\n",
    "    \"\"\"\n",
    "    pass"
   ]
  },
  {
   "cell_type": "code",
   "execution_count": 12,
   "id": "e220c0b2",
   "metadata": {},
   "outputs": [],
   "source": [
    "def segments_itersect(a1, a2, b1, b2):\n",
    "    \"\"\"\n",
    "    Returns True if segments (a1, a2) and (b1, b2) intersects.\n",
    "    \n",
    "    Parameters:\n",
    "    -----------\n",
    "    a1 : float np.ndarray\n",
    "    \n",
    "    a2 : float np.ndarray\n",
    "    \n",
    "    b1 : float np.ndarray\n",
    "    \n",
    "    b2 : float np.ndarray\n",
    "    \n",
    "    Returns:\n",
    "    g : bool\n",
    "    \"\"\"\n",
    "    if (len(a1) != len(a2)) or (len(b1) != len(b2)) or (len(a1) != len(b1)):\n",
    "        raise ValueError(\"Different dimensions.\")\n",
    "    if len(a1) == 2:\n",
    "        return segment_intersect_2d(a1, a2, b1, b2)\n",
    "    if np.linalg.rank(np.array([a1, a2, b1, b2])) > 2:\n",
    "        return False\n",
    "    pass"
   ]
  },
  {
   "cell_type": "markdown",
   "id": "353668af",
   "metadata": {},
   "source": [
    "\n",
    "## Dimension 1"
   ]
  },
  {
   "cell_type": "code",
   "execution_count": 6,
   "id": "cd71c5be",
   "metadata": {},
   "outputs": [],
   "source": [
    "def radiuses_edged(data, norm=np.linalg.norm):\n",
    "    \"\"\"\n",
    "    Returns matrix of half distances between points (except matching: there is infinite distance)\n",
    "    \n",
    "    Parameters:\n",
    "    -----------\n",
    "    data : 2-dimensional float np.ndarray\n",
    "    \n",
    "    returns:\n",
    "    matrix : 2-dimensional float np.ndarray\n",
    "    \"\"\"\n",
    "    n = data.shape[0]\n",
    "    matrix = data*np.ones(np.append(n, data.shape))\n",
    "    matrix = matrix - matrix.transpose([1, 0, 2])\n",
    "    matrix = 0.5*norm(matrix, axis=2)\n",
    "    matrix[matrix == 0] = np.inf\n",
    "    return matrix"
   ]
  },
  {
   "cell_type": "code",
   "execution_count": 7,
   "id": "0bc4677b",
   "metadata": {},
   "outputs": [
    {
     "data": {
      "text/html": [
       "<div>\n",
       "<style scoped>\n",
       "    .dataframe tbody tr th:only-of-type {\n",
       "        vertical-align: middle;\n",
       "    }\n",
       "\n",
       "    .dataframe tbody tr th {\n",
       "        vertical-align: top;\n",
       "    }\n",
       "\n",
       "    .dataframe thead th {\n",
       "        text-align: right;\n",
       "    }\n",
       "</style>\n",
       "<table border=\"1\" class=\"dataframe\">\n",
       "  <thead>\n",
       "    <tr style=\"text-align: right;\">\n",
       "      <th></th>\n",
       "      <th>0</th>\n",
       "      <th>1</th>\n",
       "      <th>2</th>\n",
       "      <th>3</th>\n",
       "      <th>4</th>\n",
       "      <th>5</th>\n",
       "      <th>6</th>\n",
       "      <th>7</th>\n",
       "    </tr>\n",
       "  </thead>\n",
       "  <tbody>\n",
       "    <tr>\n",
       "      <th>0</th>\n",
       "      <td>inf</td>\n",
       "      <td>1.769287</td>\n",
       "      <td>1.435628</td>\n",
       "      <td>1.115759</td>\n",
       "      <td>2.157429</td>\n",
       "      <td>1.253988</td>\n",
       "      <td>1.445586</td>\n",
       "      <td>1.119157</td>\n",
       "    </tr>\n",
       "    <tr>\n",
       "      <th>1</th>\n",
       "      <td>1.769287</td>\n",
       "      <td>inf</td>\n",
       "      <td>0.664941</td>\n",
       "      <td>0.735142</td>\n",
       "      <td>0.930284</td>\n",
       "      <td>0.743565</td>\n",
       "      <td>0.938157</td>\n",
       "      <td>1.889870</td>\n",
       "    </tr>\n",
       "    <tr>\n",
       "      <th>2</th>\n",
       "      <td>1.435628</td>\n",
       "      <td>0.664941</td>\n",
       "      <td>inf</td>\n",
       "      <td>0.355527</td>\n",
       "      <td>1.547763</td>\n",
       "      <td>0.181646</td>\n",
       "      <td>0.280530</td>\n",
       "      <td>1.257644</td>\n",
       "    </tr>\n",
       "    <tr>\n",
       "      <th>3</th>\n",
       "      <td>1.115759</td>\n",
       "      <td>0.735142</td>\n",
       "      <td>0.355527</td>\n",
       "      <td>inf</td>\n",
       "      <td>1.464559</td>\n",
       "      <td>0.199487</td>\n",
       "      <td>0.519740</td>\n",
       "      <td>1.191223</td>\n",
       "    </tr>\n",
       "    <tr>\n",
       "      <th>4</th>\n",
       "      <td>2.157429</td>\n",
       "      <td>0.930284</td>\n",
       "      <td>1.547763</td>\n",
       "      <td>1.464559</td>\n",
       "      <td>inf</td>\n",
       "      <td>1.565133</td>\n",
       "      <td>1.828256</td>\n",
       "      <td>2.647124</td>\n",
       "    </tr>\n",
       "    <tr>\n",
       "      <th>5</th>\n",
       "      <td>1.253988</td>\n",
       "      <td>0.743565</td>\n",
       "      <td>0.181646</td>\n",
       "      <td>0.199487</td>\n",
       "      <td>1.565133</td>\n",
       "      <td>inf</td>\n",
       "      <td>0.325703</td>\n",
       "      <td>1.146589</td>\n",
       "    </tr>\n",
       "    <tr>\n",
       "      <th>6</th>\n",
       "      <td>1.445586</td>\n",
       "      <td>0.938157</td>\n",
       "      <td>0.280530</td>\n",
       "      <td>0.519740</td>\n",
       "      <td>1.828256</td>\n",
       "      <td>0.325703</td>\n",
       "      <td>inf</td>\n",
       "      <td>1.050465</td>\n",
       "    </tr>\n",
       "    <tr>\n",
       "      <th>7</th>\n",
       "      <td>1.119157</td>\n",
       "      <td>1.889870</td>\n",
       "      <td>1.257644</td>\n",
       "      <td>1.191223</td>\n",
       "      <td>2.647124</td>\n",
       "      <td>1.146589</td>\n",
       "      <td>1.050465</td>\n",
       "      <td>inf</td>\n",
       "    </tr>\n",
       "  </tbody>\n",
       "</table>\n",
       "</div>"
      ],
      "text/plain": [
       "          0         1         2         3         4         5         6  \\\n",
       "0       inf  1.769287  1.435628  1.115759  2.157429  1.253988  1.445586   \n",
       "1  1.769287       inf  0.664941  0.735142  0.930284  0.743565  0.938157   \n",
       "2  1.435628  0.664941       inf  0.355527  1.547763  0.181646  0.280530   \n",
       "3  1.115759  0.735142  0.355527       inf  1.464559  0.199487  0.519740   \n",
       "4  2.157429  0.930284  1.547763  1.464559       inf  1.565133  1.828256   \n",
       "5  1.253988  0.743565  0.181646  0.199487  1.565133       inf  0.325703   \n",
       "6  1.445586  0.938157  0.280530  0.519740  1.828256  0.325703       inf   \n",
       "7  1.119157  1.889870  1.257644  1.191223  2.647124  1.146589  1.050465   \n",
       "\n",
       "          7  \n",
       "0  1.119157  \n",
       "1  1.889870  \n",
       "2  1.257644  \n",
       "3  1.191223  \n",
       "4  2.647124  \n",
       "5  1.146589  \n",
       "6  1.050465  \n",
       "7       inf  "
      ]
     },
     "execution_count": 7,
     "metadata": {},
     "output_type": "execute_result"
    }
   ],
   "source": [
    "pd.DataFrame(radiuses_edged(data))"
   ]
  },
  {
   "cell_type": "code",
   "execution_count": null,
   "id": "56748945",
   "metadata": {},
   "outputs": [],
   "source": []
  },
  {
   "cell_type": "code",
   "execution_count": null,
   "id": "d424dbf2",
   "metadata": {},
   "outputs": [],
   "source": []
  },
  {
   "cell_type": "markdown",
   "id": "3a5e3a7d",
   "metadata": {},
   "source": [
    "## Dimension 2"
   ]
  },
  {
   "cell_type": "code",
   "execution_count": 8,
   "id": "e491554b",
   "metadata": {},
   "outputs": [],
   "source": [
    "def framed_triangles(edges_matrix):\n",
    "    \"\"\"\n",
    "    Returns incidence 3d-matrix for triangles\n",
    "    \n",
    "    Parameters:\n",
    "    -----------\n",
    "    edges_matrix : bool 2-dimensial np.ndarray\n",
    "        Incidence matrix for edges\n",
    "    \n",
    "    Returns:\n",
    "    --------\n",
    "    framed : bool 3-dimensial np.ndarray\n",
    "        Incidence matrix for triangles\n",
    "    \"\"\"\n",
    "    matrix = edges_matrix*np.ones(np.append(edges_matrix.shape, edges_matrix.shape[0]))\n",
    "    axeses = [(0, 1, 2), (1, 2, 0), (2, 0, 1)]\n",
    "    framed = np.array([matrix.transpose(axes) for axes in axeses])\n",
    "    framed = np.min(framed, axis=0).astype(bool)\n",
    "    return framed"
   ]
  },
  {
   "cell_type": "code",
   "execution_count": 9,
   "id": "a3679efe",
   "metadata": {},
   "outputs": [
    {
     "data": {
      "text/plain": [
       "array([[False,  True,  True, False, False],\n",
       "       [ True, False,  True,  True,  True],\n",
       "       [ True,  True, False, False, False],\n",
       "       [False,  True, False, False,  True],\n",
       "       [False,  True, False,  True, False]])"
      ]
     },
     "execution_count": 9,
     "metadata": {},
     "output_type": "execute_result"
    }
   ],
   "source": [
    "edges_matrix = np.zeros([5, 5]).astype(bool)\n",
    "edges = [(0, 1), (0, 2), (2, 1), (1, 3), (3, 4), (1, 4)]\n",
    "for edge in edges:\n",
    "    edges_matrix[edge[0], edge[1]] = True\n",
    "    edges_matrix[edge[1], edge[0]] = True\n",
    "edges_matrix"
   ]
  },
  {
   "cell_type": "code",
   "execution_count": 10,
   "id": "ccf145f4",
   "metadata": {},
   "outputs": [
    {
     "data": {
      "text/plain": [
       "array([[0, 1, 2],\n",
       "       [1, 3, 4]])"
      ]
     },
     "execution_count": 10,
     "metadata": {},
     "output_type": "execute_result"
    }
   ],
   "source": [
    "np.unique(np.sort(np.array(np.where(framed_triangles(edges_matrix))).transpose(), axis=1), axis=0)"
   ]
  },
  {
   "cell_type": "code",
   "execution_count": null,
   "id": "4882b649",
   "metadata": {},
   "outputs": [],
   "source": []
  },
  {
   "cell_type": "code",
   "execution_count": null,
   "id": "82efe026",
   "metadata": {},
   "outputs": [],
   "source": []
  },
  {
   "cell_type": "code",
   "execution_count": null,
   "id": "b3e63f2e",
   "metadata": {},
   "outputs": [],
   "source": []
  },
  {
   "cell_type": "code",
   "execution_count": null,
   "id": "999ab7d7",
   "metadata": {},
   "outputs": [],
   "source": []
  }
 ],
 "metadata": {
  "kernelspec": {
   "display_name": "Python 3 (ipykernel)",
   "language": "python",
   "name": "python3"
  },
  "language_info": {
   "codemirror_mode": {
    "name": "ipython",
    "version": 3
   },
   "file_extension": ".py",
   "mimetype": "text/x-python",
   "name": "python",
   "nbconvert_exporter": "python",
   "pygments_lexer": "ipython3",
   "version": "3.10.2"
  }
 },
 "nbformat": 4,
 "nbformat_minor": 5
}
