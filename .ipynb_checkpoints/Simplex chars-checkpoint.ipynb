{
 "cells": [
  {
   "cell_type": "code",
   "execution_count": 1,
   "id": "99569c09",
   "metadata": {},
   "outputs": [],
   "source": [
    "import numpy as np\n",
    "import pandas as pd\n",
    "import networkx as nx"
   ]
  },
  {
   "cell_type": "markdown",
   "id": "9b742ba2",
   "metadata": {},
   "source": [
    "# Spaces"
   ]
  },
  {
   "cell_type": "code",
   "execution_count": 2,
   "id": "5aab4652",
   "metadata": {},
   "outputs": [],
   "source": [
    "tetrahedron = {\n",
    "    0 : [0, 1, 2, 3],\n",
    "    1 : [(0, 1), (0, 2), (0, 3), (1, 2), (1, 3), (2, 3)],\n",
    "    2 : [(0, 1, 2), (0, 1, 3), (0, 2, 3), (1, 2, 3)]\n",
    "}"
   ]
  },
  {
   "cell_type": "code",
   "execution_count": 3,
   "id": "d5b15611",
   "metadata": {},
   "outputs": [],
   "source": [
    "full_tetrahedron = {\n",
    "    0 : [0, 1, 2, 3],\n",
    "    1 : [(0, 1), (0, 2), (0, 3), (1, 2), (1, 3), (2, 3)],\n",
    "    2 : [(0, 1, 2), (0, 1, 3), (0, 2, 3), (1, 2, 3)],\n",
    "    3 : [(0, 1, 2, 3)]\n",
    "}"
   ]
  },
  {
   "cell_type": "code",
   "execution_count": 4,
   "id": "cad1671b",
   "metadata": {},
   "outputs": [],
   "source": [
    "torus = {\n",
    "    0 : [0, 1, 2, 3, 4, 5, 6, 7, 8],\n",
    "    1 : [(0, 1), (1, 2), (2, 0), \n",
    "         (3, 5), (5, 7), (7, 3),\n",
    "         (4, 6), (6, 8), (8, 4), \n",
    "         (0, 3), (3, 4), (4, 0),\n",
    "         (1, 5), (5, 6), (6, 1), \n",
    "         (2, 7), (7, 8), (8, 2), \n",
    "         (1, 3), (2, 5), (5, 4),\n",
    "         (0, 7), (7, 6), (6, 0),\n",
    "         (3, 8), (8, 1), (4, 2)], \n",
    "    2 : [(0, 1, 3), (1, 3, 5), (1, 2, 5), \n",
    "         (2, 5, 7), (0, 2, 7), (0, 3, 7), \n",
    "         (3, 4, 5), (4, 5, 6), (5, 6, 7), \n",
    "         (6, 7, 8), (3, 7, 8), (3, 4, 8), \n",
    "         (0, 4, 6), (0, 1, 6), (1, 6, 8), \n",
    "         (1, 2, 8), (2, 4, 8), (0, 2, 4)]\n",
    "}"
   ]
  },
  {
   "cell_type": "code",
   "execution_count": 5,
   "id": "9d2912e9",
   "metadata": {},
   "outputs": [],
   "source": [
    "torus_double = {}\n",
    "#  дублируем тор\n",
    "for i in range(3):\n",
    "    torus_double.update({i : np.concatenate([np.array(torus[i]), np.array(torus[i])+9])})\n",
    "\n",
    "# объеиняем по треугольнику\n",
    "union_by = [6, 7, 8]\n",
    "for i in range(3):\n",
    "    m = torus_double[i]\n",
    "    for j in union_by:\n",
    "        m[m == j+9] = j\n",
    "    torus_double[i] = m\n",
    "\n",
    "torus_double[0] = np.unique(torus_double[0], axis=0)\n",
    "for i in range(1, 3):\n",
    "    torus_double[i] = np.unique(np.sort(torus_double[i], axis=1), axis=0)\n",
    "\n",
    "# Убираем лишний треугольник\n",
    "m = torus_double[2]\n",
    "m = m == union_by\n",
    "m = m.all(axis=1)\n",
    "m = torus_double[2][np.logical_not(m)]\n",
    "torus_double[2] = m"
   ]
  },
  {
   "cell_type": "code",
   "execution_count": 6,
   "id": "a494b0e2",
   "metadata": {},
   "outputs": [],
   "source": [
    "mobius_strip = {\n",
    "    0 : [0, 1, 2, 3, 4, 5],\n",
    "    1 : [(0, 1), (1, 2), (0, 2), \n",
    "         (2, 3), (1, 3), (3, 4), \n",
    "         (2, 4), (4, 5), (3, 5), \n",
    "         (1, 4), (1, 5), (0, 5)],\n",
    "    2 : [(0, 1, 2), (1, 2, 3), \n",
    "         (2, 3, 4), (3, 4, 5), \n",
    "         (1, 4, 5), (0, 1, 5)]\n",
    "}"
   ]
  },
  {
   "cell_type": "code",
   "execution_count": 7,
   "id": "aa1a40f6",
   "metadata": {},
   "outputs": [],
   "source": [
    "spaces = {\n",
    "    'Empty Tetrahedron' : tetrahedron, \n",
    "    'Full Tetrahedron' : full_tetrahedron,\n",
    "    'Torus' : torus, \n",
    "    'Double torus' : torus_double,\n",
    "    'Möbius Strip' : mobius_strip\n",
    "}"
   ]
  },
  {
   "cell_type": "markdown",
   "id": "3ff94b97",
   "metadata": {},
   "source": [
    "# Characteristic"
   ]
  },
  {
   "cell_type": "code",
   "execution_count": 8,
   "id": "bb27e646",
   "metadata": {},
   "outputs": [],
   "source": [
    "def space_dimension(space):\n",
    "    \"\"\"\n",
    "    Returns dimension of simplex space.\n",
    "    \n",
    "    Parameters:\n",
    "    -----------\n",
    "    space : dict\n",
    "        Simplex space. Keys are dimensions, values are list of simplicies\n",
    "    \n",
    "    Returns:\n",
    "    --------\n",
    "    dimension : int\n",
    "        Number of connected components.\n",
    "    \"\"\"\n",
    "    dimension = np.max([dim for dim in space])\n",
    "    return dimension"
   ]
  },
  {
   "cell_type": "code",
   "execution_count": 9,
   "id": "a13b532f",
   "metadata": {},
   "outputs": [],
   "source": [
    "def number_connected_components(space):\n",
    "    \"\"\"\n",
    "    Returns number of connected components.\n",
    "    \n",
    "    Parameters:\n",
    "    -----------\n",
    "    space : dict\n",
    "        Simplex space. Keys are dimensions, values are list of simplicies\n",
    "    \n",
    "    Returns:\n",
    "    --------\n",
    "    num : int\n",
    "        Number of connected components.\n",
    "    \"\"\"\n",
    "    graph = nx.Graph()\n",
    "    graph.add_nodes_from(space[0])\n",
    "    graph.add_edges_from(space[1])\n",
    "    num = nx.algorithms.components.number_connected_components(graph)\n",
    "    return num"
   ]
  },
  {
   "cell_type": "code",
   "execution_count": 10,
   "id": "4b01e9e8",
   "metadata": {},
   "outputs": [],
   "source": [
    "def euler_characteristic(space):\n",
    "    \"\"\"\n",
    "    Returns Euler characterisitic of space.\n",
    "    \n",
    "    Parameters:\n",
    "    -----------\n",
    "    space : dict\n",
    "        Simplex space. Keys are dimensions, values are list of simplicies\n",
    "    \n",
    "    Returns:\n",
    "    --------\n",
    "    char : int\n",
    "        Euler characterisitic.\n",
    "    \"\"\"\n",
    "    char = 0\n",
    "    for dim in space:\n",
    "        char += (-1)**dim * len(space[dim])\n",
    "    return char"
   ]
  },
  {
   "cell_type": "code",
   "execution_count": 11,
   "id": "192bcafc",
   "metadata": {},
   "outputs": [],
   "source": [
    "def get_chain_str(space, group='Z'):\n",
    "    s = '0 <- '\n",
    "    for dim in space:\n",
    "        s += group + '^' + str(len(space[dim])) + ' <- '\n",
    "    s += '0'\n",
    "    return s"
   ]
  },
  {
   "cell_type": "code",
   "execution_count": 12,
   "id": "beea7f2e",
   "metadata": {},
   "outputs": [],
   "source": [
    "def get_integer_homology(space):\n",
    "    pass"
   ]
  },
  {
   "cell_type": "markdown",
   "id": "385e7e9b",
   "metadata": {},
   "source": [
    "## $\\mathbb{Z}_2$-homologies"
   ]
  },
  {
   "cell_type": "code",
   "execution_count": 13,
   "id": "7ac54129",
   "metadata": {},
   "outputs": [],
   "source": [
    "def get_chain_basises(space):\n",
    "    return [np.eye(len(space[i]), dtype=int) for i in space]"
   ]
  },
  {
   "cell_type": "code",
   "execution_count": 14,
   "id": "e137d14f",
   "metadata": {},
   "outputs": [],
   "source": [
    "def get_chain_maps(space):\n",
    "    maps = []\n",
    "    for dim in space.keys():\n",
    "        if dim == 0:\n",
    "            maps.append(np.zeros([1, len(space[dim])], dtype=int))\n",
    "        else:\n",
    "            mapd = np.zeros([len(space[dim-1]), len(space[dim])], dtype=int)\n",
    "            for i in range(len(space[dim])):\n",
    "                for j in range(len(space[dim-1])):\n",
    "                    big = space[dim][i]\n",
    "                    small = space[dim-1][j]\n",
    "                    mapd[j, i] = np.isin(small, big).all()\n",
    "            maps.append(mapd)\n",
    "    return maps"
   ]
  },
  {
   "cell_type": "code",
   "execution_count": 15,
   "id": "38af33b5",
   "metadata": {},
   "outputs": [],
   "source": [
    "def get_chain_images(space):\n",
    "    pass"
   ]
  },
  {
   "cell_type": "code",
   "execution_count": 16,
   "id": "6ea62638",
   "metadata": {},
   "outputs": [],
   "source": [
    "def get_chain_kernels(space):\n",
    "    pass"
   ]
  },
  {
   "cell_type": "code",
   "execution_count": 17,
   "id": "a88ed054",
   "metadata": {},
   "outputs": [],
   "source": [
    "def get_chain_homologies(space):\n",
    "    pass"
   ]
  },
  {
   "cell_type": "code",
   "execution_count": 18,
   "id": "e546db84",
   "metadata": {},
   "outputs": [
    {
     "data": {
      "text/plain": [
       "[array([[1, 0, 0, 0],\n",
       "        [0, 1, 0, 0],\n",
       "        [0, 0, 1, 0],\n",
       "        [0, 0, 0, 1]]),\n",
       " array([[1, 0, 0, 0, 0, 0],\n",
       "        [0, 1, 0, 0, 0, 0],\n",
       "        [0, 0, 1, 0, 0, 0],\n",
       "        [0, 0, 0, 1, 0, 0],\n",
       "        [0, 0, 0, 0, 1, 0],\n",
       "        [0, 0, 0, 0, 0, 1]]),\n",
       " array([[1, 0, 0, 0],\n",
       "        [0, 1, 0, 0],\n",
       "        [0, 0, 1, 0],\n",
       "        [0, 0, 0, 1]])]"
      ]
     },
     "execution_count": 18,
     "metadata": {},
     "output_type": "execute_result"
    }
   ],
   "source": [
    "space = tetrahedron\n",
    "get_chain_basises(space)"
   ]
  },
  {
   "cell_type": "code",
   "execution_count": 19,
   "id": "cbc6e3f1",
   "metadata": {},
   "outputs": [
    {
     "data": {
      "text/plain": [
       "[array([[0, 0, 0, 0]]),\n",
       " array([[1, 1, 1, 0, 0, 0],\n",
       "        [1, 0, 0, 1, 1, 0],\n",
       "        [0, 1, 0, 1, 0, 1],\n",
       "        [0, 0, 1, 0, 1, 1]]),\n",
       " array([[1, 1, 0, 0],\n",
       "        [1, 0, 1, 0],\n",
       "        [0, 1, 1, 0],\n",
       "        [1, 0, 0, 1],\n",
       "        [0, 1, 0, 1],\n",
       "        [0, 0, 1, 1]])]"
      ]
     },
     "execution_count": 19,
     "metadata": {},
     "output_type": "execute_result"
    }
   ],
   "source": [
    "get_chain_maps(space)"
   ]
  },
  {
   "cell_type": "code",
   "execution_count": null,
   "id": "710bfb92",
   "metadata": {},
   "outputs": [],
   "source": []
  },
  {
   "cell_type": "code",
   "execution_count": null,
   "id": "27662b69",
   "metadata": {},
   "outputs": [],
   "source": []
  },
  {
   "cell_type": "markdown",
   "id": "d073ba06",
   "metadata": {},
   "source": [
    "# Results"
   ]
  },
  {
   "cell_type": "code",
   "execution_count": 20,
   "id": "73d43b9b",
   "metadata": {},
   "outputs": [
    {
     "data": {
      "text/html": [
       "<div>\n",
       "<style scoped>\n",
       "    .dataframe tbody tr th:only-of-type {\n",
       "        vertical-align: middle;\n",
       "    }\n",
       "\n",
       "    .dataframe tbody tr th {\n",
       "        vertical-align: top;\n",
       "    }\n",
       "\n",
       "    .dataframe thead th {\n",
       "        text-align: right;\n",
       "    }\n",
       "</style>\n",
       "<table border=\"1\" class=\"dataframe\">\n",
       "  <thead>\n",
       "    <tr style=\"text-align: right;\">\n",
       "      <th></th>\n",
       "      <th>Space name</th>\n",
       "      <th>Dimension</th>\n",
       "      <th>Connected components</th>\n",
       "      <th>Euler characterisitic</th>\n",
       "      <th>Chain</th>\n",
       "    </tr>\n",
       "  </thead>\n",
       "  <tbody>\n",
       "    <tr>\n",
       "      <th>0</th>\n",
       "      <td>Empty Tetrahedron</td>\n",
       "      <td>2</td>\n",
       "      <td>1</td>\n",
       "      <td>2</td>\n",
       "      <td>0 &lt;- Z^4 &lt;- Z^6 &lt;- Z^4 &lt;- 0</td>\n",
       "    </tr>\n",
       "    <tr>\n",
       "      <th>1</th>\n",
       "      <td>Full Tetrahedron</td>\n",
       "      <td>3</td>\n",
       "      <td>1</td>\n",
       "      <td>1</td>\n",
       "      <td>0 &lt;- Z^4 &lt;- Z^6 &lt;- Z^4 &lt;- Z^1 &lt;- 0</td>\n",
       "    </tr>\n",
       "    <tr>\n",
       "      <th>2</th>\n",
       "      <td>Torus</td>\n",
       "      <td>2</td>\n",
       "      <td>1</td>\n",
       "      <td>0</td>\n",
       "      <td>0 &lt;- Z^9 &lt;- Z^27 &lt;- Z^18 &lt;- 0</td>\n",
       "    </tr>\n",
       "    <tr>\n",
       "      <th>3</th>\n",
       "      <td>Double torus</td>\n",
       "      <td>2</td>\n",
       "      <td>1</td>\n",
       "      <td>-2</td>\n",
       "      <td>0 &lt;- Z^15 &lt;- Z^51 &lt;- Z^34 &lt;- 0</td>\n",
       "    </tr>\n",
       "    <tr>\n",
       "      <th>4</th>\n",
       "      <td>Möbius Strip</td>\n",
       "      <td>2</td>\n",
       "      <td>1</td>\n",
       "      <td>0</td>\n",
       "      <td>0 &lt;- Z^6 &lt;- Z^12 &lt;- Z^6 &lt;- 0</td>\n",
       "    </tr>\n",
       "  </tbody>\n",
       "</table>\n",
       "</div>"
      ],
      "text/plain": [
       "          Space name  Dimension  Connected components  Euler characterisitic  \\\n",
       "0  Empty Tetrahedron          2                     1                      2   \n",
       "1   Full Tetrahedron          3                     1                      1   \n",
       "2              Torus          2                     1                      0   \n",
       "3       Double torus          2                     1                     -2   \n",
       "4       Möbius Strip          2                     1                      0   \n",
       "\n",
       "                                Chain  \n",
       "0         0 <- Z^4 <- Z^6 <- Z^4 <- 0  \n",
       "1  0 <- Z^4 <- Z^6 <- Z^4 <- Z^1 <- 0  \n",
       "2       0 <- Z^9 <- Z^27 <- Z^18 <- 0  \n",
       "3      0 <- Z^15 <- Z^51 <- Z^34 <- 0  \n",
       "4        0 <- Z^6 <- Z^12 <- Z^6 <- 0  "
      ]
     },
     "execution_count": 20,
     "metadata": {},
     "output_type": "execute_result"
    }
   ],
   "source": [
    "pd.DataFrame({\n",
    "    'Space name' : [name for name in spaces], \n",
    "    'Dimension' : [space_dimension(spaces[name]) for name in spaces], \n",
    "    'Connected components' : [number_connected_components(spaces[name]) for name in spaces], \n",
    "    'Euler characterisitic' : [euler_characteristic(spaces[name]) for name in spaces], \n",
    "    'Chain' : [get_chain_str(spaces[name]) for name in spaces]\n",
    "})"
   ]
  },
  {
   "cell_type": "code",
   "execution_count": null,
   "id": "72be7f3d",
   "metadata": {},
   "outputs": [],
   "source": []
  },
  {
   "cell_type": "code",
   "execution_count": null,
   "id": "4de5ce14",
   "metadata": {},
   "outputs": [],
   "source": []
  }
 ],
 "metadata": {
  "kernelspec": {
   "display_name": "Python 3 (ipykernel)",
   "language": "python",
   "name": "python3"
  },
  "language_info": {
   "codemirror_mode": {
    "name": "ipython",
    "version": 3
   },
   "file_extension": ".py",
   "mimetype": "text/x-python",
   "name": "python",
   "nbconvert_exporter": "python",
   "pygments_lexer": "ipython3",
   "version": "3.10.2"
  }
 },
 "nbformat": 4,
 "nbformat_minor": 5
}
