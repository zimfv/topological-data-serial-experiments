{
 "cells": [
  {
   "cell_type": "code",
   "execution_count": 1,
   "id": "d1eb5dcb",
   "metadata": {},
   "outputs": [],
   "source": [
    "import numpy as np\n",
    "import pandas as pd\n",
    "from itertools import permutations, product"
   ]
  },
  {
   "cell_type": "markdown",
   "id": "de577296",
   "metadata": {},
   "source": [
    "# Define Faces and Polygons of a Voronoi Cell (Truncated Octahedron)"
   ]
  },
  {
   "cell_type": "code",
   "execution_count": 2,
   "id": "b47f1544",
   "metadata": {},
   "outputs": [
    {
     "data": {
      "text/plain": [
       "array([[-1. , -0.5,  0. ],\n",
       "       [-1. ,  0. , -0.5],\n",
       "       [-1. ,  0. ,  0.5],\n",
       "       [-1. ,  0.5,  0. ],\n",
       "       [-0.5, -1. ,  0. ],\n",
       "       [-0.5,  0. , -1. ],\n",
       "       [-0.5,  0. ,  1. ],\n",
       "       [-0.5,  1. ,  0. ],\n",
       "       [ 0. , -1. , -0.5],\n",
       "       [ 0. , -1. ,  0.5],\n",
       "       [ 0. , -0.5, -1. ],\n",
       "       [ 0. , -0.5,  1. ],\n",
       "       [ 0. ,  0.5, -1. ],\n",
       "       [ 0. ,  0.5,  1. ],\n",
       "       [ 0. ,  1. , -0.5],\n",
       "       [ 0. ,  1. ,  0.5],\n",
       "       [ 0.5, -1. ,  0. ],\n",
       "       [ 0.5,  0. , -1. ],\n",
       "       [ 0.5,  0. ,  1. ],\n",
       "       [ 0.5,  1. ,  0. ],\n",
       "       [ 1. , -0.5,  0. ],\n",
       "       [ 1. ,  0. , -0.5],\n",
       "       [ 1. ,  0. ,  0.5],\n",
       "       [ 1. ,  0.5,  0. ]])"
      ]
     },
     "execution_count": 2,
     "metadata": {},
     "output_type": "execute_result"
    }
   ],
   "source": [
    "vectors = np.array(list(permutations([0, 1, 2], 3)))\n",
    "vectors = np.concatenate([vectors*np.array(i) for i in product([1, -1], repeat=3)])\n",
    "vectors = 0.5*np.unique(vectors, axis=0)\n",
    "vectors"
   ]
  },
  {
   "cell_type": "code",
   "execution_count": 3,
   "id": "85a233da",
   "metadata": {},
   "outputs": [
    {
     "data": {
      "text/plain": [
       "array([[ 0,  1,  2,  3],\n",
       "       [20, 21, 22, 23],\n",
       "       [ 4,  8,  9, 16],\n",
       "       [ 7, 14, 15, 19],\n",
       "       [ 5, 10, 12, 17],\n",
       "       [ 6, 11, 13, 18]])"
      ]
     },
     "execution_count": 3,
     "metadata": {},
     "output_type": "execute_result"
    }
   ],
   "source": [
    "faces4 = []\n",
    "for i in range(3):\n",
    "    faces4.append(np.arange(len(vectors))[vectors[:, i] == -1])\n",
    "    faces4.append(np.arange(len(vectors))[vectors[:, i] == 1]) \n",
    "faces4 = np.array(faces4)\n",
    "faces4"
   ]
  },
  {
   "cell_type": "code",
   "execution_count": 4,
   "id": "9c009642",
   "metadata": {},
   "outputs": [
    {
     "data": {
      "text/plain": [
       "array([[ 0,  1,  4,  5,  8, 10],\n",
       "       [ 0,  2,  4,  6,  9, 11],\n",
       "       [ 1,  3,  5,  7, 12, 14],\n",
       "       [ 2,  3,  6,  7, 13, 15],\n",
       "       [ 8, 10, 16, 17, 20, 21],\n",
       "       [ 9, 11, 16, 18, 20, 22],\n",
       "       [12, 14, 17, 19, 21, 23],\n",
       "       [13, 15, 18, 19, 22, 23]])"
      ]
     },
     "execution_count": 4,
     "metadata": {},
     "output_type": "execute_result"
    }
   ],
   "source": [
    "faces6 = []\n",
    "for i in np.array(list(product([-0.5, 0.5], repeat=3))):\n",
    "    faces6.append(np.arange(len(vectors))[((vectors - i)*i).sum(axis=1) == 0])\n",
    "faces6 = np.array(faces6)\n",
    "faces6"
   ]
  },
  {
   "cell_type": "code",
   "execution_count": 5,
   "id": "912dbdd5",
   "metadata": {},
   "outputs": [],
   "source": [
    "def calculate_lengtths_squares(faces, vectors):\n",
    "    # calculate lengths squares for face edges.\n",
    "    # faces - list of lists of indices of faces vertices\n",
    "    # vectors - array of vectors which are face vertices\n",
    "    lengths = []\n",
    "    for face in faces:\n",
    "        lengths_face = vectors[face] - vectors[np.append(face[1:], face[0])]\n",
    "        lengths_face = (lengths_face**2).sum(axis=1)\n",
    "        lengths.append(lengths_face)\n",
    "    return np.array(lengths)"
   ]
  },
  {
   "cell_type": "code",
   "execution_count": 6,
   "id": "b7d72706",
   "metadata": {},
   "outputs": [],
   "source": [
    "if (calculate_lengtths_squares(faces4, vectors) != 0.5).any():\n",
    "    reindex = [0, 1, 3, 2]\n",
    "    faces4 = np.array([face[reindex] for face in faces4])\n",
    "assert (calculate_lengtths_squares(faces4, vectors) == 0.5).all()"
   ]
  },
  {
   "cell_type": "code",
   "execution_count": 7,
   "id": "470569cb",
   "metadata": {},
   "outputs": [
    {
     "data": {
      "text/plain": [
       "(12, 4, 3)"
      ]
     },
     "execution_count": 7,
     "metadata": {},
     "output_type": "execute_result"
    }
   ],
   "source": [
    "polygons4 = []\n",
    "for face in faces4:\n",
    "    polygon = np.concatenate([np.zeros([1, 3]), vectors[face[:-1]]])\n",
    "    polygons4.append(polygon)\n",
    "    polygon = np.concatenate([np.zeros([1, 3]), vectors[face[1:]]])\n",
    "    polygons4.append(polygon)\n",
    "polygons4 = np.array(polygons4)\n",
    "polygons4.shape"
   ]
  },
  {
   "cell_type": "code",
   "execution_count": 8,
   "id": "5c1526dc",
   "metadata": {},
   "outputs": [],
   "source": [
    "if (calculate_lengtths_squares(faces6, vectors) != 0.5).any():\n",
    "    reindex = [0, 1, 3, 5, 4, 2]\n",
    "    faces6 = np.array([face[reindex] for face in faces6])\n",
    "assert (calculate_lengtths_squares(faces6, vectors) == 0.5).all()"
   ]
  },
  {
   "cell_type": "code",
   "execution_count": 9,
   "id": "7d1c7b57",
   "metadata": {},
   "outputs": [
    {
     "data": {
      "text/plain": [
       "(32, 4, 3)"
      ]
     },
     "execution_count": 9,
     "metadata": {},
     "output_type": "execute_result"
    }
   ],
   "source": [
    "polygons6 = []\n",
    "for face in faces6:\n",
    "    for polygon_id in [[0, 1, 5], [1, 4, 5], [1, 2, 4], [2, 3, 4]]:\n",
    "        polygon = np.concatenate([np.zeros([1, 3]), vectors[face[polygon_id]]])\n",
    "        polygons6.append(polygon)\n",
    "polygons6 = np.array(polygons6)\n",
    "polygons6.shape"
   ]
  },
  {
   "cell_type": "code",
   "execution_count": 10,
   "id": "b082a600",
   "metadata": {},
   "outputs": [
    {
     "data": {
      "text/plain": [
       "(44, 4, 3)"
      ]
     },
     "execution_count": 10,
     "metadata": {},
     "output_type": "execute_result"
    }
   ],
   "source": [
    "polygons = np.concatenate([polygons4, polygons6])\n",
    "polygons.shape"
   ]
  },
  {
   "cell_type": "code",
   "execution_count": 14,
   "id": "e5578833",
   "metadata": {},
   "outputs": [],
   "source": [
    "polygons_to = np.array([[[ 0. ,  0. ,  0. ], [-1. , -0.5,  0. ], [-1. ,  0. , -0.5], [-1. ,  0.5,  0. ]],\n",
    "                        [[ 0. ,  0. ,  0. ], [-1. ,  0. , -0.5], [-1. ,  0.5,  0. ], [-1. ,  0. ,  0.5]],\n",
    "                        [[ 0. ,  0. ,  0. ], [ 1. , -0.5,  0. ], [ 1. ,  0. , -0.5], [ 1. ,  0.5,  0. ]],\n",
    "                        [[ 0. ,  0. ,  0. ], [ 1. ,  0. , -0.5], [ 1. ,  0.5,  0. ], [ 1. ,  0. ,  0.5]],\n",
    "                        [[ 0. ,  0. ,  0. ], [-0.5, -1. ,  0. ], [ 0. , -1. , -0.5], [ 0.5, -1. ,  0. ]],\n",
    "                        [[ 0. ,  0. ,  0. ], [ 0. , -1. , -0.5], [ 0.5, -1. ,  0. ], [ 0. , -1. ,  0.5]],\n",
    "                        [[ 0. ,  0. ,  0. ], [-0.5,  1. ,  0. ], [ 0. ,  1. , -0.5], [ 0.5,  1. ,  0. ]],\n",
    "                        [[ 0. ,  0. ,  0. ], [ 0. ,  1. , -0.5], [ 0.5,  1. ,  0. ], [ 0. ,  1. ,  0.5]],\n",
    "                        [[ 0. ,  0. ,  0. ], [-0.5,  0. , -1. ], [ 0. , -0.5, -1. ], [ 0.5,  0. , -1. ]],\n",
    "                        [[ 0. ,  0. ,  0. ], [ 0. , -0.5, -1. ], [ 0.5,  0. , -1. ], [ 0. ,  0.5, -1. ]],\n",
    "                        [[ 0. ,  0. ,  0. ], [-0.5,  0. ,  1. ], [ 0. , -0.5,  1. ], [ 0.5,  0. ,  1. ]],\n",
    "                        [[ 0. ,  0. ,  0. ], [ 0. , -0.5,  1. ], [ 0.5,  0. ,  1. ], [ 0. ,  0.5,  1. ]],\n",
    "                        [[ 0. ,  0. ,  0. ], [-1. , -0.5,  0. ], [-1. ,  0. , -0.5], [-0.5, -1. ,  0. ]],\n",
    "                        [[ 0. ,  0. ,  0. ], [-1. ,  0. , -0.5], [ 0. , -1. , -0.5], [-0.5, -1. ,  0. ]],\n",
    "                        [[ 0. ,  0. ,  0. ], [-1. ,  0. , -0.5], [-0.5,  0. , -1. ], [ 0. , -1. , -0.5]],\n",
    "                        [[ 0. ,  0. ,  0. ], [-0.5,  0. , -1. ], [ 0. , -0.5, -1. ], [ 0. , -1. , -0.5]],\n",
    "                        [[ 0. ,  0. ,  0. ], [-1. , -0.5,  0. ], [-1. ,  0. ,  0.5], [-0.5, -1. ,  0. ]],\n",
    "                        [[ 0. ,  0. ,  0. ], [-1. ,  0. ,  0.5], [ 0. , -1. ,  0.5], [-0.5, -1. ,  0. ]],\n",
    "                        [[ 0. ,  0. ,  0. ], [-1. ,  0. ,  0.5], [-0.5,  0. ,  1. ], [ 0. , -1. ,  0.5]],\n",
    "                        [[ 0. ,  0. ,  0. ], [-0.5,  0. ,  1. ], [ 0. , -0.5,  1. ], [ 0. , -1. ,  0.5]],\n",
    "                        [[ 0. ,  0. ,  0. ], [-1. ,  0. , -0.5], [-1. ,  0.5,  0. ], [-0.5,  0. , -1. ]],\n",
    "                        [[ 0. ,  0. ,  0. ], [-1. ,  0.5,  0. ], [ 0. ,  0.5, -1. ], [-0.5,  0. , -1. ]],\n",
    "                        [[ 0. ,  0. ,  0. ], [-1. ,  0.5,  0. ], [-0.5,  1. ,  0. ], [ 0. ,  0.5, -1. ]],\n",
    "                        [[ 0. ,  0. ,  0. ], [-0.5,  1. ,  0. ], [ 0. ,  1. , -0.5], [ 0. ,  0.5, -1. ]],\n",
    "                        [[ 0. ,  0. ,  0. ], [-1. ,  0. ,  0.5], [-1. ,  0.5,  0. ], [-0.5,  0. ,  1. ]],\n",
    "                        [[ 0. ,  0. ,  0. ], [-1. ,  0.5,  0. ], [ 0. ,  0.5,  1. ], [-0.5,  0. ,  1. ]],\n",
    "                        [[ 0. ,  0. ,  0. ], [-1. ,  0.5,  0. ], [-0.5,  1. ,  0. ], [ 0. ,  0.5,  1. ]],\n",
    "                        [[ 0. ,  0. ,  0. ], [-0.5,  1. ,  0. ], [ 0. ,  1. ,  0.5], [ 0. ,  0.5,  1. ]],\n",
    "                        [[ 0. ,  0. ,  0. ], [ 0. , -1. , -0.5], [ 0. , -0.5, -1. ], [ 0.5, -1. ,  0. ]],\n",
    "                        [[ 0. ,  0. ,  0. ], [ 0. , -0.5, -1. ], [ 1. , -0.5,  0. ], [ 0.5, -1. ,  0. ]],\n",
    "                        [[ 0. ,  0. ,  0. ], [ 0. , -0.5, -1. ], [ 0.5,  0. , -1. ], [ 1. , -0.5,  0. ]],\n",
    "                        [[ 0. ,  0. ,  0. ], [ 0.5,  0. , -1. ], [ 1. ,  0. , -0.5], [ 1. , -0.5,  0. ]],\n",
    "                        [[ 0. ,  0. ,  0. ], [ 0. , -1. ,  0.5], [ 0. , -0.5,  1. ], [ 0.5, -1. ,  0. ]],\n",
    "                        [[ 0. ,  0. ,  0. ], [ 0. , -0.5,  1. ], [ 1. , -0.5,  0. ], [ 0.5, -1. ,  0. ]],\n",
    "                        [[ 0. ,  0. ,  0. ], [ 0. , -0.5,  1. ], [ 0.5,  0. ,  1. ], [ 1. , -0.5,  0. ]],\n",
    "                        [[ 0. ,  0. ,  0. ], [ 0.5,  0. ,  1. ], [ 1. ,  0. ,  0.5], [ 1. , -0.5,  0. ]], \n",
    "                        [[ 0. ,  0. ,  0. ], [ 0. ,  0.5, -1. ], [ 0. ,  1. , -0.5], [ 0.5,  0. , -1. ]],\n",
    "                        [[ 0. ,  0. ,  0. ], [ 0. ,  1. , -0.5], [ 1. ,  0. , -0.5], [ 0.5,  0. , -1. ]],\n",
    "                        [[ 0. ,  0. ,  0. ], [ 0. ,  1. , -0.5], [ 0.5,  1. ,  0. ], [ 1. ,  0. , -0.5]],\n",
    "                        [[ 0. ,  0. ,  0. ], [ 0.5,  1. ,  0. ], [ 1. ,  0.5,  0. ], [ 1. ,  0. , -0.5]],\n",
    "                        [[ 0. ,  0. ,  0. ], [ 0. ,  0.5,  1. ], [ 0. ,  1. ,  0.5], [ 0.5,  0. ,  1. ]],\n",
    "                        [[ 0. ,  0. ,  0. ], [ 0. ,  1. ,  0.5], [ 1. ,  0. ,  0.5], [ 0.5,  0. ,  1. ]],\n",
    "                        [[ 0. ,  0. ,  0. ], [ 0. ,  1. ,  0.5], [ 0.5,  1. ,  0. ], [ 1. ,  0. ,  0.5]],\n",
    "                        [[ 0. ,  0. ,  0. ], [ 0.5,  1. ,  0. ], [ 1. ,  0.5,  0. ], [ 1. ,  0. ,  0.5]]])"
   ]
  },
  {
   "cell_type": "code",
   "execution_count": 22,
   "id": "a6cfd9ba",
   "metadata": {},
   "outputs": [],
   "source": [
    "assert (np.array(polygons_to.shape) == np.array(polygons.shape)).all()\n",
    "assert (polygons_to == polygons).all()"
   ]
  },
  {
   "cell_type": "markdown",
   "id": "cbd6cca4",
   "metadata": {},
   "source": [
    "# Method"
   ]
  },
  {
   "cell_type": "code",
   "execution_count": null,
   "id": "16835feb",
   "metadata": {},
   "outputs": [],
   "source": []
  }
 ],
 "metadata": {
  "kernelspec": {
   "display_name": "Python 3 (ipykernel)",
   "language": "python",
   "name": "python3"
  },
  "language_info": {
   "codemirror_mode": {
    "name": "ipython",
    "version": 3
   },
   "file_extension": ".py",
   "mimetype": "text/x-python",
   "name": "python",
   "nbconvert_exporter": "python",
   "pygments_lexer": "ipython3",
   "version": "3.10.8"
  }
 },
 "nbformat": 4,
 "nbformat_minor": 5
}
