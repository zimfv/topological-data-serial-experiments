{
 "cells": [
  {
   "cell_type": "code",
   "execution_count": 1,
   "id": "76cc67d7",
   "metadata": {},
   "outputs": [],
   "source": [
    "import numpy as np\n",
    "import pandas as pd\n",
    "from matplotlib import pyplot as plt\n",
    "from matplotlib import colormaps as cm\n",
    "from tqdm.notebook import tqdm\n",
    "from package import tessellations"
   ]
  },
  {
   "cell_type": "code",
   "execution_count": 2,
   "id": "6f9ccfb6",
   "metadata": {},
   "outputs": [],
   "source": [
    "n = 12\n",
    "experiments = 100"
   ]
  },
  {
   "cell_type": "code",
   "execution_count": 3,
   "id": "ee4893b4",
   "metadata": {},
   "outputs": [],
   "source": [
    "def calculate_mean_perisstent_euler(dfs, with_bar=True):\n",
    "    # \n",
    "    vals = np.unique(np.concatenate([df[['A', 'B']].values for df in dfs]))\n",
    "    df = pd.DataFrame({'A': vals[:-1], 'B': vals[1:]})\n",
    "    df['C'] = 0.5*df['A'] + 0.5*df['B']\n",
    "    df.loc[df['C'] == -np.inf, 'C'] = df.loc[df['C'] == -np.inf, 'B'] - 1\n",
    "    df.loc[df['C'] == +np.inf, 'C'] = df.loc[df['C'] == +np.inf, 'A'] + 1\n",
    "    if with_bar:\n",
    "        bar0 = tqdm(total=len(df))\n",
    "        bar1 = tqdm(total=len(dfs))\n",
    "    chars = []\n",
    "    for c in df['C']:\n",
    "        that_chars = []\n",
    "        for i in dfs:\n",
    "            that_chars.append(i[(i['A'] < c) & (i['B'] > c)]['Euler Char'].values[0])\n",
    "            if with_bar:\n",
    "                bar1.update()\n",
    "        chars.append(that_chars)\n",
    "        if with_bar:\n",
    "            bar0.update()\n",
    "            if c != list(df['C'])[-1]:\n",
    "                bar1.reset()\n",
    "    if with_bar:\n",
    "        bar0.close()\n",
    "        bar1.close()\n",
    "    df['chars'] = chars#[[i[(i['A'] < c) & (i['B'] > c)]['Euler Char'].values[0] for i in dfs] for c in df['C']]\n",
    "    if with_bar:\n",
    "        bar2 = tqdm(total=len(df))\n",
    "    mpe = []\n",
    "    for i in df['chars']:\n",
    "        mpe.append(np.mean(i))\n",
    "        if with_bar:\n",
    "            bar2.update()\n",
    "    if with_bar:\n",
    "        bar2.close()\n",
    "    df['Mean Euler Char'] = mpe\n",
    "    return df[['A', 'B', 'Mean Euler Char']]"
   ]
  },
  {
   "cell_type": "code",
   "execution_count": 4,
   "id": "0fcecac1",
   "metadata": {},
   "outputs": [],
   "source": [
    "def df_func(array, df, colname='Mean Euler Char'):\n",
    "    # \n",
    "    return [df[(df['A'] <= x) & (df['B'] > x)][colname].values[0] for x in array]"
   ]
  },
  {
   "cell_type": "markdown",
   "id": "c925a3c3",
   "metadata": {},
   "source": [
    "# Cubics on 2d torus"
   ]
  },
  {
   "cell_type": "code",
   "execution_count": 5,
   "id": "66d739c9",
   "metadata": {},
   "outputs": [
    {
     "data": {
      "application/vnd.jupyter.widget-view+json": {
       "model_id": "eba3e525f3b84d478e015b53b778e9da",
       "version_major": 2,
       "version_minor": 0
      },
      "text/plain": [
       "  0%|          | 0/100 [00:00<?, ?it/s]"
      ]
     },
     "metadata": {},
     "output_type": "display_data"
    }
   ],
   "source": [
    "fc = tessellations.get_cubical_tessellation_on_torus2d(n)\n",
    "\n",
    "giant_cycle_births = np.zeros([0, 3])\n",
    "persistent_euler_chars = []\n",
    "\n",
    "bar0 = tqdm(total=experiments)\n",
    "for i in range(experiments):\n",
    "    fc.set_filtration(np.random.random(n**2))\n",
    "    fc.initialize_complex()\n",
    "    gb = fc.get_giant_cycles()\n",
    "    if list(gb['Dimension']) == [0, 1, 1]:\n",
    "        giant_cycle_births = np.concatenate([giant_cycle_births, gb['Birth'].values.reshape([1, 3])])\n",
    "    else:\n",
    "        print('Oups! Something is wrong:')\n",
    "        fc.draw_filtration()\n",
    "        print('Giant cycles birth table looks like\\n{0}'.format(gb))\n",
    "        raise ValueError()\n",
    "    persistent_euler_chars.append(fc.persistent_euler())\n",
    "    bar0.update()\n",
    "bar0.close()"
   ]
  },
  {
   "cell_type": "code",
   "execution_count": 6,
   "id": "3c362d94",
   "metadata": {},
   "outputs": [
    {
     "data": {
      "application/vnd.jupyter.widget-view+json": {
       "model_id": "8dd4bcc0f6e2487d90a5657144660421",
       "version_major": 2,
       "version_minor": 0
      },
      "text/plain": [
       "  0%|          | 0/8348 [00:00<?, ?it/s]"
      ]
     },
     "metadata": {},
     "output_type": "display_data"
    },
    {
     "data": {
      "application/vnd.jupyter.widget-view+json": {
       "model_id": "5ab4a54f10e441ffaa008cb6f46c375c",
       "version_major": 2,
       "version_minor": 0
      },
      "text/plain": [
       "  0%|          | 0/100 [00:00<?, ?it/s]"
      ]
     },
     "metadata": {},
     "output_type": "display_data"
    },
    {
     "data": {
      "application/vnd.jupyter.widget-view+json": {
       "model_id": "1b0db650fee2498fb35a772d4b41e3b0",
       "version_major": 2,
       "version_minor": 0
      },
      "text/plain": [
       "  0%|          | 0/8348 [00:00<?, ?it/s]"
      ]
     },
     "metadata": {},
     "output_type": "display_data"
    },
    {
     "data": {
      "text/html": [
       "<div>\n",
       "<style scoped>\n",
       "    .dataframe tbody tr th:only-of-type {\n",
       "        vertical-align: middle;\n",
       "    }\n",
       "\n",
       "    .dataframe tbody tr th {\n",
       "        vertical-align: top;\n",
       "    }\n",
       "\n",
       "    .dataframe thead th {\n",
       "        text-align: right;\n",
       "    }\n",
       "</style>\n",
       "<table border=\"1\" class=\"dataframe\">\n",
       "  <thead>\n",
       "    <tr style=\"text-align: right;\">\n",
       "      <th></th>\n",
       "      <th>A</th>\n",
       "      <th>B</th>\n",
       "      <th>Mean Euler Char</th>\n",
       "    </tr>\n",
       "  </thead>\n",
       "  <tbody>\n",
       "    <tr>\n",
       "      <th>0</th>\n",
       "      <td>-inf</td>\n",
       "      <td>0.000028</td>\n",
       "      <td>0.00</td>\n",
       "    </tr>\n",
       "    <tr>\n",
       "      <th>1</th>\n",
       "      <td>0.000028</td>\n",
       "      <td>0.000084</td>\n",
       "      <td>0.01</td>\n",
       "    </tr>\n",
       "    <tr>\n",
       "      <th>2</th>\n",
       "      <td>0.000084</td>\n",
       "      <td>0.000137</td>\n",
       "      <td>0.02</td>\n",
       "    </tr>\n",
       "    <tr>\n",
       "      <th>3</th>\n",
       "      <td>0.000137</td>\n",
       "      <td>0.000159</td>\n",
       "      <td>0.03</td>\n",
       "    </tr>\n",
       "    <tr>\n",
       "      <th>4</th>\n",
       "      <td>0.000159</td>\n",
       "      <td>0.000212</td>\n",
       "      <td>0.04</td>\n",
       "    </tr>\n",
       "    <tr>\n",
       "      <th>...</th>\n",
       "      <td>...</td>\n",
       "      <td>...</td>\n",
       "      <td>...</td>\n",
       "    </tr>\n",
       "    <tr>\n",
       "      <th>8343</th>\n",
       "      <td>0.997954</td>\n",
       "      <td>0.998109</td>\n",
       "      <td>-1.04</td>\n",
       "    </tr>\n",
       "    <tr>\n",
       "      <th>8344</th>\n",
       "      <td>0.998109</td>\n",
       "      <td>0.998805</td>\n",
       "      <td>-1.03</td>\n",
       "    </tr>\n",
       "    <tr>\n",
       "      <th>8345</th>\n",
       "      <td>0.998805</td>\n",
       "      <td>0.999601</td>\n",
       "      <td>-1.02</td>\n",
       "    </tr>\n",
       "    <tr>\n",
       "      <th>8346</th>\n",
       "      <td>0.999601</td>\n",
       "      <td>0.999731</td>\n",
       "      <td>-1.01</td>\n",
       "    </tr>\n",
       "    <tr>\n",
       "      <th>8347</th>\n",
       "      <td>0.999731</td>\n",
       "      <td>inf</td>\n",
       "      <td>-1.00</td>\n",
       "    </tr>\n",
       "  </tbody>\n",
       "</table>\n",
       "<p>8348 rows × 3 columns</p>\n",
       "</div>"
      ],
      "text/plain": [
       "             A         B  Mean Euler Char\n",
       "0         -inf  0.000028             0.00\n",
       "1     0.000028  0.000084             0.01\n",
       "2     0.000084  0.000137             0.02\n",
       "3     0.000137  0.000159             0.03\n",
       "4     0.000159  0.000212             0.04\n",
       "...        ...       ...              ...\n",
       "8343  0.997954  0.998109            -1.04\n",
       "8344  0.998109  0.998805            -1.03\n",
       "8345  0.998805  0.999601            -1.02\n",
       "8346  0.999601  0.999731            -1.01\n",
       "8347  0.999731       inf            -1.00\n",
       "\n",
       "[8348 rows x 3 columns]"
      ]
     },
     "execution_count": 6,
     "metadata": {},
     "output_type": "execute_result"
    }
   ],
   "source": [
    "mpe = calculate_mean_perisstent_euler(persistent_euler_chars)\n",
    "mpe"
   ]
  },
  {
   "cell_type": "code",
   "execution_count": 7,
   "id": "e19e535e",
   "metadata": {},
   "outputs": [
    {
     "data": {
      "image/png": "[encoded data removed]",
      "text/plain": [
       "<Figure size 864x576 with 1 Axes>"
      ]
     },
     "metadata": {
      "needs_background": "light"
     },
     "output_type": "display_data"
    }
   ],
   "source": [
    "x = np.arange(0, 1.001, 0.001)\n",
    "y = df_func(x, mpe)\n",
    "\n",
    "plt.figure(figsize=(12, 8))\n",
    "plt.title('Splitting the torus by {0}x{0} cubical cells'.format(n))\n",
    "plt.plot(x, y, color='indigo', linewidth=2, label='Empiric Euler Characteristics')\n",
    "\n",
    "labels = ['Mean 1st 0-dim giant cycle birth', \n",
    "          'Mean 1st 1-dim giant cycle birth', \n",
    "          'Mean 2nd 1-dim giant cycle birth']\n",
    "colormap = cm['winter']\n",
    "for i in range(3):\n",
    "    plt.scatter(np.mean(giant_cycle_births, axis=0)[i], 0, color=colormap(i/2), label=labels[i], linewidth=4)\n",
    "\n",
    "plt.grid(True)\n",
    "plt.legend()\n",
    "plt.show()"
   ]
  },
  {
   "cell_type": "markdown",
   "id": "798d8dfb",
   "metadata": {},
   "source": [
    "# Hexagons on 2d torus"
   ]
  },
  {
   "cell_type": "code",
   "execution_count": 8,
   "id": "4d744240",
   "metadata": {},
   "outputs": [
    {
     "data": {
      "application/vnd.jupyter.widget-view+json": {
       "model_id": "73da0ecb9b294c47a508dc510c76a673",
       "version_major": 2,
       "version_minor": 0
      },
      "text/plain": [
       "  0%|          | 0/100 [00:00<?, ?it/s]"
      ]
     },
     "metadata": {},
     "output_type": "display_data"
    }
   ],
   "source": [
    "fc = tessellations.get_hexagonal_tessolation_on_torus2d(n)\n",
    "\n",
    "giant_cycle_births = np.zeros([0, 3])\n",
    "persistent_euler_chars = []\n",
    "\n",
    "bar0 = tqdm(total=experiments)\n",
    "for i in range(experiments):\n",
    "    fc.set_filtration(np.random.random(n**2))\n",
    "    fc.initialize_complex()\n",
    "    gb = fc.get_giant_cycles()\n",
    "    if list(gb['Dimension']) == [0, 1, 1]:\n",
    "        giant_cycle_births = np.concatenate([giant_cycle_births, gb['Birth'].values.reshape([1, 3])])\n",
    "    else:\n",
    "        print('Oups! Something is wrong:')\n",
    "        fc.draw_filtration()\n",
    "        print('Giant cycles birth table looks like\\n{0}'.format(gb))\n",
    "        raise ValueError()\n",
    "    persistent_euler_chars.append(fc.persistent_euler())\n",
    "    bar0.update()\n",
    "bar0.close()"
   ]
  },
  {
   "cell_type": "code",
   "execution_count": 9,
   "id": "31fc991c",
   "metadata": {},
   "outputs": [
    {
     "data": {
      "application/vnd.jupyter.widget-view+json": {
       "model_id": "7fea7408fa9040ed8404cfe1dc3e4fc3",
       "version_major": 2,
       "version_minor": 0
      },
      "text/plain": [
       "  0%|          | 0/7976 [00:00<?, ?it/s]"
      ]
     },
     "metadata": {},
     "output_type": "display_data"
    },
    {
     "data": {
      "application/vnd.jupyter.widget-view+json": {
       "model_id": "c181060cd6714ff8b733193dfc7417fa",
       "version_major": 2,
       "version_minor": 0
      },
      "text/plain": [
       "  0%|          | 0/100 [00:00<?, ?it/s]"
      ]
     },
     "metadata": {},
     "output_type": "display_data"
    },
    {
     "data": {
      "application/vnd.jupyter.widget-view+json": {
       "model_id": "801829a723fa4444adddcf10be76f9f7",
       "version_major": 2,
       "version_minor": 0
      },
      "text/plain": [
       "  0%|          | 0/7976 [00:00<?, ?it/s]"
      ]
     },
     "metadata": {},
     "output_type": "display_data"
    },
    {
     "data": {
      "text/html": [
       "<div>\n",
       "<style scoped>\n",
       "    .dataframe tbody tr th:only-of-type {\n",
       "        vertical-align: middle;\n",
       "    }\n",
       "\n",
       "    .dataframe tbody tr th {\n",
       "        vertical-align: top;\n",
       "    }\n",
       "\n",
       "    .dataframe thead th {\n",
       "        text-align: right;\n",
       "    }\n",
       "</style>\n",
       "<table border=\"1\" class=\"dataframe\">\n",
       "  <thead>\n",
       "    <tr style=\"text-align: right;\">\n",
       "      <th></th>\n",
       "      <th>A</th>\n",
       "      <th>B</th>\n",
       "      <th>Mean Euler Char</th>\n",
       "    </tr>\n",
       "  </thead>\n",
       "  <tbody>\n",
       "    <tr>\n",
       "      <th>0</th>\n",
       "      <td>-inf</td>\n",
       "      <td>0.000030</td>\n",
       "      <td>0.00</td>\n",
       "    </tr>\n",
       "    <tr>\n",
       "      <th>1</th>\n",
       "      <td>0.000030</td>\n",
       "      <td>0.000128</td>\n",
       "      <td>0.01</td>\n",
       "    </tr>\n",
       "    <tr>\n",
       "      <th>2</th>\n",
       "      <td>0.000128</td>\n",
       "      <td>0.000158</td>\n",
       "      <td>0.02</td>\n",
       "    </tr>\n",
       "    <tr>\n",
       "      <th>3</th>\n",
       "      <td>0.000158</td>\n",
       "      <td>0.000161</td>\n",
       "      <td>0.03</td>\n",
       "    </tr>\n",
       "    <tr>\n",
       "      <th>4</th>\n",
       "      <td>0.000161</td>\n",
       "      <td>0.000162</td>\n",
       "      <td>0.04</td>\n",
       "    </tr>\n",
       "    <tr>\n",
       "      <th>...</th>\n",
       "      <td>...</td>\n",
       "      <td>...</td>\n",
       "      <td>...</td>\n",
       "    </tr>\n",
       "    <tr>\n",
       "      <th>7971</th>\n",
       "      <td>0.996617</td>\n",
       "      <td>0.996681</td>\n",
       "      <td>-1.04</td>\n",
       "    </tr>\n",
       "    <tr>\n",
       "      <th>7972</th>\n",
       "      <td>0.996681</td>\n",
       "      <td>0.997146</td>\n",
       "      <td>-1.03</td>\n",
       "    </tr>\n",
       "    <tr>\n",
       "      <th>7973</th>\n",
       "      <td>0.997146</td>\n",
       "      <td>0.998161</td>\n",
       "      <td>-1.02</td>\n",
       "    </tr>\n",
       "    <tr>\n",
       "      <th>7974</th>\n",
       "      <td>0.998161</td>\n",
       "      <td>0.999580</td>\n",
       "      <td>-1.01</td>\n",
       "    </tr>\n",
       "    <tr>\n",
       "      <th>7975</th>\n",
       "      <td>0.999580</td>\n",
       "      <td>inf</td>\n",
       "      <td>-1.00</td>\n",
       "    </tr>\n",
       "  </tbody>\n",
       "</table>\n",
       "<p>7976 rows × 3 columns</p>\n",
       "</div>"
      ],
      "text/plain": [
       "             A         B  Mean Euler Char\n",
       "0         -inf  0.000030             0.00\n",
       "1     0.000030  0.000128             0.01\n",
       "2     0.000128  0.000158             0.02\n",
       "3     0.000158  0.000161             0.03\n",
       "4     0.000161  0.000162             0.04\n",
       "...        ...       ...              ...\n",
       "7971  0.996617  0.996681            -1.04\n",
       "7972  0.996681  0.997146            -1.03\n",
       "7973  0.997146  0.998161            -1.02\n",
       "7974  0.998161  0.999580            -1.01\n",
       "7975  0.999580       inf            -1.00\n",
       "\n",
       "[7976 rows x 3 columns]"
      ]
     },
     "execution_count": 9,
     "metadata": {},
     "output_type": "execute_result"
    }
   ],
   "source": [
    "mpe = calculate_mean_perisstent_euler(persistent_euler_chars)\n",
    "mpe"
   ]
  },
  {
   "cell_type": "code",
   "execution_count": 12,
   "id": "1004cd4d",
   "metadata": {},
   "outputs": [
    {
     "data": {
      "image/png": "[encoded data removed]",
      "text/plain": [
       "<Figure size 864x576 with 1 Axes>"
      ]
     },
     "metadata": {
      "needs_background": "light"
     },
     "output_type": "display_data"
    }
   ],
   "source": [
    "x = np.arange(0, 1.001, 0.001)\n",
    "y = df_func(x, mpe)\n",
    "\n",
    "plt.figure(figsize=(12, 8))\n",
    "plt.title('Splitting the torus by {0}x{0} hexagonal cells'.format(n))\n",
    "plt.plot(x, y, color='indigo', linewidth=2, label='Empiric Euler Characteristics')\n",
    "\n",
    "labels = ['Mean 1st 0-dim giant cycle birth', \n",
    "          'Mean 1st 1-dim giant cycle birth', \n",
    "          'Mean 2nd 1-dim giant cycle birth']\n",
    "colormap = cm['winter']\n",
    "for i in range(3):\n",
    "    plt.scatter(np.mean(giant_cycle_births, axis=0)[i], 0, color=colormap(i/2), label=labels[i], linewidth=4)\n",
    "\n",
    "plt.grid(True)\n",
    "plt.legend()\n",
    "plt.show()"
   ]
  },
  {
   "cell_type": "code",
   "execution_count": null,
   "id": "cb1178d5",
   "metadata": {},
   "outputs": [],
   "source": []
  }
 ],
 "metadata": {
  "kernelspec": {
   "display_name": "Python 3 (ipykernel)",
   "language": "python",
   "name": "python3"
  },
  "language_info": {
   "codemirror_mode": {
    "name": "ipython",
    "version": 3
   },
   "file_extension": ".py",
   "mimetype": "text/x-python",
   "name": "python",
   "nbconvert_exporter": "python",
   "pygments_lexer": "ipython3",
   "version": "3.10.8"
  }
 },
 "nbformat": 4,
 "nbformat_minor": 5
}
