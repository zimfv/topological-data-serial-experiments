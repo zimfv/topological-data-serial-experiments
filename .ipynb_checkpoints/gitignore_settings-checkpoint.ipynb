{
 "cells": [
  {
   "cell_type": "code",
   "execution_count": 1,
   "id": "c4734a7f",
   "metadata": {},
   "outputs": [],
   "source": [
    "import numpy as np"
   ]
  },
  {
   "cell_type": "code",
   "execution_count": 2,
   "id": "361d0c06",
   "metadata": {},
   "outputs": [],
   "source": [
    "ignore = []"
   ]
  },
  {
   "cell_type": "markdown",
   "id": "fb818acc",
   "metadata": {},
   "source": [
    "# lab_cubical_tessellation_on_torus3d_aggregated"
   ]
  },
  {
   "cell_type": "code",
   "execution_count": 3,
   "id": "48c9bc32",
   "metadata": {},
   "outputs": [],
   "source": [
    "ignore_template = '/lab-results/lab_cubical_tessellation_on_torus3d_aggregated/size{0}.csv'\n",
    "ignore_vals = np.arange(32, 70)\n",
    "ignore_that = [ignore_template.format(i) for i in ignore_vals]\n",
    "ignore = np.concatenate([ignore, ignore_that])"
   ]
  },
  {
   "cell_type": "markdown",
   "id": "f402e150",
   "metadata": {},
   "source": [
    "# lab_cubical_tessellation_on_torus3d_aggregated"
   ]
  },
  {
   "cell_type": "code",
   "execution_count": 4,
   "id": "ffbc86e7",
   "metadata": {},
   "outputs": [],
   "source": [
    "ignore_template = 'lab-results/lab_voronoiD3_tessellation_on_torus3d_aggregated/size{0}.csv'\n",
    "ignore_vals = np.arange(21, 28)\n",
    "ignore_that = [ignore_template.format(i) for i in ignore_vals]\n",
    "ignore = np.concatenate([ignore, ignore_that])"
   ]
  },
  {
   "cell_type": "markdown",
   "id": "1e7d0255",
   "metadata": {},
   "source": [
    "# create .gitignore"
   ]
  },
  {
   "cell_type": "code",
   "execution_count": 5,
   "id": "7f11c430",
   "metadata": {},
   "outputs": [],
   "source": [
    "ignore_str = ''.join(np.char.add(ignore, '\\n'))\n",
    "with open('.gitignore', 'w') as file:\n",
    "    file.write(ignore_str)"
   ]
  },
  {
   "cell_type": "code",
   "execution_count": null,
   "id": "55907a5d",
   "metadata": {},
   "outputs": [],
   "source": []
  }
 ],
 "metadata": {
  "kernelspec": {
   "display_name": "Python 3 (ipykernel)",
   "language": "python",
   "name": "python3"
  },
  "language_info": {
   "codemirror_mode": {
    "name": "ipython",
    "version": 3
   },
   "file_extension": ".py",
   "mimetype": "text/x-python",
   "name": "python",
   "nbconvert_exporter": "python",
   "pygments_lexer": "ipython3",
   "version": "3.10.8"
  }
 },
 "nbformat": 4,
 "nbformat_minor": 5
}
