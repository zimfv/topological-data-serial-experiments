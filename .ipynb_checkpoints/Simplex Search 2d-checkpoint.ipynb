{
 "cells": [
  {
   "cell_type": "code",
   "execution_count": 1,
   "id": "894b7862",
   "metadata": {},
   "outputs": [],
   "source": [
    "import numpy as np\n",
    "import pandas as pd\n",
    "import matplotlib.pyplot as plt\n",
    "import itertools"
   ]
  },
  {
   "cell_type": "markdown",
   "id": "640d0fc2",
   "metadata": {},
   "source": [
    "# Gen some data"
   ]
  },
  {
   "cell_type": "code",
   "execution_count": 2,
   "id": "fd03db79",
   "metadata": {},
   "outputs": [
    {
     "data": {
      "image/png": "[encoded data removed]",
      "text/plain": [
       "<Figure size 576x576 with 1 Axes>"
      ]
     },
     "metadata": {
      "needs_background": "light"
     },
     "output_type": "display_data"
    }
   ],
   "source": [
    "data_dim = 2\n",
    "data_count = 8\n",
    "data = np.random.randint(data_count, size=(data_count, data_dim))\n",
    "data = np.unique(data, axis=0)\n",
    "sample = 'randint'\n",
    "\n",
    "data = np.random.normal(size=(data_count, data_dim))\n",
    "sample = 'normal'\n",
    "\n",
    "plt.figure(figsize=(8, 8))\n",
    "plt.scatter(data[:, 0], data[:, 1], color='indigo', linewidth=8)\n",
    "plt.grid(True)\n",
    "plt.show()"
   ]
  },
  {
   "cell_type": "markdown",
   "id": "2a5f93df",
   "metadata": {},
   "source": [
    "# Search 2-dim simplex info"
   ]
  },
  {
   "cell_type": "code",
   "execution_count": 3,
   "id": "4f3291b7",
   "metadata": {},
   "outputs": [],
   "source": [
    "def get_edges_radiuses(data, norm=np.linalg.norm):\n",
    "    \"\"\"\n",
    "    Returns radiuses, which are half of distance between verticies\n",
    "    \n",
    "    Parameters:\n",
    "    -------\n",
    "    data : np.2darray\n",
    "        Income data, array of verticies.\n",
    "    \n",
    "    norm : function\n",
    "        Matrix or vector norm.\n",
    "    \n",
    "    Returns:\n",
    "    --------\n",
    "    res : Dictionary\n",
    "        Keys are radiuses, values are lists of vertex pairs.\n",
    "    \"\"\"\n",
    "    distance = data*np.ones([data.shape[0], data.shape[0], data.shape[1]])\n",
    "    distance = distance - np.transpose(distance, axes=(1, 0, 2))\n",
    "    distance = norm(distance, axis=2)\n",
    "    diameters = np.unique(distance[distance!= 0])\n",
    "    \n",
    "    res = {}\n",
    "    for d in diameters:\n",
    "        r = 0.5*d\n",
    "        res.update({r : np.where(np.triu(distance) == d)})\n",
    "        res[r] = list(np.array(res[r]).transpose())\n",
    "        res[r] = [tuple(i) for i in res[r]]\n",
    "    return res"
   ]
  },
  {
   "cell_type": "code",
   "execution_count": 4,
   "id": "5b8e3d00",
   "metadata": {},
   "outputs": [],
   "source": [
    "def get_edges(data, norm=np.linalg.norm):\n",
    "    \"\"\"\n",
    "    Returns dict: keys are vertex pairs? values are halfs of lengths.\n",
    "    \n",
    "    Parameters:\n",
    "    -------\n",
    "    data : np.2darray\n",
    "        Income data, array of verticies.\n",
    "    \n",
    "    norm : function\n",
    "        Matrix or vector norm.\n",
    "    \n",
    "    Returns:\n",
    "    --------\n",
    "        res : Dictionary\n",
    "    \"\"\"\n",
    "    res = {}\n",
    "    for i in itertools.combinations(np.arange(len(data)), 2):\n",
    "        a, b = data[[i]]\n",
    "        res.update({tuple(i) : {'radius' : 0.5*norm(a - b)}})\n",
    "    return res"
   ]
  },
  {
   "cell_type": "markdown",
   "id": "13e34db5",
   "metadata": {},
   "source": [
    "# Search 3-dim simplex info"
   ]
  },
  {
   "cell_type": "code",
   "execution_count": 5,
   "id": "f9f0f775",
   "metadata": {},
   "outputs": [],
   "source": [
    "def get_triangle_radius(a, b, c, norm=np.linalg.norm):\n",
    "    \"\"\"\n",
    "    Returns radius of circumscribed circle of triangle.\n",
    "    \n",
    "    Parameters:\n",
    "    -------\n",
    "    a : np.ndarray\n",
    "        Vertex\n",
    "        \n",
    "    b : np.ndarray\n",
    "        Vertex\n",
    "        \n",
    "    c : np.ndarray\n",
    "        Vertex\n",
    "    \n",
    "    scalar : function\n",
    "        Dot product of two arrays.\n",
    "    \n",
    "    norm : function\n",
    "        Matrix or vector norm.\n",
    "    \n",
    "    Returns:\n",
    "    --------\n",
    "    r : float\n",
    "        Radius.\n",
    "    \"\"\"\n",
    "    al = norm(a-b)\n",
    "    bl = norm(b-c)\n",
    "    cl = norm(c-a)\n",
    "    p = 0.5*(al+bl+cl)\n",
    "    top = al*bl*cl\n",
    "    bot = 4 * np.sqrt(p*(p-al)*(p-bl)*(p-cl))\n",
    "    r = top/bot\n",
    "    return r"
   ]
  },
  {
   "cell_type": "code",
   "execution_count": 6,
   "id": "d1d8a1da",
   "metadata": {},
   "outputs": [],
   "source": [
    "def get_triangle_center(a, b, c):\n",
    "    \"\"\"\n",
    "    Returns center of circumscribed circle of triangle.\n",
    "    \n",
    "    Parameters:\n",
    "    -------\n",
    "    a : np.ndarray\n",
    "        Vertex\n",
    "        \n",
    "    b : np.ndarray\n",
    "        Vertex\n",
    "        \n",
    "    c : np.ndarray\n",
    "        Vertex\n",
    "    \n",
    "    Returns:\n",
    "    --------\n",
    "    v : np.ndarray\n",
    "        Center.\n",
    "    \"\"\"\n",
    "    # Будем исходить из того, что точки - двумерные\n",
    "    # Центром описанной около треугольника окружности является точка, в которой \n",
    "    # пересекаются все серединные перпендикуляры, проведённые к сторонам треугольника.\n",
    "    m = []\n",
    "    l = []\n",
    "    for i in itertools.combinations([a, b, c], 2):\n",
    "        va = i[0]\n",
    "        vb = i[1]\n",
    "        m.append(va - vb)\n",
    "        l.append(0.5*((va+vb)*(va-vb)).sum())\n",
    "    m = np.array(m)\n",
    "    l = np.array(l)\n",
    "    v = np.linalg.solve(m[:-1], l[:-1])\n",
    "    return v"
   ]
  },
  {
   "cell_type": "code",
   "execution_count": 7,
   "id": "17cea113",
   "metadata": {},
   "outputs": [],
   "source": [
    "def point_in_triangle(a, b, c, p):\n",
    "    \"\"\"\n",
    "    Returns True if point p is in triangle abc.\n",
    "    \n",
    "    Parameters:\n",
    "    -----------\n",
    "    a : np.ndarray\n",
    "        Vertex\n",
    "        \n",
    "    b : np.ndarray\n",
    "        Vertex\n",
    "        \n",
    "    c : np.ndarray\n",
    "        Vertex\n",
    "    \n",
    "    o : np.ndarray\n",
    "        Vertex\n",
    "        \n",
    "    Returns:\n",
    "    --------\n",
    "        g : bool\n",
    "    \n",
    "    \"\"\"\n",
    "    # Будем исходить из того, что точки - двумерные\n",
    "    g = True\n",
    "    for i in itertools.permutations([a, b, c], 3):\n",
    "        va, vb, vc = i\n",
    "        f = lambda x: ((x-va)*(vb-va)).sum()\n",
    "        if f(p)*f(vc) < 0:\n",
    "            g = False\n",
    "            break\n",
    "    return g"
   ]
  },
  {
   "cell_type": "code",
   "execution_count": 8,
   "id": "1c1bec71",
   "metadata": {},
   "outputs": [
    {
     "name": "stdout",
     "output_type": "stream",
     "text": [
      "A: [0.2471876  0.13716279] \n",
      "B: [-1.38891571 -0.61412067] \n",
      "C: [ 1.62553124 -1.0406517 ] \n",
      "\n",
      "R: 1.6771738903164866\n",
      "O: [ 0.0196682  -1.52450721] \n",
      "\n",
      "O is in ABC: False\n"
     ]
    },
    {
     "data": {
      "image/png": "[encoded data removed]",
      "text/plain": [
       "<Figure size 432x432 with 1 Axes>"
      ]
     },
     "metadata": {
      "needs_background": "light"
     },
     "output_type": "display_data"
    }
   ],
   "source": [
    "a, b, c = data[[0, 1, 2]]\n",
    "print('A:', a, '\\nB:', b, '\\nC:', c, '\\n')\n",
    "print('R:', get_triangle_radius(a, b, c))\n",
    "print('O:', get_triangle_center(a, b, c), '\\n')\n",
    "\n",
    "o = get_triangle_center(a, b, c)\n",
    "print('O is in ABC:', point_in_triangle(a, b, c, o))\n",
    "\n",
    "plt.figure(figsize=(6, 6))\n",
    "plt.scatter(a[0], a[1], color='indigo', linewidth=8)\n",
    "plt.scatter(b[0], b[1], color='indigo', linewidth=8)\n",
    "plt.scatter(c[0], c[1], color='indigo', linewidth=8)\n",
    "plt.scatter(o[0], o[1], color='orchid', linewidth=8)\n",
    "plt.plot([a[0], b[0], c[0], a[0]], [a[1], b[1], c[1], a[1]], linewidth=2, color='steelblue')\n",
    "plt.grid(True)\n",
    "plt.show()"
   ]
  },
  {
   "cell_type": "code",
   "execution_count": 9,
   "id": "2a86ff8a",
   "metadata": {},
   "outputs": [],
   "source": [
    "def get_triangles(data, norm=np.linalg.norm):\n",
    "    \"\"\"\n",
    "    Returns dict: keys are triples of indices, values are dicts contains radius and center \n",
    "    \n",
    "    Parameters:\n",
    "    -----------\n",
    "    data : np.2darray\n",
    "        Income data, array of verticies.\n",
    "    \n",
    "    norm : function\n",
    "        Matrix or vector norm.\n",
    "    \n",
    "    Returns:\n",
    "    --------\n",
    "    res : Dictionary\n",
    "    \"\"\"\n",
    "    res = {}\n",
    "    for i in itertools.combinations(np.arange(len(data)), 3):\n",
    "        a, b, c = data[[i]]\n",
    "        res.update({tuple(i) : {'radius' : get_triangle_radius(a, b, c, norm), 'center' : get_triangle_center(a, b, c)}})\n",
    "    return res"
   ]
  },
  {
   "cell_type": "markdown",
   "id": "6d6b0c20",
   "metadata": {},
   "source": [
    "# Radius research"
   ]
  },
  {
   "cell_type": "code",
   "execution_count": 10,
   "id": "78ae5529",
   "metadata": {},
   "outputs": [],
   "source": [
    "def copy_dict(d):\n",
    "    \"\"\"\n",
    "    Returns copy of dictionary.\n",
    "    \n",
    "    Parameters:\n",
    "    -----------\n",
    "    d : dict\n",
    "    \n",
    "    Returns:\n",
    "    --------\n",
    "    r : dict\n",
    "    \"\"\"\n",
    "    r = {}\n",
    "    for key in d.keys():\n",
    "        if type(d[key]) == dict:\n",
    "            r.update({key : copy_dict(d[key])})\n",
    "        else:\n",
    "            try:\n",
    "                r.update({key : d[key].copy()})\n",
    "            except AttributeError:\n",
    "                r.update({key : d[key]})\n",
    "    return r"
   ]
  },
  {
   "cell_type": "code",
   "execution_count": 11,
   "id": "8e1eadb5",
   "metadata": {},
   "outputs": [],
   "source": [
    "def sort_dict(d):\n",
    "    \"\"\"\n",
    "    Sort dict keys.\n",
    "    \n",
    "    Parameters:\n",
    "    -----------\n",
    "        d : dict\n",
    "        \n",
    "    Returns:\n",
    "    --------\n",
    "        r : dict\n",
    "    \"\"\"\n",
    "    r = {}\n",
    "    for key in np.sort(list(d.keys())):\n",
    "        r.update({key : d[key]})\n",
    "    return r"
   ]
  },
  {
   "cell_type": "code",
   "execution_count": 12,
   "id": "23f03f2d",
   "metadata": {},
   "outputs": [],
   "source": [
    "def get_radius_data_2d(data, norm=np.linalg.norm):\n",
    "    \"\"\"\n",
    "    Returns dict: keys are radiuses.\n",
    "    \n",
    "    Parameters:\n",
    "    -----------\n",
    "    data : np.2darray\n",
    "        Income data, array of verticies.\n",
    "    \n",
    "    norm : function\n",
    "        Matrix or vector norm.\n",
    "    \n",
    "    Returns:\n",
    "    --------\n",
    "        res : Dictionary\n",
    "    --------\n",
    "    \"\"\"\n",
    "    res = {0 : {'edges' : [], 'triangles' : [], 'centers' : []}}\n",
    "    edges = get_edges(data, norm)\n",
    "    for edge in edges:\n",
    "        radius = edges[edge]['radius']\n",
    "        try:\n",
    "            res[radius]['edges'].append(edge)\n",
    "        except KeyError:\n",
    "            res.update({radius : {'edges' : [edge], 'triangles' : [], 'centers' : []}})\n",
    "    triangles = get_triangles(data, norm)\n",
    "    for triangle in triangles:\n",
    "        radius = triangles[triangle]['radius']\n",
    "        center = triangles[triangle]['center']\n",
    "        try:\n",
    "            res[radius]['triangles'].append(triangle)\n",
    "            res[radius]['centers'].append(center)\n",
    "        except KeyError:\n",
    "            res.update({radius : {'edges' : [], 'triangles' : [triangle], 'centers' : [center]}})\n",
    "    res = sort_dict(res)\n",
    "    return res"
   ]
  },
  {
   "cell_type": "markdown",
   "id": "221424d0",
   "metadata": {},
   "source": [
    "# Check simplex status"
   ]
  },
  {
   "cell_type": "code",
   "execution_count": 13,
   "id": "fc4722ce",
   "metadata": {},
   "outputs": [],
   "source": [
    "# Stolen directly from https://web.archive.org/web/20111108065352/https://www.cs.mun.ca/~rod/2500/notes/numpy-arrays/numpy-arrays.html\n",
    "def perp(a):\n",
    "    b = np.empty_like(a)\n",
    "    b[0] = -a[1]\n",
    "    b[1] = a[0]\n",
    "    return b\n",
    "\n",
    "def seg_intersect(a1, a2, b1, b2):\n",
    "    da = a2-a1\n",
    "    db = b2-b1\n",
    "    dp = a1-b1\n",
    "    dap = perp(da)\n",
    "    denom = np.dot( dap, db)\n",
    "    num = np.dot( dap, dp )\n",
    "    return (num / denom.astype(float))*db + b1\n",
    "\n",
    "def seg_intersect_bool(a1, a2, b1, b2):\n",
    "    c = seg_intersect(a1, a2, b1, b2)\n",
    "    ga = ((c - a1)*(a2 - c) > 0).all()\n",
    "    gb = ((c - b1)*(b2 - c) > 0).all()\n",
    "    return ga and gb"
   ]
  },
  {
   "cell_type": "code",
   "execution_count": 14,
   "id": "b06fd9f5",
   "metadata": {},
   "outputs": [],
   "source": [
    "def edge_is_new(data, edge, old=[]):\n",
    "    \"\"\"\n",
    "    \n",
    "    \"\"\"\n",
    "    g = True\n",
    "    a0, a1 = data[[edge]]\n",
    "    for b in old:\n",
    "        b0, b1 = data[[b]]\n",
    "        if seg_intersect_bool(a1, a2, b1, b2):\n",
    "            g = False\n",
    "            break\n",
    "    return g"
   ]
  },
  {
   "cell_type": "code",
   "execution_count": null,
   "id": "f87ec84c",
   "metadata": {},
   "outputs": [],
   "source": []
  },
  {
   "cell_type": "code",
   "execution_count": null,
   "id": "162f4184",
   "metadata": {},
   "outputs": [],
   "source": []
  },
  {
   "cell_type": "code",
   "execution_count": 28,
   "id": "4aba5157",
   "metadata": {},
   "outputs": [],
   "source": [
    "def get_list(d, border, key):\n",
    "    d_keys = np.array(list(d.keys()))\n",
    "    d_keys = d_keys[d_keys < border]\n",
    "    res = []\n",
    "    for d_key in d_keys:\n",
    "        res.extend(d[d_key][key])\n",
    "    return res"
   ]
  },
  {
   "cell_type": "code",
   "execution_count": 29,
   "id": "20572747",
   "metadata": {},
   "outputs": [
    {
     "name": "stderr",
     "output_type": "stream",
     "text": [
      "/tmp/ipykernel_12958/3234434522.py:19: FutureWarning: Using a non-tuple sequence for multidimensional indexing is deprecated; use `arr[tuple(seq)]` instead of `arr[seq]`. In the future this will be interpreted as an array index, `arr[np.array(seq)]`, which will result either in an error or a different result.\n",
      "  a, b = data[[i]]\n"
     ]
    },
    {
     "data": {
      "text/plain": [
       "[(4, 6), (0, 4), (0, 6)]"
      ]
     },
     "execution_count": 29,
     "metadata": {},
     "output_type": "execute_result"
    }
   ],
   "source": [
    "get_list(get_radius_data_2d(data), 0.5, 'edges')"
   ]
  },
  {
   "cell_type": "code",
   "execution_count": 20,
   "id": "55afce0b",
   "metadata": {},
   "outputs": [],
   "source": [
    "def radius_spaces(data, norm=np.linalg.norm):\n",
    "    radiuses = get_radius_data_2d(data)\n",
    "    res = {}\n",
    "    \n",
    "    return res"
   ]
  },
  {
   "cell_type": "code",
   "execution_count": 21,
   "id": "ddddc8e8",
   "metadata": {},
   "outputs": [
    {
     "name": "stderr",
     "output_type": "stream",
     "text": [
      "/tmp/ipykernel_12958/3234434522.py:19: FutureWarning: Using a non-tuple sequence for multidimensional indexing is deprecated; use `arr[tuple(seq)]` instead of `arr[seq]`. In the future this will be interpreted as an array index, `arr[np.array(seq)]`, which will result either in an error or a different result.\n",
      "  a, b = data[[i]]\n"
     ]
    },
    {
     "data": {
      "text/plain": [
       "{}"
      ]
     },
     "execution_count": 21,
     "metadata": {},
     "output_type": "execute_result"
    }
   ],
   "source": [
    "radius_spaces(data)"
   ]
  },
  {
   "cell_type": "code",
   "execution_count": null,
   "id": "b338ad5c",
   "metadata": {},
   "outputs": [],
   "source": []
  }
 ],
 "metadata": {
  "kernelspec": {
   "display_name": "Python 3 (ipykernel)",
   "language": "python",
   "name": "python3"
  },
  "language_info": {
   "codemirror_mode": {
    "name": "ipython",
    "version": 3
   },
   "file_extension": ".py",
   "mimetype": "text/x-python",
   "name": "python",
   "nbconvert_exporter": "python",
   "pygments_lexer": "ipython3",
   "version": "3.10.2"
  }
 },
 "nbformat": 4,
 "nbformat_minor": 5
}
