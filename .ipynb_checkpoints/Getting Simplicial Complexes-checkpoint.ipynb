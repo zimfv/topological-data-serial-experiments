{
 "cells": [
  {
   "cell_type": "code",
   "execution_count": 1,
   "id": "a989140e",
   "metadata": {},
   "outputs": [],
   "source": [
    "import numpy as np\n",
    "import matplotlib.pyplot as plt\n",
    "from itertools import combinations, permutations, product\n",
    "from package.saveload import *"
   ]
  },
  {
   "cell_type": "markdown",
   "id": "6abd08c6",
   "metadata": {},
   "source": [
    "# Cube"
   ]
  },
  {
   "cell_type": "code",
   "execution_count": 2,
   "id": "73be190d",
   "metadata": {},
   "outputs": [
    {
     "data": {
      "text/plain": [
       "array([[0, 0, 0],\n",
       "       [0, 0, 1],\n",
       "       [0, 1, 0],\n",
       "       [0, 1, 1],\n",
       "       [1, 0, 0],\n",
       "       [1, 0, 1],\n",
       "       [1, 1, 0],\n",
       "       [1, 1, 1]])"
      ]
     },
     "execution_count": 2,
     "metadata": {},
     "output_type": "execute_result"
    }
   ],
   "source": [
    "vertices = np.array(list(product([0, 1], repeat=3)))\n",
    "vertices"
   ]
  },
  {
   "cell_type": "code",
   "execution_count": 3,
   "id": "9a2fa147",
   "metadata": {},
   "outputs": [],
   "source": [
    "polygons = np.array([[[0, 0, 0], [1, 0, 0], [0, 1, 0], [0, 0, 1]], \n",
    "                     [[1, 0, 0], [0, 1, 0], [0, 0, 1], [1, 1, 0]], \n",
    "                     [[0, 1, 0], [0, 0, 1], [0, 1, 1], [1, 1, 0]], \n",
    "                     [[1, 0, 0], [0, 0, 1], [1, 0, 1], [1, 1, 0]], \n",
    "                     [[0, 0, 1], [0, 1, 1], [1, 1, 0], [1, 0, 1]], \n",
    "                     [[1, 1, 1], [0, 1, 1], [1, 0, 1], [1, 1, 0]]])"
   ]
  },
  {
   "cell_type": "code",
   "execution_count": 4,
   "id": "9c810216",
   "metadata": {},
   "outputs": [],
   "source": [
    "filename = \"package/simplicial-representations/cube3d.csv\"\n",
    "save(polygons, filename)\n",
    "assert(load(filename) == polygons).all()"
   ]
  },
  {
   "cell_type": "markdown",
   "id": "399ca77e",
   "metadata": {},
   "source": [
    "# Rhombic dodecahedron"
   ]
  },
  {
   "cell_type": "code",
   "execution_count": 5,
   "id": "1c3621a6",
   "metadata": {},
   "outputs": [],
   "source": [
    "polygons = np.array([[[-1,  0,  0], [ 1,  0,  0], [ 0,  1,  0], [ 0,  0,  1]], \n",
    "                     [[-1,  0,  0], [ 1,  0,  0], [ 0,  1,  0], [ 0,  0, -1]], \n",
    "                     [[-1,  0,  0], [ 1,  0,  0], [ 0, -1,  0], [ 0,  0,  1]], \n",
    "                     [[-1,  0,  0], [ 1,  0,  0], [ 0, -1,  0], [ 0,  0, -1]]])"
   ]
  },
  {
   "cell_type": "code",
   "execution_count": 6,
   "id": "af274e6c",
   "metadata": {},
   "outputs": [],
   "source": [
    "filename = \"package/simplicial-representations/rhombic-dodecahedron.csv\"\n",
    "save(polygons, filename)\n",
    "assert(load(filename) == polygons).all()"
   ]
  },
  {
   "cell_type": "code",
   "execution_count": null,
   "id": "5f809bdf",
   "metadata": {},
   "outputs": [],
   "source": []
  }
 ],
 "metadata": {
  "kernelspec": {
   "display_name": "Python 3 (ipykernel)",
   "language": "python",
   "name": "python3"
  },
  "language_info": {
   "codemirror_mode": {
    "name": "ipython",
    "version": 3
   },
   "file_extension": ".py",
   "mimetype": "text/x-python",
   "name": "python",
   "nbconvert_exporter": "python",
   "pygments_lexer": "ipython3",
   "version": "3.11.6"
  }
 },
 "nbformat": 4,
 "nbformat_minor": 5
}
